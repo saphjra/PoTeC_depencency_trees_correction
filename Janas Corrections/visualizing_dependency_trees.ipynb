{
 "cells": [
  {
   "cell_type": "code",
   "id": "initial_id",
   "metadata": {},
   "source": [
    "from pathlib import Path\n",
    "from typing import Any\n",
    "\n",
    "import pandas as pd\n",
    "import spacy\n",
    "import spacy_transformers\n",
    "import benepar\n",
    "from spacy import displacy\n",
    "\n"
   ],
   "outputs": [],
   "execution_count": null
  },
  {
   "cell_type": "code",
   "id": "bf0261236d198ea2",
   "metadata": {},
   "source": [
    "path = '/home/popos/PycharmProjects/PoTeC_depencency_trees_correction/stimuli'\n",
    "\n",
    "nlp = spacy.load('de_core_news_sm')\n",
    "nlp.add_pipe(\"benepar\", config={\"model\": \"benepar_de2\"})\n",
    "\n",
    "stimuli_file = Path(f'{path}/uncorrected_constituency_trees.tsv')\n",
    "stimuli = pd.read_csv(stimuli_file, sep='\\t', keep_default_na=False,\n",
    "                      na_values=['#N/A', '#N/A N/A', '#NA', '-1.#IND', '-1.#QNAN', '-NaN', '-nan', '1.#IND', '1.#QNAN', '<NA>', 'N/A', 'NA', 'NaN', 'None', 'n/a', 'nan', ''])\n"
   ],
   "outputs": [],
   "execution_count": null
  },
  {
   "cell_type": "code",
   "id": "f64e7d85a3c26952",
   "metadata": {},
   "source": [
    "sentences = stimuli['sentence']\n",
    "#sentences_old = stimuli_old['sentence']\n",
    "print((sentences))"
   ],
   "outputs": [],
   "execution_count": null
  },
  {
   "cell_type": "code",
   "id": "2002f2bec00ccfdb",
   "metadata": {},
   "source": [
    "def display_syntax_trees(sentences):\n",
    "    if isinstance(sentences, str):\n",
    "        sentences = [sentences]\n",
    "    for sentence in sentences:\n",
    "        doc = nlp(sentence)\n",
    "        displacy.render(doc, style='dep', options={'distance': 90, 'compact': True, 'bg': '#f0f0f5', 'color': '#000000'})\n",
    "        #svg = displacy.render(doc, style=\"dep\")\n",
    "        #output_path = Path(f\"/home/popos/PycharmProjects/PoTeC_depencency_trees_correction/additional_scripts/images/sentence.svg\")\n",
    "        #output_path.open(\"w\", encoding=\"utf-8\").write(svg)"
   ],
   "outputs": [],
   "execution_count": null
  },
  {
   "cell_type": "code",
   "id": "4155d0ec4ad5c435",
   "metadata": {},
   "source": [
    "def hscroll(activate=True):\n",
    "  \"\"\"activate/deactivate horizontal scrolling for wide output cells\"\"\"\n",
    "  from IPython.display import display, HTML\n",
    "  style = ('pre-wrap','pre')[activate] # select white-space style\n",
    "  display(HTML(\"<style>pre {white-space: %s !important}</style>\" % style))\n",
    "hscroll()"
   ],
   "outputs": [],
   "execution_count": null
  },
  {
   "metadata": {},
   "cell_type": "code",
   "source": "display_syntax_trees(sentences[6:16]) #b0",
   "id": "e451a934826e8268",
   "outputs": [],
   "execution_count": null
  },
  {
   "cell_type": "code",
   "id": "119ba5fd5946cd38",
   "metadata": {},
   "source": "display_syntax_trees(sentences[33:43]) #b1 \n",
   "outputs": [],
   "execution_count": null
  },
  {
   "metadata": {},
   "cell_type": "code",
   "source": "display_syntax_trees(sentences[22:33])# b2\n",
   "id": "6ba8de2ea5b3b2ed",
   "outputs": [],
   "execution_count": null
  },
  {
   "cell_type": "code",
   "id": "e9cb2b415217ec4a",
   "metadata": {},
   "source": "display_syntax_trees(sentences[60:71])  #b3\n",
   "outputs": [],
   "execution_count": null
  },
  {
   "metadata": {},
   "cell_type": "code",
   "source": "display_syntax_trees(sentences[50:59]) #b4",
   "id": "3ae29ee5877e6962",
   "outputs": [],
   "execution_count": null
  },
  {
   "cell_type": "code",
   "id": "6fea0af1dcc36ff9",
   "metadata": {},
   "source": "display_syntax_trees(sentences[80:90]) #b5",
   "outputs": [],
   "execution_count": null
  },
  {
   "metadata": {},
   "cell_type": "code",
   "source": "display_syntax_trees(sentences[0:6]) # P0",
   "id": "d4896dbe44a66a65",
   "outputs": [],
   "execution_count": null
  },
  {
   "metadata": {},
   "cell_type": "code",
   "source": "display_syntax_trees(sentences[72:80])  #p1",
   "id": "868cd917406d6b22",
   "outputs": [],
   "execution_count": null
  },
  {
   "metadata": {},
   "cell_type": "code",
   "source": "display_syntax_trees(sentences[43:53]) #p2",
   "id": "9c97d712cabd82b",
   "outputs": [],
   "execution_count": null
  },
  {
   "metadata": {},
   "cell_type": "code",
   "source": "display_syntax_trees(sentences[16:26]) #p3",
   "id": "c3d6da9aa64b5c37",
   "outputs": [],
   "execution_count": null
  },
  {
   "metadata": {},
   "cell_type": "code",
   "source": "display_syntax_trees(sentences[88:95])  #p4",
   "id": "bb386a0a34276ca4",
   "outputs": [],
   "execution_count": null
  },
  {
   "cell_type": "code",
   "id": "b9bac8a883477169",
   "metadata": {},
   "source": "display_syntax_trees(sentences[94:101]) #p5",
   "outputs": [],
   "execution_count": null
  },
  {
   "cell_type": "code",
   "id": "fe4762f8e343134b",
   "metadata": {},
   "source": [],
   "outputs": [],
   "execution_count": null
  }
 ],
 "metadata": {
  "kernelspec": {
   "display_name": "Python 3 (ipykernel)",
   "language": "python",
   "name": "python3"
  },
  "language_info": {
   "codemirror_mode": {
    "name": "ipython",
    "version": 3
   },
   "file_extension": ".py",
   "mimetype": "text/x-python",
   "name": "python",
   "nbconvert_exporter": "python",
   "pygments_lexer": "ipython3",
   "version": "3.10.14"
  }
 },
 "nbformat": 4,
 "nbformat_minor": 5
}
