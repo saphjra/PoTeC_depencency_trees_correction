{
 "cells": [
  {
   "cell_type": "markdown",
   "source": [
    "# ====================================================================\n",
    "# Goal: Build an interactive map with animation\n",
    "\n",
    "# Task 1: Data Processing\n",
    "# Task 2: Visualization\n",
    "# Task 3: Interaction \n",
    "# Task 4: Animation\n",
    "# ====================================================================\n",
    "\n",
    "# This map shows the geographic distribution of tech companies in the US.\n",
    "# Each circle upon one city in the map represents the total market cap \n",
    "# and the number of employees of the companies in that city,\n",
    "# which are encoded in the color and size respectively.\n",
    "\n",
    "# The user can tap on a circle in the map to show in the subplot \n",
    "# the market cap and number of employees of each company in that city.\n",
    "\n",
    "# The user can use the slider to change the lower bound of the market cap\n",
    "# to filter out the companies with a market cap smaller than this value.\n",
    "\n",
    "# The user can click the play button to see the animation of the changes \n",
    "# in the market cap and the number of employees over the years.\n",
    "\n",
    "# Setting up:\n",
    "# This script runs with Bokeh version 3.3.4"
   ],
   "metadata": {
    "collapsed": false
   },
   "id": "c05aa523459b3759"
  },
  {
   "cell_type": "code",
   "execution_count": 258,
   "outputs": [],
   "source": [
    "\n",
    "import pandas as pd\n",
    "import numpy as np\n",
    "from bokeh.io import curdoc, show, output_notebook\n",
    "from bokeh.layouts import column, row\n",
    "from bokeh.models import Div, Range1d, WMTSTileSource\n",
    "from bokeh.plotting import figure\n",
    "from bokeh.transform import linear_cmap\n",
    "from bokeh.palettes import Sunset\n",
    "from bokeh.models import (ColumnDataSource, NumeralTickFormatter, \n",
    "                          HoverTool, Label, Button, Slider, Text)\n",
    "pd.options.mode.copy_on_write = True \n",
    "\n"
   ],
   "metadata": {
    "collapsed": false,
    "ExecuteTime": {
     "end_time": "2024-05-25T13:39:38.864331600Z",
     "start_time": "2024-05-25T13:39:38.788700500Z"
    }
   },
   "id": "7c0673ddc59eca6c"
  },
  {
   "cell_type": "code",
   "execution_count": 259,
   "outputs": [
    {
     "data": {
      "text/html": "    <style>\n        .bk-notebook-logo {\n            display: block;\n            width: 20px;\n            height: 20px;\n            background-image: url(data:image/png;base64,iVBORw0KGgoAAAANSUhEUgAAABQAAAAUCAYAAACNiR0NAAAABHNCSVQICAgIfAhkiAAAAAlwSFlzAAALEgAACxIB0t1+/AAAABx0RVh0U29mdHdhcmUAQWRvYmUgRmlyZXdvcmtzIENTNui8sowAAAOkSURBVDiNjZRtaJVlGMd/1/08zzln5zjP1LWcU9N0NkN8m2CYjpgQYQXqSs0I84OLIC0hkEKoPtiH3gmKoiJDU7QpLgoLjLIQCpEsNJ1vqUOdO7ppbuec5+V+rj4ctwzd8IIbbi6u+8f1539dt3A78eXC7QizUF7gyV1fD1Yqg4JWz84yffhm0qkFqBogB9rM8tZdtwVsPUhWhGcFJngGeWrPzHm5oaMmkfEg1usvLFyc8jLRqDOMru7AyC8saQr7GG7f5fvDeH7Ej8CM66nIF+8yngt6HWaKh7k49Soy9nXurCi1o3qUbS3zWfrYeQDTB/Qj6kX6Ybhw4B+bOYoLKCC9H3Nu/leUTZ1JdRWkkn2ldcCamzrcf47KKXdAJllSlxAOkRgyHsGC/zRday5Qld9DyoM4/q/rUoy/CXh3jzOu3bHUVZeU+DEn8FInkPBFlu3+nW3Nw0mk6vCDiWg8CeJaxEwuHS3+z5RgY+YBR6V1Z1nxSOfoaPa4LASWxxdNp+VWTk7+4vzaou8v8PN+xo+KY2xsw6une2frhw05CTYOmQvsEhjhWjn0bmXPjpE1+kplmmkP3suftwTubK9Vq22qKmrBhpY4jvd5afdRA3wGjFAgcnTK2s4hY0/GPNIb0nErGMCRxWOOX64Z8RAC4oCXdklmEvcL8o0BfkNK4lUg9HTl+oPlQxdNo3Mg4Nv175e/1LDGzZen30MEjRUtmXSfiTVu1kK8W4txyV6BMKlbgk3lMwYCiusNy9fVfvvwMxv8Ynl6vxoByANLTWplvuj/nF9m2+PDtt1eiHPBr1oIfhCChQMBw6Aw0UulqTKZdfVvfG7VcfIqLG9bcldL/+pdWTLxLUy8Qq38heUIjh4XlzZxzQm19lLFlr8vdQ97rjZVOLf8nclzckbcD4wxXMidpX30sFd37Fv/GtwwhzhxGVAprjbg0gCAEeIgwCZyTV2Z1REEW8O4py0wsjeloKoMr6iCY6dP92H6Vw/oTyICIthibxjm/DfN9lVz8IqtqKYLUXfoKVMVQVVJOElGjrnnUt9T9wbgp8AyYKaGlqingHZU/uG2NTZSVqwHQTWkx9hxjkpWDaCg6Ckj5qebgBVbT3V3NNXMSiWSDdGV3hrtzla7J+duwPOToIg42ChPQOQjspnSlp1V+Gjdged7+8UN5CRAV7a5EdFNwCjEaBR27b3W890TE7g24NAP/mMDXRWrGoFPQI9ls/MWO2dWFAar/xcOIImbbpA3zgAAAABJRU5ErkJggg==);\n        }\n    </style>\n    <div>\n        <a href=\"https://bokeh.org\" target=\"_blank\" class=\"bk-notebook-logo\"></a>\n        <span id=\"bcde95ec-d3cd-4fb7-94fb-92a5455034d1\">Loading BokehJS ...</span>\n    </div>\n"
     },
     "metadata": {},
     "output_type": "display_data"
    },
    {
     "data": {
      "application/javascript": "(function(root) {\n  function now() {\n    return new Date();\n  }\n\n  const force = true;\n\n  if (typeof root._bokeh_onload_callbacks === \"undefined\" || force === true) {\n    root._bokeh_onload_callbacks = [];\n    root._bokeh_is_loading = undefined;\n  }\n\nconst JS_MIME_TYPE = 'application/javascript';\n  const HTML_MIME_TYPE = 'text/html';\n  const EXEC_MIME_TYPE = 'application/vnd.bokehjs_exec.v0+json';\n  const CLASS_NAME = 'output_bokeh rendered_html';\n\n  /**\n   * Render data to the DOM node\n   */\n  function render(props, node) {\n    const script = document.createElement(\"script\");\n    node.appendChild(script);\n  }\n\n  /**\n   * Handle when an output is cleared or removed\n   */\n  function handleClearOutput(event, handle) {\n    function drop(id) {\n      const view = Bokeh.index.get_by_id(id)\n      if (view != null) {\n        view.model.document.clear()\n        Bokeh.index.delete(view)\n      }\n    }\n\n    const cell = handle.cell;\n\n    const id = cell.output_area._bokeh_element_id;\n    const server_id = cell.output_area._bokeh_server_id;\n\n    // Clean up Bokeh references\n    if (id != null) {\n      drop(id)\n    }\n\n    if (server_id !== undefined) {\n      // Clean up Bokeh references\n      const cmd_clean = \"from bokeh.io.state import curstate; print(curstate().uuid_to_server['\" + server_id + \"'].get_sessions()[0].document.roots[0]._id)\";\n      cell.notebook.kernel.execute(cmd_clean, {\n        iopub: {\n          output: function(msg) {\n            const id = msg.content.text.trim()\n            drop(id)\n          }\n        }\n      });\n      // Destroy server and session\n      const cmd_destroy = \"import bokeh.io.notebook as ion; ion.destroy_server('\" + server_id + \"')\";\n      cell.notebook.kernel.execute(cmd_destroy);\n    }\n  }\n\n  /**\n   * Handle when a new output is added\n   */\n  function handleAddOutput(event, handle) {\n    const output_area = handle.output_area;\n    const output = handle.output;\n\n    // limit handleAddOutput to display_data with EXEC_MIME_TYPE content only\n    if ((output.output_type != \"display_data\") || (!Object.prototype.hasOwnProperty.call(output.data, EXEC_MIME_TYPE))) {\n      return\n    }\n\n    const toinsert = output_area.element.find(\".\" + CLASS_NAME.split(' ')[0]);\n\n    if (output.metadata[EXEC_MIME_TYPE][\"id\"] !== undefined) {\n      toinsert[toinsert.length - 1].firstChild.textContent = output.data[JS_MIME_TYPE];\n      // store reference to embed id on output_area\n      output_area._bokeh_element_id = output.metadata[EXEC_MIME_TYPE][\"id\"];\n    }\n    if (output.metadata[EXEC_MIME_TYPE][\"server_id\"] !== undefined) {\n      const bk_div = document.createElement(\"div\");\n      bk_div.innerHTML = output.data[HTML_MIME_TYPE];\n      const script_attrs = bk_div.children[0].attributes;\n      for (let i = 0; i < script_attrs.length; i++) {\n        toinsert[toinsert.length - 1].firstChild.setAttribute(script_attrs[i].name, script_attrs[i].value);\n        toinsert[toinsert.length - 1].firstChild.textContent = bk_div.children[0].textContent\n      }\n      // store reference to server id on output_area\n      output_area._bokeh_server_id = output.metadata[EXEC_MIME_TYPE][\"server_id\"];\n    }\n  }\n\n  function register_renderer(events, OutputArea) {\n\n    function append_mime(data, metadata, element) {\n      // create a DOM node to render to\n      const toinsert = this.create_output_subarea(\n        metadata,\n        CLASS_NAME,\n        EXEC_MIME_TYPE\n      );\n      this.keyboard_manager.register_events(toinsert);\n      // Render to node\n      const props = {data: data, metadata: metadata[EXEC_MIME_TYPE]};\n      render(props, toinsert[toinsert.length - 1]);\n      element.append(toinsert);\n      return toinsert\n    }\n\n    /* Handle when an output is cleared or removed */\n    events.on('clear_output.CodeCell', handleClearOutput);\n    events.on('delete.Cell', handleClearOutput);\n\n    /* Handle when a new output is added */\n    events.on('output_added.OutputArea', handleAddOutput);\n\n    /**\n     * Register the mime type and append_mime function with output_area\n     */\n    OutputArea.prototype.register_mime_type(EXEC_MIME_TYPE, append_mime, {\n      /* Is output safe? */\n      safe: true,\n      /* Index of renderer in `output_area.display_order` */\n      index: 0\n    });\n  }\n\n  // register the mime type if in Jupyter Notebook environment and previously unregistered\n  if (root.Jupyter !== undefined) {\n    const events = require('base/js/events');\n    const OutputArea = require('notebook/js/outputarea').OutputArea;\n\n    if (OutputArea.prototype.mime_types().indexOf(EXEC_MIME_TYPE) == -1) {\n      register_renderer(events, OutputArea);\n    }\n  }\n  if (typeof (root._bokeh_timeout) === \"undefined\" || force === true) {\n    root._bokeh_timeout = Date.now() + 5000;\n    root._bokeh_failed_load = false;\n  }\n\n  const NB_LOAD_WARNING = {'data': {'text/html':\n     \"<div style='background-color: #fdd'>\\n\"+\n     \"<p>\\n\"+\n     \"BokehJS does not appear to have successfully loaded. If loading BokehJS from CDN, this \\n\"+\n     \"may be due to a slow or bad network connection. Possible fixes:\\n\"+\n     \"</p>\\n\"+\n     \"<ul>\\n\"+\n     \"<li>re-rerun `output_notebook()` to attempt to load from CDN again, or</li>\\n\"+\n     \"<li>use INLINE resources instead, as so:</li>\\n\"+\n     \"</ul>\\n\"+\n     \"<code>\\n\"+\n     \"from bokeh.resources import INLINE\\n\"+\n     \"output_notebook(resources=INLINE)\\n\"+\n     \"</code>\\n\"+\n     \"</div>\"}};\n\n  function display_loaded() {\n    const el = document.getElementById(\"bcde95ec-d3cd-4fb7-94fb-92a5455034d1\");\n    if (el != null) {\n      el.textContent = \"BokehJS is loading...\";\n    }\n    if (root.Bokeh !== undefined) {\n      if (el != null) {\n        el.textContent = \"BokehJS \" + root.Bokeh.version + \" successfully loaded.\";\n      }\n    } else if (Date.now() < root._bokeh_timeout) {\n      setTimeout(display_loaded, 100)\n    }\n  }\n\n  function run_callbacks() {\n    try {\n      root._bokeh_onload_callbacks.forEach(function(callback) {\n        if (callback != null)\n          callback();\n      });\n    } finally {\n      delete root._bokeh_onload_callbacks\n    }\n    console.debug(\"Bokeh: all callbacks have finished\");\n  }\n\n  function load_libs(css_urls, js_urls, callback) {\n    if (css_urls == null) css_urls = [];\n    if (js_urls == null) js_urls = [];\n\n    root._bokeh_onload_callbacks.push(callback);\n    if (root._bokeh_is_loading > 0) {\n      console.debug(\"Bokeh: BokehJS is being loaded, scheduling callback at\", now());\n      return null;\n    }\n    if (js_urls == null || js_urls.length === 0) {\n      run_callbacks();\n      return null;\n    }\n    console.debug(\"Bokeh: BokehJS not loaded, scheduling load and callback at\", now());\n    root._bokeh_is_loading = css_urls.length + js_urls.length;\n\n    function on_load() {\n      root._bokeh_is_loading--;\n      if (root._bokeh_is_loading === 0) {\n        console.debug(\"Bokeh: all BokehJS libraries/stylesheets loaded\");\n        run_callbacks()\n      }\n    }\n\n    function on_error(url) {\n      console.error(\"failed to load \" + url);\n    }\n\n    for (let i = 0; i < css_urls.length; i++) {\n      const url = css_urls[i];\n      const element = document.createElement(\"link\");\n      element.onload = on_load;\n      element.onerror = on_error.bind(null, url);\n      element.rel = \"stylesheet\";\n      element.type = \"text/css\";\n      element.href = url;\n      console.debug(\"Bokeh: injecting link tag for BokehJS stylesheet: \", url);\n      document.body.appendChild(element);\n    }\n\n    for (let i = 0; i < js_urls.length; i++) {\n      const url = js_urls[i];\n      const element = document.createElement('script');\n      element.onload = on_load;\n      element.onerror = on_error.bind(null, url);\n      element.async = false;\n      element.src = url;\n      console.debug(\"Bokeh: injecting script tag for BokehJS library: \", url);\n      document.head.appendChild(element);\n    }\n  };\n\n  function inject_raw_css(css) {\n    const element = document.createElement(\"style\");\n    element.appendChild(document.createTextNode(css));\n    document.body.appendChild(element);\n  }\n\n  const js_urls = [\"https://cdn.bokeh.org/bokeh/release/bokeh-3.3.4.min.js\", \"https://cdn.bokeh.org/bokeh/release/bokeh-gl-3.3.4.min.js\", \"https://cdn.bokeh.org/bokeh/release/bokeh-widgets-3.3.4.min.js\", \"https://cdn.bokeh.org/bokeh/release/bokeh-tables-3.3.4.min.js\", \"https://cdn.bokeh.org/bokeh/release/bokeh-mathjax-3.3.4.min.js\"];\n  const css_urls = [];\n\n  const inline_js = [    function(Bokeh) {\n      Bokeh.set_log_level(\"info\");\n    },\nfunction(Bokeh) {\n    }\n  ];\n\n  function run_inline_js() {\n    if (root.Bokeh !== undefined || force === true) {\n          for (let i = 0; i < inline_js.length; i++) {\n      inline_js[i].call(root, root.Bokeh);\n    }\nif (force === true) {\n        display_loaded();\n      }} else if (Date.now() < root._bokeh_timeout) {\n      setTimeout(run_inline_js, 100);\n    } else if (!root._bokeh_failed_load) {\n      console.log(\"Bokeh: BokehJS failed to load within specified timeout.\");\n      root._bokeh_failed_load = true;\n    } else if (force !== true) {\n      const cell = $(document.getElementById(\"bcde95ec-d3cd-4fb7-94fb-92a5455034d1\")).parents('.cell').data().cell;\n      cell.output_area.append_execute_result(NB_LOAD_WARNING)\n    }\n  }\n\n  if (root._bokeh_is_loading === 0) {\n    console.debug(\"Bokeh: BokehJS loaded, going straight to plotting\");\n    run_inline_js();\n  } else {\n    load_libs(css_urls, js_urls, function() {\n      console.debug(\"Bokeh: BokehJS plotting callback run at\", now());\n      run_inline_js();\n    });\n  }\n}(window));",
      "application/vnd.bokehjs_load.v0+json": "(function(root) {\n  function now() {\n    return new Date();\n  }\n\n  const force = true;\n\n  if (typeof root._bokeh_onload_callbacks === \"undefined\" || force === true) {\n    root._bokeh_onload_callbacks = [];\n    root._bokeh_is_loading = undefined;\n  }\n\n\n  if (typeof (root._bokeh_timeout) === \"undefined\" || force === true) {\n    root._bokeh_timeout = Date.now() + 5000;\n    root._bokeh_failed_load = false;\n  }\n\n  const NB_LOAD_WARNING = {'data': {'text/html':\n     \"<div style='background-color: #fdd'>\\n\"+\n     \"<p>\\n\"+\n     \"BokehJS does not appear to have successfully loaded. If loading BokehJS from CDN, this \\n\"+\n     \"may be due to a slow or bad network connection. Possible fixes:\\n\"+\n     \"</p>\\n\"+\n     \"<ul>\\n\"+\n     \"<li>re-rerun `output_notebook()` to attempt to load from CDN again, or</li>\\n\"+\n     \"<li>use INLINE resources instead, as so:</li>\\n\"+\n     \"</ul>\\n\"+\n     \"<code>\\n\"+\n     \"from bokeh.resources import INLINE\\n\"+\n     \"output_notebook(resources=INLINE)\\n\"+\n     \"</code>\\n\"+\n     \"</div>\"}};\n\n  function display_loaded() {\n    const el = document.getElementById(\"bcde95ec-d3cd-4fb7-94fb-92a5455034d1\");\n    if (el != null) {\n      el.textContent = \"BokehJS is loading...\";\n    }\n    if (root.Bokeh !== undefined) {\n      if (el != null) {\n        el.textContent = \"BokehJS \" + root.Bokeh.version + \" successfully loaded.\";\n      }\n    } else if (Date.now() < root._bokeh_timeout) {\n      setTimeout(display_loaded, 100)\n    }\n  }\n\n  function run_callbacks() {\n    try {\n      root._bokeh_onload_callbacks.forEach(function(callback) {\n        if (callback != null)\n          callback();\n      });\n    } finally {\n      delete root._bokeh_onload_callbacks\n    }\n    console.debug(\"Bokeh: all callbacks have finished\");\n  }\n\n  function load_libs(css_urls, js_urls, callback) {\n    if (css_urls == null) css_urls = [];\n    if (js_urls == null) js_urls = [];\n\n    root._bokeh_onload_callbacks.push(callback);\n    if (root._bokeh_is_loading > 0) {\n      console.debug(\"Bokeh: BokehJS is being loaded, scheduling callback at\", now());\n      return null;\n    }\n    if (js_urls == null || js_urls.length === 0) {\n      run_callbacks();\n      return null;\n    }\n    console.debug(\"Bokeh: BokehJS not loaded, scheduling load and callback at\", now());\n    root._bokeh_is_loading = css_urls.length + js_urls.length;\n\n    function on_load() {\n      root._bokeh_is_loading--;\n      if (root._bokeh_is_loading === 0) {\n        console.debug(\"Bokeh: all BokehJS libraries/stylesheets loaded\");\n        run_callbacks()\n      }\n    }\n\n    function on_error(url) {\n      console.error(\"failed to load \" + url);\n    }\n\n    for (let i = 0; i < css_urls.length; i++) {\n      const url = css_urls[i];\n      const element = document.createElement(\"link\");\n      element.onload = on_load;\n      element.onerror = on_error.bind(null, url);\n      element.rel = \"stylesheet\";\n      element.type = \"text/css\";\n      element.href = url;\n      console.debug(\"Bokeh: injecting link tag for BokehJS stylesheet: \", url);\n      document.body.appendChild(element);\n    }\n\n    for (let i = 0; i < js_urls.length; i++) {\n      const url = js_urls[i];\n      const element = document.createElement('script');\n      element.onload = on_load;\n      element.onerror = on_error.bind(null, url);\n      element.async = false;\n      element.src = url;\n      console.debug(\"Bokeh: injecting script tag for BokehJS library: \", url);\n      document.head.appendChild(element);\n    }\n  };\n\n  function inject_raw_css(css) {\n    const element = document.createElement(\"style\");\n    element.appendChild(document.createTextNode(css));\n    document.body.appendChild(element);\n  }\n\n  const js_urls = [\"https://cdn.bokeh.org/bokeh/release/bokeh-3.3.4.min.js\", \"https://cdn.bokeh.org/bokeh/release/bokeh-gl-3.3.4.min.js\", \"https://cdn.bokeh.org/bokeh/release/bokeh-widgets-3.3.4.min.js\", \"https://cdn.bokeh.org/bokeh/release/bokeh-tables-3.3.4.min.js\", \"https://cdn.bokeh.org/bokeh/release/bokeh-mathjax-3.3.4.min.js\"];\n  const css_urls = [];\n\n  const inline_js = [    function(Bokeh) {\n      Bokeh.set_log_level(\"info\");\n    },\nfunction(Bokeh) {\n    }\n  ];\n\n  function run_inline_js() {\n    if (root.Bokeh !== undefined || force === true) {\n          for (let i = 0; i < inline_js.length; i++) {\n      inline_js[i].call(root, root.Bokeh);\n    }\nif (force === true) {\n        display_loaded();\n      }} else if (Date.now() < root._bokeh_timeout) {\n      setTimeout(run_inline_js, 100);\n    } else if (!root._bokeh_failed_load) {\n      console.log(\"Bokeh: BokehJS failed to load within specified timeout.\");\n      root._bokeh_failed_load = true;\n    } else if (force !== true) {\n      const cell = $(document.getElementById(\"bcde95ec-d3cd-4fb7-94fb-92a5455034d1\")).parents('.cell').data().cell;\n      cell.output_area.append_execute_result(NB_LOAD_WARNING)\n    }\n  }\n\n  if (root._bokeh_is_loading === 0) {\n    console.debug(\"Bokeh: BokehJS loaded, going straight to plotting\");\n    run_inline_js();\n  } else {\n    load_libs(css_urls, js_urls, function() {\n      console.debug(\"Bokeh: BokehJS plotting callback run at\", now());\n      run_inline_js();\n    });\n  }\n}(window));"
     },
     "metadata": {},
     "output_type": "display_data"
    }
   ],
   "source": [
    "output_notebook()\n",
    "# ====================================================================\n",
    "# Task 1: Data Processing\n",
    "# ====================================================================\n",
    "\n",
    "# Read the raw data and inspect the rows and columns\n",
    "url = 'https://docs.google.com/spreadsheets/d/e/2PACX-1vStUglUExt-kL-fVYcit-h4-V1Vg3HUkvDEV6KwZGw_6r46duWKYx9ZGI5Bctkrv05DF0nEWYqR14Qb/pub?gid=860901304&single=true&output=csv'\n",
    "us_company_map = pd.read_csv(url)\n",
    "\n",
    "# The part of plotting the map is not required in the tasks.\n",
    "# To learn more about it, you are recommended to go through the contents in\n",
    "# Bokeh Tutorial 09. Geographic Plots\n",
    "# https://nbviewer.org/github/bokeh/bokeh-notebooks/blob/master/tutorial/09%20-%20Geographic%20Plots.ipynb\n",
    "\n",
    "# The longitude and latitude (degrees) of the cities\n",
    "# are in the column 'lng' and 'lat' respectively.\n",
    "# In order to plot the cities on the map,\n",
    "# You need to convert them to web Mercator coordinates (meters)\n",
    "# and store them in the columns 'x' and 'y' respectively.\n",
    "# A brief explanation of web Mercator projection:\n",
    "# https://stackoverflow.com/questions/14329691/convert-latitude-longitude-point-to-a-pixels-x-y-on-mercator-projection\n",
    "k = 6378137 # Earth radius in meters\n",
    "us_company_map[\"x\"] = us_company_map.lng * (k * np.pi/180.0)\n",
    "us_company_map[\"y\"] = np.log(np.tan((90 + us_company_map.lat) * np.pi/360.0)) * k"
   ],
   "metadata": {
    "collapsed": false,
    "ExecuteTime": {
     "end_time": "2024-05-25T13:39:39.999391900Z",
     "start_time": "2024-05-25T13:39:38.808060800Z"
    }
   },
   "id": "21805ee18ba44eb7"
  },
  {
   "cell_type": "code",
   "execution_count": 260,
   "outputs": [
    {
     "data": {
      "text/plain": "                          Industry                          Company Symbol  \\\n0                  Internet Retail                 Amazon.com, Inc.   AMZN   \n1  Information Technology Services   Cognizant Technology Solutions   CTSH   \n2  Information Technology Services  International Business Machines    IBM   \n3  Information Technology Services           Concentrix Corporation   CNXC   \n4            Electronic Components                       Jabil Inc.    JBL   \n\n  Country State            City      lat       lng Cap Size  Market Cap 2022  \\\n0     USA    WA         Seattle  47.6211 -122.3244    Large        855.87600   \n1     USA    NJ         Teaneck  40.8900  -74.0107    Large         29.28128   \n2     USA    NY    North Castle  41.1331  -73.6949    Large        127.61816   \n3     USA    CA         Fremont  37.5265 -121.9843   Medium          6.81113   \n4     USA    FL  St. Petersburg  27.7931  -82.6652   Medium          9.11152   \n\n   ...  Market Cap 2020  Market Cap 2019  Market Cap 2018  Employees 2022  \\\n0  ...       1641.49272        920.22432        737.46727         1544000   \n1  ...         43.43350         33.86292         36.37404          349400   \n2  ...        112.48637        119.02752        101.12083          307600   \n3  ...          5.04900              NaN              NaN          290000   \n4  ...          6.39043          6.28456          3.83563          250000   \n\n   Employees 2021  Employees 2020  Employees 2019  Employees 2018  \\\n0       1608000.0       1298000.0        798000.0        647500.0   \n1        330600.0        289500.0        292500.0        281600.0   \n2        345000.0        345900.0        383800.0        381100.0   \n3        290000.0        270000.0        235000.0             NaN   \n4        238000.0        240000.0        200000.0        199000.0   \n\n              x             y  \n0 -1.361709e+07  6.044049e+06  \n1 -8.238833e+06  4.996130e+06  \n2 -8.203679e+06  5.031994e+06  \n3 -1.357923e+07  4.512750e+06  \n4 -9.202248e+06  3.222913e+06  \n\n[5 rows x 21 columns]",
      "text/html": "<div>\n<style scoped>\n    .dataframe tbody tr th:only-of-type {\n        vertical-align: middle;\n    }\n\n    .dataframe tbody tr th {\n        vertical-align: top;\n    }\n\n    .dataframe thead th {\n        text-align: right;\n    }\n</style>\n<table border=\"1\" class=\"dataframe\">\n  <thead>\n    <tr style=\"text-align: right;\">\n      <th></th>\n      <th>Industry</th>\n      <th>Company</th>\n      <th>Symbol</th>\n      <th>Country</th>\n      <th>State</th>\n      <th>City</th>\n      <th>lat</th>\n      <th>lng</th>\n      <th>Cap Size</th>\n      <th>Market Cap 2022</th>\n      <th>...</th>\n      <th>Market Cap 2020</th>\n      <th>Market Cap 2019</th>\n      <th>Market Cap 2018</th>\n      <th>Employees 2022</th>\n      <th>Employees 2021</th>\n      <th>Employees 2020</th>\n      <th>Employees 2019</th>\n      <th>Employees 2018</th>\n      <th>x</th>\n      <th>y</th>\n    </tr>\n  </thead>\n  <tbody>\n    <tr>\n      <th>0</th>\n      <td>Internet Retail</td>\n      <td>Amazon.com, Inc.</td>\n      <td>AMZN</td>\n      <td>USA</td>\n      <td>WA</td>\n      <td>Seattle</td>\n      <td>47.6211</td>\n      <td>-122.3244</td>\n      <td>Large</td>\n      <td>855.87600</td>\n      <td>...</td>\n      <td>1641.49272</td>\n      <td>920.22432</td>\n      <td>737.46727</td>\n      <td>1544000</td>\n      <td>1608000.0</td>\n      <td>1298000.0</td>\n      <td>798000.0</td>\n      <td>647500.0</td>\n      <td>-1.361709e+07</td>\n      <td>6.044049e+06</td>\n    </tr>\n    <tr>\n      <th>1</th>\n      <td>Information Technology Services</td>\n      <td>Cognizant Technology Solutions</td>\n      <td>CTSH</td>\n      <td>USA</td>\n      <td>NJ</td>\n      <td>Teaneck</td>\n      <td>40.8900</td>\n      <td>-74.0107</td>\n      <td>Large</td>\n      <td>29.28128</td>\n      <td>...</td>\n      <td>43.43350</td>\n      <td>33.86292</td>\n      <td>36.37404</td>\n      <td>349400</td>\n      <td>330600.0</td>\n      <td>289500.0</td>\n      <td>292500.0</td>\n      <td>281600.0</td>\n      <td>-8.238833e+06</td>\n      <td>4.996130e+06</td>\n    </tr>\n    <tr>\n      <th>2</th>\n      <td>Information Technology Services</td>\n      <td>International Business Machines</td>\n      <td>IBM</td>\n      <td>USA</td>\n      <td>NY</td>\n      <td>North Castle</td>\n      <td>41.1331</td>\n      <td>-73.6949</td>\n      <td>Large</td>\n      <td>127.61816</td>\n      <td>...</td>\n      <td>112.48637</td>\n      <td>119.02752</td>\n      <td>101.12083</td>\n      <td>307600</td>\n      <td>345000.0</td>\n      <td>345900.0</td>\n      <td>383800.0</td>\n      <td>381100.0</td>\n      <td>-8.203679e+06</td>\n      <td>5.031994e+06</td>\n    </tr>\n    <tr>\n      <th>3</th>\n      <td>Information Technology Services</td>\n      <td>Concentrix Corporation</td>\n      <td>CNXC</td>\n      <td>USA</td>\n      <td>CA</td>\n      <td>Fremont</td>\n      <td>37.5265</td>\n      <td>-121.9843</td>\n      <td>Medium</td>\n      <td>6.81113</td>\n      <td>...</td>\n      <td>5.04900</td>\n      <td>NaN</td>\n      <td>NaN</td>\n      <td>290000</td>\n      <td>290000.0</td>\n      <td>270000.0</td>\n      <td>235000.0</td>\n      <td>NaN</td>\n      <td>-1.357923e+07</td>\n      <td>4.512750e+06</td>\n    </tr>\n    <tr>\n      <th>4</th>\n      <td>Electronic Components</td>\n      <td>Jabil Inc.</td>\n      <td>JBL</td>\n      <td>USA</td>\n      <td>FL</td>\n      <td>St. Petersburg</td>\n      <td>27.7931</td>\n      <td>-82.6652</td>\n      <td>Medium</td>\n      <td>9.11152</td>\n      <td>...</td>\n      <td>6.39043</td>\n      <td>6.28456</td>\n      <td>3.83563</td>\n      <td>250000</td>\n      <td>238000.0</td>\n      <td>240000.0</td>\n      <td>200000.0</td>\n      <td>199000.0</td>\n      <td>-9.202248e+06</td>\n      <td>3.222913e+06</td>\n    </tr>\n  </tbody>\n</table>\n<p>5 rows × 21 columns</p>\n</div>"
     },
     "execution_count": 260,
     "metadata": {},
     "output_type": "execute_result"
    }
   ],
   "source": [
    "us_company_map.head()"
   ],
   "metadata": {
    "collapsed": false,
    "ExecuteTime": {
     "end_time": "2024-05-25T13:39:40.059047400Z",
     "start_time": "2024-05-25T13:39:40.000393500Z"
    }
   },
   "id": "8f834163a67bbcd1"
  },
  {
   "cell_type": "code",
   "execution_count": 261,
   "outputs": [],
   "source": [
    "\n",
    "# Specify the WMTS (Web Map Tile Service) Tile Source to create the map\n",
    "# reference:\n",
    "# https://docs.bokeh.org/en/latest/docs/user_guide/topics/geo.html#ug-topics-geo-tile-provider-maps\n",
    "# https://docs.bokeh.org/en/latest/docs/examples/plotting/airports_map.html\n",
    "\n",
    "tile_source = WMTSTileSource(\n",
    "    url = 'http://tiles.stadiamaps.com/tiles/stamen_terrain/{Z}/{X}/{Y}.png',\n",
    "    attribution = \"\"\"\n",
    "        &copy;  <a href=\"http://stamen.com\">Stamen Design</a>\n",
    "        &copy;  <a href=\"http://creativecommons.org/licenses/by/3.0\">CC BY 3.0</a>\n",
    "        &copy;  <a href=\"http://openstreetmap.org\">OpenStreetMap</a>\n",
    "        &copy;  <a href=\"http://www.openstreetmap.org/copyright\">ODbL</a>\n",
    "    \"\"\",\n",
    ")\n",
    "\n",
    "# Set the initial values of the `year``, \n",
    "# the `city`` to show in the subplot,\n",
    "# and the lower bound of market cap in the slide.\n",
    "year = 2022\n",
    "city = 'San Jose'\n",
    "market_cap_lower = 0"
   ],
   "metadata": {
    "collapsed": false,
    "ExecuteTime": {
     "end_time": "2024-05-25T13:39:40.083507600Z",
     "start_time": "2024-05-25T13:39:40.035651500Z"
    }
   },
   "id": "2879a76127232383"
  },
  {
   "cell_type": "code",
   "execution_count": 298,
   "outputs": [],
   "source": [
    "\n",
    "## 1.1 Define a function to create the data frames for the main plot and subplot.\n",
    "\n",
    "# According to the specified `year`, `city`, and `market_cap_lower`,\n",
    "# this function will take the necessary parts from the original data us_company_map, \n",
    "# do processing and calculation, and return the data frames for the plots.\n",
    "# When these values change, this function will be called to create new data frames. \n",
    "\n",
    "def create_df(year, city, market_cap_lower, main=True):\n",
    "\n",
    "    # Take 'Symbol', 'City', 'x', 'y', and Market Cap, Employees in this `year`.\n",
    "    # Rename the columns of Market Cap and Employees in this `year` \n",
    "    # to 'Market Cap' and 'Employees'.\n",
    "    df0=us_company_map[['Symbol', 'City', 'x', 'y', f'Market Cap {year}',f'Employees {year}'\n",
    "    ]].copy()\n",
    "    df0.rename(columns={f'Market Cap {year}':'Market Cap', f'Employees {year}':'Employees'},\n",
    "        inplace=True\n",
    "    )  \n",
    "\n",
    "    # Find the companies with Market Cap below `market_cap_lower` (note the nan values)\n",
    "    # and replace their 'Symbol', 'Market Cap', and 'Employees' with `np.nan`.\n",
    "    df0.fillna(np.nan, inplace=True)\n",
    "    df0.loc[df0['Market Cap'] < market_cap_lower, ['Symbol', 'Market Cap', 'Employees']\n",
    "    ] = np.nan\n",
    "    \n",
    "    # For the main plot, group the companies by 'City' and aggregate the data.\n",
    "    # 'Market Cap' and 'Employees' are summed up,\n",
    "    # 'x' and 'y' are averaged, and 'Symbol' is counted.\n",
    "    # reference:\n",
    "    # https://stackoverflow.com/questions/70879727/apply-same-aggregation-on-multiple-columns-when-using-groupby-python  \n",
    "    if main:\n",
    "        agg_dict = {\n",
    "            'Symbol': 'count',\n",
    "            'Market Cap': 'sum',\n",
    "            'Employees': 'sum',\n",
    "            'x': 'mean',\n",
    "            'y': 'mean'\n",
    "        }    \n",
    "        df1 = df0.groupby('City').agg({**agg_dict}).reset_index()\n",
    "        \n",
    "        # calculate the color of the city in the main plot.\n",
    "        # The range of market caps is from 0.0002 to 2000, in order to represent with limited color\n",
    "        # you can present the base 10 logarithm of the market cap instead.\n",
    "        # Some market caps are 0, which will cause an error in log10, so we add a small constant to all values.\n",
    "        # It will not affect the final plot, because in linear_cmap, the value smaller than the low will be clamped to the low\n",
    "        # Reference:\n",
    "        # https://docs.bokeh.org/en/latest/docs/reference/transform.html#bokeh.transform.linear_cmap\n",
    "        \n",
    "        df1['col'] = round(np.log10(df1['Market Cap'] + 0.0001), 0)\n",
    "        c_col = []\n",
    "        for i in range(len(df1)):\n",
    "            #print(range(len(df1)))\n",
    "           # print(df1['col'][:])\n",
    "            print(int(df1['col'][i])+4)\n",
    "            o_index =int((df1['col'][i])+4)\n",
    "            #print((max(df1['col'][:]),0))\n",
    "            #print(i, df1['col'][i], Sunset[8][i % 8])\n",
    "           # c_col.append(Sunset[8][int(min(max(df1['col'][int(i)], 0), 7))])\n",
    "            c_col.append(Sunset[8][(min(max(o_index, 0), 7))])# be aware of the value range of df1['col'] and make sure the color index should be nonnegative\n",
    "            \n",
    "        df1['c_col'] = c_col\n",
    "        #print(df1['c_col'][:])\n",
    "    # For the subplot, find the companies in the selected `city`\n",
    "    else:\n",
    "        df1 = df0[df0['City'] == city]\n",
    "        \n",
    "        # calculate the color of the city in the main plot.\n",
    "        # In the subplot, the color of all points will be the same as the city selected.\n",
    "        sum = df1['Market Cap'].sum()\n",
    "        sum_index = round(np.log10(sum + 0.0001)) +4 \n",
    "        print('sum:', sum)\n",
    "        \n",
    "        #c_col =min(max(int(np.log10(sum + 0.0001)), 0), 7) \n",
    "        c_col = Sunset[8][min(max(sum_index, 0), 7)] \n",
    "        \n",
    "        # be aware of the value range of sum and make sure the color index should be nonnegative\n",
    "    \n",
    "        df1.loc[:,('c_col')] = c_col\n",
    "    # Calculate 'circle_size' which is proportional to the log of 'Employees'\n",
    "    df2 = df1.copy()\n",
    "    df2['circle_size'] = np.log1p(df1['Employees']) * 3\n",
    "    \n",
    "    return df2"
   ],
   "metadata": {
    "collapsed": false,
    "ExecuteTime": {
     "end_time": "2024-05-25T13:50:18.904464200Z",
     "start_time": "2024-05-25T13:50:18.888137Z"
    }
   },
   "id": "91f73542ac0a9228"
  },
  {
   "cell_type": "code",
   "execution_count": 299,
   "outputs": [
    {
     "name": "stdout",
     "output_type": "stream",
     "text": [
      "2\n",
      "3\n",
      "4\n",
      "4\n",
      "4\n",
      "4\n",
      "5\n",
      "4\n",
      "5\n",
      "5\n",
      "6\n",
      "5\n",
      "6\n",
      "3\n",
      "4\n",
      "5\n",
      "3\n",
      "4\n",
      "5\n",
      "6\n",
      "5\n",
      "2\n",
      "3\n",
      "4\n",
      "5\n",
      "5\n",
      "3\n",
      "3\n",
      "4\n",
      "2\n",
      "6\n",
      "6\n",
      "2\n",
      "6\n",
      "4\n",
      "3\n",
      "6\n",
      "3\n",
      "5\n",
      "4\n",
      "5\n",
      "3\n",
      "4\n",
      "4\n",
      "6\n",
      "4\n",
      "5\n",
      "5\n",
      "5\n",
      "2\n",
      "4\n",
      "5\n",
      "4\n",
      "6\n",
      "5\n",
      "4\n",
      "5\n",
      "6\n",
      "5\n",
      "5\n",
      "4\n",
      "5\n",
      "2\n",
      "4\n",
      "5\n",
      "4\n",
      "4\n",
      "7\n",
      "6\n",
      "5\n",
      "5\n",
      "2\n",
      "2\n",
      "5\n",
      "2\n",
      "5\n",
      "4\n",
      "4\n",
      "2\n",
      "5\n",
      "3\n",
      "5\n",
      "5\n",
      "4\n",
      "4\n",
      "5\n",
      "2\n",
      "5\n",
      "2\n",
      "6\n",
      "5\n",
      "3\n",
      "5\n",
      "4\n",
      "4\n",
      "3\n",
      "3\n",
      "2\n",
      "4\n",
      "4\n",
      "3\n",
      "4\n",
      "4\n",
      "5\n",
      "4\n",
      "5\n",
      "3\n",
      "3\n",
      "4\n",
      "5\n",
      "3\n",
      "4\n",
      "6\n",
      "2\n",
      "4\n",
      "4\n",
      "4\n",
      "5\n",
      "3\n",
      "4\n",
      "4\n",
      "4\n",
      "2\n",
      "5\n",
      "3\n",
      "3\n",
      "3\n",
      "4\n",
      "4\n",
      "4\n",
      "5\n",
      "3\n",
      "2\n",
      "5\n",
      "2\n",
      "5\n",
      "5\n",
      "3\n",
      "4\n",
      "5\n",
      "4\n",
      "7\n",
      "4\n",
      "4\n",
      "1\n",
      "3\n",
      "3\n",
      "4\n",
      "6\n",
      "3\n",
      "5\n",
      "5\n",
      "2\n",
      "5\n",
      "5\n",
      "4\n",
      "3\n",
      "2\n",
      "7\n",
      "3\n",
      "4\n",
      "5\n",
      "4\n",
      "4\n",
      "2\n",
      "4\n",
      "6\n",
      "4\n",
      "1\n",
      "5\n",
      "3\n",
      "6\n",
      "5\n",
      "5\n",
      "3\n",
      "5\n",
      "5\n",
      "5\n",
      "4\n",
      "4\n",
      "5\n",
      "6\n",
      "3\n",
      "6\n",
      "6\n",
      "5\n",
      "4\n",
      "5\n",
      "6\n",
      "5\n",
      "4\n",
      "5\n",
      "4\n",
      "5\n",
      "7\n",
      "5\n",
      "6\n",
      "3\n",
      "4\n",
      "4\n",
      "4\n",
      "4\n",
      "5\n",
      "5\n",
      "4\n",
      "5\n",
      "3\n",
      "6\n",
      "7\n",
      "7\n",
      "5\n",
      "6\n",
      "5\n",
      "4\n",
      "5\n",
      "7\n",
      "2\n",
      "5\n",
      "5\n",
      "4\n",
      "5\n",
      "4\n",
      "7\n",
      "4\n",
      "1\n",
      "3\n",
      "5\n",
      "5\n",
      "6\n",
      "3\n",
      "6\n",
      "2\n",
      "5\n",
      "5\n",
      "2\n",
      "5\n",
      "4\n",
      "4\n",
      "5\n",
      "5\n",
      "5\n",
      "5\n",
      "6\n",
      "6\n",
      "5\n",
      "5\n",
      "3\n",
      "3\n",
      "5\n",
      "3\n",
      "4\n",
      "5\n",
      "3\n",
      "2\n",
      "6\n",
      "5\n",
      "2\n",
      "3\n",
      "4\n",
      "sum: 761.6312600000001\n"
     ]
    }
   ],
   "source": [
    "# Create the initial data frames for the main and subplot\n",
    "main_df = create_df(year, city, market_cap_lower)\n",
    "sub_df = create_df(year, city, market_cap_lower, main=False)\n"
   ],
   "metadata": {
    "collapsed": false,
    "ExecuteTime": {
     "end_time": "2024-05-25T13:50:18.978855900Z",
     "start_time": "2024-05-25T13:50:18.944309200Z"
    }
   },
   "id": "aa088a4e416cbfee"
  },
  {
   "cell_type": "code",
   "execution_count": 300,
   "outputs": [],
   "source": [
    "#print(sub_df)"
   ],
   "metadata": {
    "collapsed": false,
    "ExecuteTime": {
     "end_time": "2024-05-25T13:50:38.959591300Z",
     "start_time": "2024-05-25T13:50:38.940072100Z"
    }
   },
   "id": "26bc00836260f2a5"
  },
  {
   "cell_type": "code",
   "execution_count": 301,
   "outputs": [],
   "source": [
    "\n",
    "\n",
    "\n",
    "\n",
    "\n",
    "\n",
    "# ====================================================================\n",
    "# Task 2: Visualization\n",
    "# ====================================================================\n",
    "\n",
    "## 2.1 Define a function to draw the main plot\n",
    "\n",
    "# The main plot shows a circle on the location of each city \n",
    "# representing the companies in that city.\n",
    "# The size and color of the circle correspond to \n",
    "# the total number of employees and the total market cap (both in the log scale)\n",
    "# of the companies in that city respectively."
   ],
   "metadata": {
    "collapsed": false,
    "ExecuteTime": {
     "end_time": "2024-05-25T13:50:39.020197300Z",
     "start_time": "2024-05-25T13:50:38.995977700Z"
    }
   },
   "id": "d85c9505235b2f58"
  },
  {
   "cell_type": "code",
   "execution_count": 302,
   "outputs": [],
   "source": [
    "\n",
    "def plot_city(main_df, tile_source):\n",
    "    main_source = ColumnDataSource(main_df)\n",
    "\n",
    "    # Set the x and y ranges of the map initially shown in the main plot\n",
    "    # to be slightly larger (e.g. 200 km) than the (min, max) of 'x' and 'y'.\n",
    "    x_range = Range1d(\n",
    "        start= min(main_df['x']) - 200000,\n",
    "        end= max(main_df['x'] + 200000),\n",
    "        bounds=None\n",
    "    )\n",
    "    y_range = Range1d(\n",
    "        start= min(main_df['y']) - 200000,\n",
    "        end= max(main_df['y']) + 200000,\n",
    "        bounds=None\n",
    "    )\n",
    "    p = figure(\n",
    "        width=800,\n",
    "        height=600,\n",
    "        tools='tap,wheel_zoom, pan, reset',\n",
    "        toolbar_location=\"below\",\n",
    "        x_range=x_range,\n",
    "        y_range=y_range,\n",
    "        title='US Tech Companies Distribution by City'\n",
    "    )\n",
    "\n",
    "    # Add the map tile layer in the background\n",
    "    # Hide the axis and grid lines\n",
    "    p.add_tile(tile_source)\n",
    "    p.axis.visible = False\n",
    "    p.grid.grid_line_color = None\n",
    "    p.toolbar.logo = None\n",
    "\n",
    "    # Create a color mapper for the circle fill color\n",
    "    # which maps the 'Market Cap' to a color palette\n",
    "    # assign 8 colors to the different ranges of market caps\n",
    "\n",
    "    # Reference:\n",
    "    # https://docs.bokeh.org/en/3.4.0/docs/reference/transform.html#bokeh.transform.linear_cmap\n",
    "\n",
    "    color_mapper=linear_cmap(\n",
    "        field_name='col',\n",
    "        palette= Sunset[8],\n",
    "        low=-4,\n",
    "        high=3\n",
    "    )\n",
    "    # Reference:\n",
    "    # https://docs.bokeh.org/en/3.3.0/docs/reference/plotting/figure.html#bokeh.plotting.figure.circle\n",
    "\n",
    "    c = p.circle(\n",
    "        x='x',\n",
    "        y='y',\n",
    "        # Use the calculated circle size\n",
    "        size='circle_size',\n",
    "        fill_color=color_mapper,\n",
    "        alpha=1,\n",
    "        nonselection_fill_alpha=0.5,\n",
    "        line_color=\"white\",\n",
    "        line_width=1,\n",
    "        source=main_source\n",
    "    )\n",
    "    # Construct a color bar for the circle glyph\n",
    "    color_bar = c.construct_color_bar(\n",
    "        padding=5,\n",
    "        width=15,\n",
    "        formatter = NumeralTickFormatter(format='0.0a'),\n",
    "        title = 'Market Cap (exp10(y)) in Billion USD',\n",
    "    )\n",
    "    p.add_layout(color_bar, 'left')\n",
    "\n",
    "    # Add a hover tool to the circle glyph to show the name of the city \n",
    "    # and the number of companies in that city.\n",
    "    # Note that each of these companies has a market cap in the current `year` \n",
    "    # larger than the lower bound set by the slider.\n",
    "    hover_city = HoverTool()\n",
    "    hover_city.tooltips=[\n",
    "        ('City', '@City'),\n",
    "        ('Companies', '@Symbol'),\n",
    "        ]\n",
    "    hover_city.renderers = [c]\n",
    "    p.add_tools(hover_city)\n",
    "\n",
    "    return p"
   ],
   "metadata": {
    "collapsed": false,
    "ExecuteTime": {
     "end_time": "2024-05-25T13:50:39.073264Z",
     "start_time": "2024-05-25T13:50:39.061780400Z"
    }
   },
   "id": "1526bba5b27beb69"
  },
  {
   "cell_type": "code",
   "execution_count": 303,
   "outputs": [
    {
     "data": {
      "text/html": "\n  <div id=\"c8f2be11-2a06-46f9-be51-ddf009fd5d84\" data-root-id=\"p2790\" style=\"display: contents;\"></div>\n"
     },
     "metadata": {},
     "output_type": "display_data"
    },
    {
     "data": {
      "application/javascript": "(function(root) {\n  function embed_document(root) {\n  const docs_json = {\"1885f411-483d-45ea-9369-b1c503252d32\":{\"version\":\"3.3.4\",\"title\":\"Bokeh Application\",\"roots\":[{\"type\":\"object\",\"name\":\"Figure\",\"id\":\"p2790\",\"attributes\":{\"width\":800,\"x_range\":{\"type\":\"object\",\"name\":\"Range1d\",\"id\":\"p2788\",\"attributes\":{\"start\":-13885172.920161882,\"end\":-7688399.680236508}},\"y_range\":{\"type\":\"object\",\"name\":\"Range1d\",\"id\":\"p2789\",\"attributes\":{\"start\":2762428.9602158717,\"end\":6298956.162200291}},\"x_scale\":{\"type\":\"object\",\"name\":\"LinearScale\",\"id\":\"p2800\"},\"y_scale\":{\"type\":\"object\",\"name\":\"LinearScale\",\"id\":\"p2801\"},\"title\":{\"type\":\"object\",\"name\":\"Title\",\"id\":\"p2793\",\"attributes\":{\"text\":\"US Tech Companies Distribution by City\",\"text_color\":\"#E0E0E0\",\"text_font\":\"Helvetica\",\"text_font_size\":\"1.15em\"}},\"outline_line_color\":\"#E0E0E0\",\"outline_line_alpha\":0.25,\"renderers\":[{\"type\":\"object\",\"name\":\"TileRenderer\",\"id\":\"p2816\",\"attributes\":{\"tile_source\":{\"type\":\"object\",\"name\":\"WMTSTileSource\",\"id\":\"p2621\",\"attributes\":{\"url\":\"http://tiles.stadiamaps.com/tiles/stamen_terrain/{Z}/{X}/{Y}.png\",\"attribution\":\"\\n        &copy;  <a href=\\\"http://stamen.com\\\">Stamen Design</a>\\n        &copy;  <a href=\\\"http://creativecommons.org/licenses/by/3.0\\\">CC BY 3.0</a>\\n        &copy;  <a href=\\\"http://openstreetmap.org\\\">OpenStreetMap</a>\\n        &copy;  <a href=\\\"http://www.openstreetmap.org/copyright\\\">ODbL</a>\\n    \"}}}},{\"type\":\"object\",\"name\":\"GlyphRenderer\",\"id\":\"p2825\",\"attributes\":{\"data_source\":{\"type\":\"object\",\"name\":\"ColumnDataSource\",\"id\":\"p2785\",\"attributes\":{\"selected\":{\"type\":\"object\",\"name\":\"Selection\",\"id\":\"p2786\",\"attributes\":{\"indices\":[],\"line_indices\":[]}},\"selection_policy\":{\"type\":\"object\",\"name\":\"UnionRenderers\",\"id\":\"p2787\"},\"data\":{\"type\":\"map\",\"entries\":[[\"index\",{\"type\":\"ndarray\",\"array\":{\"type\":\"bytes\",\"data\":\"AAAAAAEAAAACAAAAAwAAAAQAAAAFAAAABgAAAAcAAAAIAAAACQAAAAoAAAALAAAADAAAAA0AAAAOAAAADwAAABAAAAARAAAAEgAAABMAAAAUAAAAFQAAABYAAAAXAAAAGAAAABkAAAAaAAAAGwAAABwAAAAdAAAAHgAAAB8AAAAgAAAAIQAAACIAAAAjAAAAJAAAACUAAAAmAAAAJwAAACgAAAApAAAAKgAAACsAAAAsAAAALQAAAC4AAAAvAAAAMAAAADEAAAAyAAAAMwAAADQAAAA1AAAANgAAADcAAAA4AAAAOQAAADoAAAA7AAAAPAAAAD0AAAA+AAAAPwAAAEAAAABBAAAAQgAAAEMAAABEAAAARQAAAEYAAABHAAAASAAAAEkAAABKAAAASwAAAEwAAABNAAAATgAAAE8AAABQAAAAUQAAAFIAAABTAAAAVAAAAFUAAABWAAAAVwAAAFgAAABZAAAAWgAAAFsAAABcAAAAXQAAAF4AAABfAAAAYAAAAGEAAABiAAAAYwAAAGQAAABlAAAAZgAAAGcAAABoAAAAaQAAAGoAAABrAAAAbAAAAG0AAABuAAAAbwAAAHAAAABxAAAAcgAAAHMAAAB0AAAAdQAAAHYAAAB3AAAAeAAAAHkAAAB6AAAAewAAAHwAAAB9AAAAfgAAAH8AAACAAAAAgQAAAIIAAACDAAAAhAAAAIUAAACGAAAAhwAAAIgAAACJAAAAigAAAIsAAACMAAAAjQAAAI4AAACPAAAAkAAAAJEAAACSAAAAkwAAAJQAAACVAAAAlgAAAJcAAACYAAAAmQAAAJoAAACbAAAAnAAAAJ0AAACeAAAAnwAAAKAAAAChAAAAogAAAKMAAACkAAAApQAAAKYAAACnAAAAqAAAAKkAAACqAAAAqwAAAKwAAACtAAAArgAAAK8AAACwAAAAsQAAALIAAACzAAAAtAAAALUAAAC2AAAAtwAAALgAAAC5AAAAugAAALsAAAC8AAAAvQAAAL4AAAC/AAAAwAAAAMEAAADCAAAAwwAAAMQAAADFAAAAxgAAAMcAAADIAAAAyQAAAMoAAADLAAAAzAAAAM0AAADOAAAAzwAAANAAAADRAAAA0gAAANMAAADUAAAA1QAAANYAAADXAAAA2AAAANkAAADaAAAA2wAAANwAAADdAAAA3gAAAN8AAADgAAAA4QAAAOIAAADjAAAA5AAAAOUAAADmAAAA5wAAAOgAAADpAAAA6gAAAOsAAADsAAAA7QAAAO4AAADvAAAA8AAAAPEAAADyAAAA8wAAAPQAAAD1AAAA9gAAAPcAAAD4AAAA+QAAAPoAAAD7AAAA/AAAAP0AAAD+AAAA/wAAAAABAAABAQAAAgEAAA==\"},\"shape\":[259],\"dtype\":\"int32\",\"order\":\"little\"}],[\"City\",{\"type\":\"ndarray\",\"array\":[\"Albany\",\"Alhambra\",\"Aliso Viejo\",\"Allentown\",\"Alpharetta\",\"American Fork\",\"Ames\",\"Amherst\",\"Andover\",\"Ashburn\",\"Atlanta\",\"Attleboro\",\"Austin\",\"Aventura\",\"Bala Cynwyd\",\"Baltimore\",\"Bartlett\",\"Beaverton\",\"Bedford\",\"Bellevue\",\"Belmont\",\"Bensenville\",\"Berkeley\",\"Bethesda\",\"Beverly\",\"Billerica\",\"Bloomingdale\",\"Bloomington\",\"Boca Raton\",\"Bohemia\",\"Boise\",\"Boston\",\"Boulder\",\"Bozeman\",\"Braintree\",\"Bridgewater\",\"Brookfield\",\"Brookings\",\"Brooklyn\",\"Broomfield\",\"Burlington\",\"Calabasas\",\"Camarillo\",\"Camas\",\"Cambridge\",\"Campbell\",\"Canonsburg\",\"Carlsbad\",\"Carpinteria\",\"Carrollton\",\"Castle Rock\",\"Centennial\",\"Cerritos\",\"Chandler\",\"Charleston\",\"Charlotte\",\"Chester\",\"Chicago\",\"Cincinnati\",\"Clearwater\",\"College Park\",\"Columbia\",\"Columbus\",\"Coral Gables\",\"Corning\",\"Costa Mesa\",\"Covington\",\"Cupertino\",\"Dallas\",\"Dania Beach\",\"Denver\",\"Detroit\",\"Duarte\",\"Durham\",\"East Hanover\",\"Easttown\",\"Eden Prairie\",\"El Segundo\",\"Elk Grove Village\",\"Englewood\",\"Escondido\",\"Everett\",\"Ewing\",\"Fairfax\",\"Florham Park\",\"Folsom\",\"Fort Lauderdale\",\"Foster City\",\"Fountain Valley\",\"Fremont\",\"Glen Allen\",\"Grapevine\",\"Greensboro\",\"Greenville\",\"Greenwood Village\",\"Hamden\",\"Hartland\",\"Hauppauge\",\"Hawthorne\",\"Hayward\",\"Henderson\",\"Herndon\",\"Hickory\",\"Hillsboro\",\"Hopkins\",\"Houston\",\"Hudson\",\"Huntersville\",\"Huntsville\",\"Irvine\",\"Irving\",\"Itasca\",\"Jacksonville\",\"Jericho\",\"Jersey City\",\"Johns Creek\",\"King of Prussia\",\"Kirkland\",\"Laguna Hills\",\"Lake Mary\",\"Lakewood\",\"Las Vegas\",\"Lawrenceville\",\"Leawood\",\"Leesburg\",\"Lehi\",\"Lexington\",\"Liberty Lake\",\"Lisle\",\"Livermore\",\"Los Angeles\",\"Los Gatos\",\"Louisville\",\"Lowell\",\"Madison\",\"Malta\",\"Manchester\",\"Maple Grove\",\"Mattoon\",\"McLean\",\"Melville\",\"Menlo Park\",\"Merrimack\",\"Miami\",\"Miami Beach\",\"Middletown\",\"Midland\",\"Midvale\",\"Milpitas\",\"Milton\",\"Milwaukee\",\"Minneapolis\",\"Minnetonka\",\"Monett\",\"Monroe\",\"Morrisville\",\"Mount Laurel\",\"Mount Olive\",\"Mountain View\",\"Murray\",\"Nashville\",\"Natick\",\"Neenah\",\"New Braunfels\",\"New Brunswick\",\"New Hartford\",\"New York\",\"Newark\",\"Newton\",\"Newtown\",\"Norcross\",\"North Castle\",\"North Hempstead\",\"North Reading\",\"Norton\",\"Norwalk\",\"Oakland\",\"Oklahoma City\",\"Ontario\",\"Orlando\",\"Oxford\",\"Palo Alto\",\"Parsippany\",\"Philadelphia\",\"Phoenix\",\"Pittsburgh\",\"Plainview\",\"Plano\",\"Pleasanton\",\"Portland\",\"Poway\",\"Provo\",\"Queens\",\"Raleigh\",\"Redmond\",\"Redwood City\",\"Reston\",\"Ridgefield Park\",\"Roanoke\",\"Rock Hill\",\"Rockville\",\"Rolling Meadows\",\"Round Rock\",\"Salt Lake City\",\"San Antonio\",\"San Buenaventura\",\"San Carlos\",\"San Diego\",\"San Francisco\",\"San Jose\",\"San Mateo\",\"San Rafael\",\"San Ramon\",\"Santa Ana\",\"Santa Barbara\",\"Santa Clara\",\"Santa Fe\",\"Santa Monica\",\"Santa Rosa\",\"Sarasota\",\"Schaumburg\",\"Scottsdale\",\"Seattle\",\"South Jordan\",\"Spokane\",\"Spokane Valley\",\"St. Louis\",\"St. Petersburg\",\"Stamford\",\"Sugar Land\",\"Sunnyvale\",\"Sunrise\",\"Teaneck\",\"Tempe\",\"The Woodlands\",\"Thousand Oaks\",\"Tinton Falls\",\"Torrance\",\"Troy\",\"Tucson\",\"Tysons\",\"Vancouver\",\"Vernon Hills\",\"Wallingford\",\"Waltham\",\"Washington\",\"West Melbourne\",\"West Warwick\",\"West Whiteland\",\"Westborough\",\"Westford\",\"Westminster\",\"White Plains\",\"Wichita\",\"Wilmington\",\"Windsor\",\"Woburn\",\"Woodbury\",\"Woodland Park\"],\"shape\":[259],\"dtype\":\"object\",\"order\":\"little\"}],[\"Symbol\",{\"type\":\"ndarray\",\"array\":{\"type\":\"bytes\",\"data\":\"AQAAAAEAAAABAAAAAQAAAAUAAAACAAAAAQAAAAIAAAADAAAAAgAAAAoAAAABAAAAEwAAAAIAAAABAAAAAwAAAAEAAAACAAAAAgAAAAIAAAABAAAAAQAAAAEAAAACAAAAAgAAAAEAAAABAAAAAQAAAAUAAAABAAAAAgAAAAkAAAABAAAAAgAAAAEAAAABAAAAAgAAAAEAAAACAAAAAQAAAAcAAAABAAAAAQAAAAEAAAAFAAAAAwAAAAEAAAADAAAAAQAAAAEAAAACAAAAAQAAAAEAAAAFAAAAAgAAAAIAAAADAAAADQAAAAIAAAACAAAAAQAAAAQAAAABAAAAAgAAAAEAAAABAAAAAQAAAAEAAAAEAAAAAQAAAAYAAAABAAAAAQAAAAIAAAABAAAAAQAAAAMAAAACAAAAAQAAAAgAAAABAAAAAQAAAAEAAAADAAAAAQAAAAEAAAABAAAAAQAAAAEAAAALAAAAAQAAAAEAAAABAAAAAQAAAAIAAAABAAAAAQAAAAEAAAABAAAAAQAAAAMAAAACAAAAAQAAAAEAAAABAAAAAgAAAAEAAAABAAAAAQAAAAgAAAACAAAAAQAAAAMAAAABAAAAAgAAAAEAAAABAAAAAQAAAAEAAAABAAAAAQAAAAIAAAABAAAAAQAAAAEAAAABAAAAAQAAAAEAAAABAAAAAQAAAAQAAAABAAAAAQAAAAIAAAABAAAAAQAAAAIAAAABAAAAAQAAAAQAAAAEAAAAAwAAAAEAAAACAAAAAQAAAAEAAAABAAAAAQAAAAIAAAABAAAAAgAAAAYAAAABAAAAAQAAAAEAAAABAAAAAQAAAAEAAAAHAAAAAQAAAAEAAAABAAAAAQAAAAEAAAABAAAAAQAAAC0AAAACAAAAAQAAAAEAAAABAAAAAQAAAAEAAAABAAAAAQAAAAIAAAACAAAAAQAAAAEAAAAFAAAAAQAAAAUAAAACAAAAAQAAAAMAAAAEAAAAAQAAAAgAAAABAAAABQAAAAEAAAABAAAAAQAAAAMAAAAFAAAABwAAAAUAAAABAAAAAgAAAAEAAAABAAAAAQAAAAEAAAAEAAAAAgAAAAEAAAABAAAACAAAACcAAAAfAAAABwAAAAEAAAACAAAAAQAAAAIAAAAMAAAAAQAAAAMAAAABAAAAAQAAAAEAAAADAAAACgAAAAEAAAABAAAAAQAAAAUAAAABAAAAAwAAAAEAAAAIAAAAAQAAAAEAAAAIAAAAAQAAAAEAAAABAAAAAQAAAAEAAAACAAAAAgAAAAEAAAADAAAAAQAAAAIAAAADAAAAAQAAAAEAAAABAAAAAQAAAAEAAAACAAAAAQAAAAEAAAAHAAAAAQAAAAEAAAABAAAAAQAAAA==\"},\"shape\":[259],\"dtype\":\"int32\",\"order\":\"little\"}],[\"Market Cap\",{\"type\":\"ndarray\",\"array\":{\"type\":\"bytes\",\"data\":\"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\"},\"shape\":[259],\"dtype\":\"float64\",\"order\":\"little\"}],[\"Employees\",{\"type\":\"ndarray\",\"array\":{\"type\":\"bytes\",\"data\":\"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\"},\"shape\":[259],\"dtype\":\"float64\",\"order\":\"little\"}],[\"x\",{\"type\":\"ndarray\",\"array\":{\"type\":\"bytes\",\"data\":\"fxYibbBWX8GxJ4z2RxVpwRCNYyYu/2jB8oV/K34GYMGfVBqQuORhwX+Dz3uovGfBUxMU/9PgY8HMb12k2rhgwZehbqxjOF7Bj8CRmflyYMET76fBxuxhwaCbJsaCRl7BYfAXpFfBZMF8AE2l3gNhwbrOJgMa8l/BlpTaf2REYMEaFhugKBJjwc0mYfS7E2rBkwnhA7JEXsGvTWUtru9pwX+Wt1Bj92nBmLj98TmsYsFOtMzBVvZpwcKmfTHPX2DBtf6I64MXXsHxIPXif0NewQ5yGMkftGLBTlRKrSnQY8FISZe4SQJhwYKIQOKtDV/BKUsOL8CtaMErgxURtC9ewaQhVHIEWWbBXmZhY3aUZ8Go7fIvriZewU/LpAKgrl/B6hRVQZolYcEptlOj0YxkwUpYP/QXZ1/B+UQIPihOZsHZoKcTejxewcsDrDBGMmnBz1xSGARGacHZxSM5u/5pwbrMLs1SM17Bk0uLwdTkacEvuZjTkAZhwTtmugv35mjB6H8IFxdgacFbVNTwA5NkwTzlSsdVQ2bBRc36zRVEZsFQFsgNpRFpwR17jxy1v2fBWyzUXrf6YMEC+8V6jClhwdxxrczZAGDBoCIqdTmeYsGWfnKcV/Fhwcjf+CKQkmHBnAniib9VYMG6rMUXsFFgwfKeTfOxnmHB57Iq0CwLYcH0ghC6ZlxgwdeH4tg2CWnBz//7hhEiY8EPfq6r3ulpwT/BoXjGi2TBzItzyFAFYcGzleEUjERmwSIeQZsMpWHBiorwTjgLacH7Oz8Xv8BgwW9vXRYflF/Bp1cA+ZIEYMFKtmT+AthjwaRguILBI2nBnK+BeNSuYsEF/Cqc+0pmwWrNTZp922jBnoAxo2jwacEpd/4sm8NfwVdWwmekaWDBE1t1uouXX8Fy/Y8AtrhpwR0z+w1gBGHBeBdXN8r1acFMzyk5RgtpwVwPJcV75mnBvK4kJaZzYMG/12tQfZxkwRi+8wMF82DBr8KaKvJ8YcGATdMbk0ZmwTNL3Q9U917BW4Q+6bfBYsFu8vEGyhZfwUMFMlLPIGnBvoxkHoDracH3qNfW62xowR+0OAFfbmDBAh/WoEpEYcFV93GdNhpqwbwiifoU1WPBy8zr59xAZMGacliMu0phwdbFnCrLK2HBZ8OAyGZlYsHQtTvungFpwR3pJynWlmTB0oXECkGwYsHOOOoIdVdhwVAvtF29Ol/BPUR9tQd0X8GpVf812+BhwUDplB9pAWDBjR95iYTyacHvWB98j/1owcQZTUMJRWHBBQWvJatRZsFtaEq0RnlowUORIQh41WHBuKfm+2cXZMFRCyOKfHdgwUUMe7fawGfBORdEb8XuYcGu6OcjMd1owSH1iQsWtGLBF5vsY1TaacFsuNYVByRpweicqML05GnBbdgHbXEvYsHOjOXUaUlewaAJsuf5+mLB9uIZ3YNVX8HNnu3nyFZewdRxSSEu2GPB6+m4x/PCYsHYbWHF6WNgwUtzFo9NLF/BuDUVNG7wacFBOXsZ115ewa2boW/WB2HBYCzcbgEEYcHbFacNi0RewdgcAo13rmXB8UVmzPPBZ8E+fx7QeOFpwccxxAauYV/B0K3NKX6tYsHx7BuAl81jwR1+DysH2GPB+C/BW3fxY8EWnAIp44xjwTiIXjkVvWDB+y74Q+zOX8F0TwsLTb1fwQJbEN2p62nBViadDKrBZ8GGK36eLG1iwSSXbBF1TF7BNz0dpivJYsG9uWgyDdVkwQanft/ynF/BSBtsQvP3X8EiemWOaGRfwVthDoVV1GTB0iRzfRs9XsHNEPWy9QJgwSOOchYQ4WHBVe59r2dLX8F3HGpTkUhfwWUAwtv2L17B4LBgOXc6XsFM35H/ri1fwZgmtjUc82nBxnSEiV+0ZMFxJvyRhfhowYZehi0XRWHB2JfYi6OEXsE4NH/yUO9pwWS7ZjuGmV/BX+ZQ39bnX8GEjFsVosxnwU2duh8h+2DBSD6AzU0zX8Fc/mGcyopkwUX7UmbX4GnBD06YPkLRZ8GL+zk+p9howTDvJM+GtGfBb7I90JFWX8FT5KPyprJgwdASAuSw7WnBk8kORZXzacE5ZvAOKmxgweU2yvXBbl/BJO1B3yP6YMEkO7oxFTRhwVv0pxbLYWDB1nkcDqGwYsHXTWggj7xkwccvyiEKxGfB+pLnZ0jrZMEZl4FX2VBpwW7GV0Pj9WnB8k1E9TPeaMHQKmL9hP9pwbLADSoT32nBzUwTFk34acGUsw05twNqwZwF2qLi42nBwKSdIn8HacFHEnT2amtpwW375fSY5WnBN4+FZKuAZsHsctaSDyhpwVuujOu/DWrB7CDCX6eGYcFYnWt40LNiweB1Br9zwGfBs01tPfj4acEjl/hOnMZnwYr6ZLgY72jBuhc2/0/kaMEYy4PSSiljwSvlDP9IjWHBd3bdsJM8X8Fh69cRTk5kwefswhC56GnBoBLgNrUMYcEV9/tbvG1fwfuZkUMVxGfBCHKp4aZHZMF71E9ogj1pwTXLdKLjdl/Bumja1HsgacF5coofZ6dhwUPvjw3WimfBzErD9rRlYMEvI/FGxQdqwVmU5+4grWLBa3hnfIjqXsEis8UjyEBewUOfj+k8WmDBIJhRAgghYcEqwrHTgF5ewa0NRsGNDmDBBPbfgDBpXsFyWXjjSFZewfwZ05uwTmbB9nNy6edRX8ErSQu9K6tkwbkSejynsF/Buu5ZCWHcXsEQbmYcNzdewYa/6rJ8d1/BxfLcRbqBX8E=\"},\"shape\":[259],\"dtype\":\"float64\",\"order\":\"little\"}],[\"y\",{\"type\":\"ndarray\",\"array\":{\"type\":\"bytes\",\"data\":\"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\"},\"shape\":[259],\"dtype\":\"float64\",\"order\":\"little\"}],[\"col\",{\"type\":\"ndarray\",\"array\":{\"type\":\"bytes\",\"data\":\"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\"},\"shape\":[259],\"dtype\":\"float64\",\"order\":\"little\"}],[\"c_col\",{\"type\":\"ndarray\",\"array\":[\"#92C4DE\",\"#CDE6E5\",\"#F8DF9D\",\"#F8DF9D\",\"#F8DF9D\",\"#F8DF9D\",\"#FCAB62\",\"#F8DF9D\",\"#FCAB62\",\"#FCAB62\",\"#E75839\",\"#FCAB62\",\"#E75839\",\"#CDE6E5\",\"#F8DF9D\",\"#FCAB62\",\"#CDE6E5\",\"#F8DF9D\",\"#FCAB62\",\"#E75839\",\"#FCAB62\",\"#92C4DE\",\"#CDE6E5\",\"#F8DF9D\",\"#FCAB62\",\"#FCAB62\",\"#CDE6E5\",\"#CDE6E5\",\"#F8DF9D\",\"#92C4DE\",\"#E75839\",\"#E75839\",\"#92C4DE\",\"#E75839\",\"#F8DF9D\",\"#CDE6E5\",\"#E75839\",\"#CDE6E5\",\"#FCAB62\",\"#F8DF9D\",\"#FCAB62\",\"#CDE6E5\",\"#F8DF9D\",\"#F8DF9D\",\"#E75839\",\"#F8DF9D\",\"#FCAB62\",\"#FCAB62\",\"#FCAB62\",\"#92C4DE\",\"#F8DF9D\",\"#FCAB62\",\"#F8DF9D\",\"#E75839\",\"#FCAB62\",\"#F8DF9D\",\"#FCAB62\",\"#E75839\",\"#FCAB62\",\"#FCAB62\",\"#F8DF9D\",\"#FCAB62\",\"#92C4DE\",\"#F8DF9D\",\"#FCAB62\",\"#F8DF9D\",\"#F8DF9D\",\"#A50026\",\"#E75839\",\"#FCAB62\",\"#FCAB62\",\"#92C4DE\",\"#92C4DE\",\"#FCAB62\",\"#92C4DE\",\"#FCAB62\",\"#F8DF9D\",\"#F8DF9D\",\"#92C4DE\",\"#FCAB62\",\"#CDE6E5\",\"#FCAB62\",\"#FCAB62\",\"#F8DF9D\",\"#F8DF9D\",\"#FCAB62\",\"#92C4DE\",\"#FCAB62\",\"#92C4DE\",\"#E75839\",\"#FCAB62\",\"#CDE6E5\",\"#FCAB62\",\"#F8DF9D\",\"#F8DF9D\",\"#CDE6E5\",\"#CDE6E5\",\"#92C4DE\",\"#F8DF9D\",\"#F8DF9D\",\"#CDE6E5\",\"#F8DF9D\",\"#F8DF9D\",\"#FCAB62\",\"#F8DF9D\",\"#FCAB62\",\"#CDE6E5\",\"#CDE6E5\",\"#F8DF9D\",\"#FCAB62\",\"#CDE6E5\",\"#F8DF9D\",\"#E75839\",\"#92C4DE\",\"#F8DF9D\",\"#F8DF9D\",\"#F8DF9D\",\"#FCAB62\",\"#CDE6E5\",\"#F8DF9D\",\"#F8DF9D\",\"#F8DF9D\",\"#92C4DE\",\"#FCAB62\",\"#CDE6E5\",\"#CDE6E5\",\"#CDE6E5\",\"#F8DF9D\",\"#F8DF9D\",\"#F8DF9D\",\"#FCAB62\",\"#CDE6E5\",\"#92C4DE\",\"#FCAB62\",\"#92C4DE\",\"#FCAB62\",\"#FCAB62\",\"#CDE6E5\",\"#F8DF9D\",\"#FCAB62\",\"#F8DF9D\",\"#A50026\",\"#F8DF9D\",\"#F8DF9D\",\"#598DC0\",\"#CDE6E5\",\"#CDE6E5\",\"#F8DF9D\",\"#E75839\",\"#CDE6E5\",\"#FCAB62\",\"#FCAB62\",\"#92C4DE\",\"#FCAB62\",\"#FCAB62\",\"#F8DF9D\",\"#CDE6E5\",\"#92C4DE\",\"#A50026\",\"#CDE6E5\",\"#F8DF9D\",\"#FCAB62\",\"#F8DF9D\",\"#F8DF9D\",\"#92C4DE\",\"#F8DF9D\",\"#E75839\",\"#F8DF9D\",\"#598DC0\",\"#FCAB62\",\"#CDE6E5\",\"#E75839\",\"#FCAB62\",\"#FCAB62\",\"#CDE6E5\",\"#FCAB62\",\"#FCAB62\",\"#FCAB62\",\"#F8DF9D\",\"#F8DF9D\",\"#FCAB62\",\"#E75839\",\"#CDE6E5\",\"#E75839\",\"#E75839\",\"#FCAB62\",\"#F8DF9D\",\"#FCAB62\",\"#E75839\",\"#FCAB62\",\"#F8DF9D\",\"#FCAB62\",\"#F8DF9D\",\"#FCAB62\",\"#A50026\",\"#FCAB62\",\"#E75839\",\"#CDE6E5\",\"#F8DF9D\",\"#F8DF9D\",\"#F8DF9D\",\"#F8DF9D\",\"#FCAB62\",\"#FCAB62\",\"#F8DF9D\",\"#FCAB62\",\"#CDE6E5\",\"#E75839\",\"#A50026\",\"#A50026\",\"#FCAB62\",\"#E75839\",\"#FCAB62\",\"#F8DF9D\",\"#FCAB62\",\"#A50026\",\"#92C4DE\",\"#FCAB62\",\"#FCAB62\",\"#F8DF9D\",\"#FCAB62\",\"#F8DF9D\",\"#A50026\",\"#F8DF9D\",\"#598DC0\",\"#CDE6E5\",\"#FCAB62\",\"#FCAB62\",\"#E75839\",\"#CDE6E5\",\"#E75839\",\"#92C4DE\",\"#FCAB62\",\"#FCAB62\",\"#92C4DE\",\"#FCAB62\",\"#F8DF9D\",\"#F8DF9D\",\"#FCAB62\",\"#FCAB62\",\"#FCAB62\",\"#FCAB62\",\"#E75839\",\"#E75839\",\"#FCAB62\",\"#FCAB62\",\"#CDE6E5\",\"#CDE6E5\",\"#FCAB62\",\"#CDE6E5\",\"#F8DF9D\",\"#FCAB62\",\"#CDE6E5\",\"#92C4DE\",\"#E75839\",\"#FCAB62\",\"#92C4DE\",\"#CDE6E5\",\"#F8DF9D\"],\"shape\":[259],\"dtype\":\"object\",\"order\":\"little\"}],[\"circle_size\",{\"type\":\"ndarray\",\"array\":{\"type\":\"bytes\",\"data\":\"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\"},\"shape\":[259],\"dtype\":\"float64\",\"order\":\"little\"}]]}}},\"view\":{\"type\":\"object\",\"name\":\"CDSView\",\"id\":\"p2826\",\"attributes\":{\"filter\":{\"type\":\"object\",\"name\":\"AllIndices\",\"id\":\"p2827\"}}},\"glyph\":{\"type\":\"object\",\"name\":\"Circle\",\"id\":\"p2822\",\"attributes\":{\"x\":{\"type\":\"field\",\"field\":\"x\"},\"y\":{\"type\":\"field\",\"field\":\"y\"},\"size\":{\"type\":\"field\",\"field\":\"circle_size\"},\"line_color\":{\"type\":\"value\",\"value\":\"white\"},\"fill_color\":{\"type\":\"field\",\"field\":\"col\",\"transform\":{\"type\":\"object\",\"name\":\"LinearColorMapper\",\"id\":\"p2818\",\"attributes\":{\"palette\":[\"#364B9A\",\"#598DC0\",\"#92C4DE\",\"#CDE6E5\",\"#F8DF9D\",\"#FCAB62\",\"#E75839\",\"#A50026\"],\"low\":-4,\"high\":3}}}}},\"nonselection_glyph\":{\"type\":\"object\",\"name\":\"Circle\",\"id\":\"p2823\",\"attributes\":{\"x\":{\"type\":\"field\",\"field\":\"x\"},\"y\":{\"type\":\"field\",\"field\":\"y\"},\"size\":{\"type\":\"field\",\"field\":\"circle_size\"},\"line_color\":{\"type\":\"value\",\"value\":\"white\"},\"line_alpha\":{\"type\":\"value\",\"value\":0.1},\"fill_color\":{\"type\":\"field\",\"field\":\"col\",\"transform\":{\"id\":\"p2818\"}},\"fill_alpha\":{\"type\":\"value\",\"value\":0.5},\"hatch_alpha\":{\"type\":\"value\",\"value\":0.1}}},\"muted_glyph\":{\"type\":\"object\",\"name\":\"Circle\",\"id\":\"p2824\",\"attributes\":{\"x\":{\"type\":\"field\",\"field\":\"x\"},\"y\":{\"type\":\"field\",\"field\":\"y\"},\"size\":{\"type\":\"field\",\"field\":\"circle_size\"},\"line_color\":{\"type\":\"value\",\"value\":\"white\"},\"line_alpha\":{\"type\":\"value\",\"value\":0.2},\"fill_color\":{\"type\":\"field\",\"field\":\"col\",\"transform\":{\"id\":\"p2818\"}},\"fill_alpha\":{\"type\":\"value\",\"value\":0.2},\"hatch_alpha\":{\"type\":\"value\",\"value\":0.2}}}}}],\"toolbar\":{\"type\":\"object\",\"name\":\"Toolbar\",\"id\":\"p2799\",\"attributes\":{\"logo\":null,\"tools\":[{\"type\":\"object\",\"name\":\"TapTool\",\"id\":\"p2812\",\"attributes\":{\"renderers\":\"auto\"}},{\"type\":\"object\",\"name\":\"WheelZoomTool\",\"id\":\"p2813\",\"attributes\":{\"renderers\":\"auto\"}},{\"type\":\"object\",\"name\":\"PanTool\",\"id\":\"p2814\"},{\"type\":\"object\",\"name\":\"ResetTool\",\"id\":\"p2815\"},{\"type\":\"object\",\"name\":\"HoverTool\",\"id\":\"p2831\",\"attributes\":{\"renderers\":[{\"id\":\"p2825\"}],\"tooltips\":[[\"City\",\"@City\"],[\"Companies\",\"@Symbol\"]]}}]}},\"toolbar_location\":\"below\",\"left\":[{\"type\":\"object\",\"name\":\"LinearAxis\",\"id\":\"p2807\",\"attributes\":{\"visible\":false,\"ticker\":{\"type\":\"object\",\"name\":\"BasicTicker\",\"id\":\"p2808\",\"attributes\":{\"mantissas\":[1,2,5]}},\"formatter\":{\"type\":\"object\",\"name\":\"BasicTickFormatter\",\"id\":\"p2809\"},\"axis_label_standoff\":10,\"axis_label_text_color\":\"#E0E0E0\",\"axis_label_text_font\":\"Helvetica\",\"axis_label_text_font_size\":\"1.25em\",\"axis_label_text_font_style\":\"normal\",\"major_label_policy\":{\"type\":\"object\",\"name\":\"AllLabels\",\"id\":\"p2810\"},\"major_label_text_color\":\"#E0E0E0\",\"major_label_text_font\":\"Helvetica\",\"major_label_text_font_size\":\"1.025em\",\"axis_line_color\":\"#E0E0E0\",\"axis_line_alpha\":0,\"major_tick_line_color\":\"#E0E0E0\",\"major_tick_line_alpha\":0,\"minor_tick_line_color\":\"#E0E0E0\",\"minor_tick_line_alpha\":0}},{\"type\":\"object\",\"name\":\"ColorBar\",\"id\":\"p2829\",\"attributes\":{\"width\":15,\"title\":\"Market Cap (exp10(y)) in Billion USD\",\"title_text_color\":\"#E0E0E0\",\"title_text_font\":\"Helvetica\",\"title_text_font_size\":\"1.025em\",\"title_text_font_style\":\"normal\",\"formatter\":{\"type\":\"object\",\"name\":\"NumeralTickFormatter\",\"id\":\"p2828\",\"attributes\":{\"format\":\"0.0a\"}},\"major_label_policy\":{\"type\":\"object\",\"name\":\"NoOverlap\",\"id\":\"p2830\"},\"padding\":5,\"major_label_text_color\":\"#E0E0E0\",\"major_label_text_font\":\"Helvetica\",\"major_label_text_font_size\":\"1.025em\",\"major_tick_line_alpha\":0,\"bar_line_alpha\":0,\"background_fill_color\":\"#15191C\",\"color_mapper\":{\"id\":\"p2818\"}}}],\"below\":[{\"type\":\"object\",\"name\":\"LinearAxis\",\"id\":\"p2802\",\"attributes\":{\"visible\":false,\"ticker\":{\"type\":\"object\",\"name\":\"BasicTicker\",\"id\":\"p2803\",\"attributes\":{\"mantissas\":[1,2,5]}},\"formatter\":{\"type\":\"object\",\"name\":\"BasicTickFormatter\",\"id\":\"p2804\"},\"axis_label_standoff\":10,\"axis_label_text_color\":\"#E0E0E0\",\"axis_label_text_font\":\"Helvetica\",\"axis_label_text_font_size\":\"1.25em\",\"axis_label_text_font_style\":\"normal\",\"major_label_policy\":{\"type\":\"object\",\"name\":\"AllLabels\",\"id\":\"p2805\"},\"major_label_text_color\":\"#E0E0E0\",\"major_label_text_font\":\"Helvetica\",\"major_label_text_font_size\":\"1.025em\",\"axis_line_color\":\"#E0E0E0\",\"axis_line_alpha\":0,\"major_tick_line_color\":\"#E0E0E0\",\"major_tick_line_alpha\":0,\"minor_tick_line_color\":\"#E0E0E0\",\"minor_tick_line_alpha\":0}}],\"center\":[{\"type\":\"object\",\"name\":\"Grid\",\"id\":\"p2806\",\"attributes\":{\"axis\":{\"id\":\"p2802\"},\"grid_line_color\":null,\"grid_line_alpha\":0.25}},{\"type\":\"object\",\"name\":\"Grid\",\"id\":\"p2811\",\"attributes\":{\"dimension\":1,\"axis\":{\"id\":\"p2807\"},\"grid_line_color\":null,\"grid_line_alpha\":0.25}}],\"background_fill_color\":\"#20262B\",\"border_fill_color\":\"#15191C\"}}]}};\n  const render_items = [{\"docid\":\"1885f411-483d-45ea-9369-b1c503252d32\",\"roots\":{\"p2790\":\"c8f2be11-2a06-46f9-be51-ddf009fd5d84\"},\"root_ids\":[\"p2790\"]}];\n  root.Bokeh.embed.embed_items_notebook(docs_json, render_items);\n  }\n  if (root.Bokeh !== undefined) {\n    embed_document(root);\n  } else {\n    let attempts = 0;\n    const timer = setInterval(function(root) {\n      if (root.Bokeh !== undefined) {\n        clearInterval(timer);\n        embed_document(root);\n      } else {\n        attempts++;\n        if (attempts > 100) {\n          clearInterval(timer);\n          console.log(\"Bokeh: ERROR: Unable to run BokehJS code because BokehJS library is missing\");\n        }\n      }\n    }, 10, root)\n  }\n})(window);",
      "application/vnd.bokehjs_exec.v0+json": ""
     },
     "metadata": {
      "application/vnd.bokehjs_exec.v0+json": {
       "id": "p2790"
      }
     },
     "output_type": "display_data"
    }
   ],
   "source": [
    "    \n",
    "main_plot= plot_city(main_df, tile_source)\n",
    "show(main_plot)"
   ],
   "metadata": {
    "collapsed": false,
    "ExecuteTime": {
     "end_time": "2024-05-25T13:50:39.770135100Z",
     "start_time": "2024-05-25T13:50:39.532700300Z"
    }
   },
   "id": "6aa31226afd0f39e"
  },
  {
   "cell_type": "code",
   "execution_count": 304,
   "outputs": [],
   "source": [
    "\n",
    "# Add the label on the left bottom corner of the main plot\n",
    "# that shows the current `year`.\n",
    "# It will be updated when the `year` changes.\n",
    "# Reference: https://docs.bokeh.org/en/3.3.0/docs/user_guide/basic/annotations.html#labels\n",
    "label = Label(\n",
    "    x=20, \n",
    "    y=20, \n",
    "    x_units = 'screen',\n",
    "    y_units = 'screen', \n",
    "    text=str(year), \n",
    "    text_font_size='50px', \n",
    "    text_color='white',\n",
    "    text_alpha=0.7,\n",
    ")\n",
    "\n",
    "main_plot.add_layout(label)"
   ],
   "metadata": {
    "collapsed": false,
    "ExecuteTime": {
     "end_time": "2024-05-25T13:50:39.957711800Z",
     "start_time": "2024-05-25T13:50:39.774150500Z"
    }
   },
   "id": "69a8df0771a9f8ab"
  },
  {
   "cell_type": "code",
   "execution_count": 305,
   "outputs": [],
   "source": [
    "\n",
    "## 2.2 Define a function to draw the subplot\n",
    "\n",
    "# The subplot shows the companies in the city \n",
    "# selected by the tap tool in the main plot.\n",
    "# Each circle represents one company.\n",
    "# The color of the circle correspond to \n",
    "# the color of the city the company belongs to.\n",
    "\n",
    "# Find the (min, max) of 'Market Cap' and 'Employees' in us_company_map\n",
    "\n",
    "markt_max, markt_min = max(main_df['Market Cap']), min(main_df['Market Cap'])\n",
    "emp_max, emp_min = max(main_df['Employees']), min(main_df['Employees'])\n",
    "\n",
    "def plot_company(sub_df):\n",
    "    sub_source = ColumnDataSource(sub_df)\n",
    "    city = sub_df['City'].iloc[0]\n",
    "    print(sub_df)\n",
    "\n",
    "    # Set the x and y ranges to be slightly larger than\n",
    "    # the (min, max) of 'Employees' and 'Market Cap'\n",
    "    # that you've found in the previous step,\n",
    "    # so that the x and y ranges of the subplot remain the same \n",
    "    # when `city` or `year` changes.\n",
    "    x_range = Range1d(\n",
    "        start=emp_min* 0.99,\n",
    "        end=emp_max * 1.1,\n",
    "    )\n",
    "    y_range = Range1d(\n",
    "        start=markt_min * 0.99,\n",
    "        end=markt_max * 1.1,\n",
    "    )\n",
    "    p = figure(\n",
    "        width=450,\n",
    "        height=400, \n",
    "        min_border=20,\n",
    "        min_border_top=45,\n",
    "        x_range=x_range,\n",
    "        y_range=y_range,\n",
    "        x_axis_type=\"log\",\n",
    "        y_axis_type=\"log\",\n",
    "        y_axis_location=\"right\", \n",
    "        # Note that the title of the subplot will be updated \n",
    "        # when `city` or `year` changes.\n",
    "        title=f'US Tech Companies in {city} of {year}',\n",
    "        tools='pan, wheel_zoom, reset', \n",
    "        toolbar_location='right',\n",
    "    )\n",
    "    p.xaxis.axis_label = 'Number of Employees'\n",
    "    p.yaxis.axis_label = 'Market Cap in Billion USD'\n",
    "    p.xaxis.formatter = NumeralTickFormatter(format='0,0 a')\n",
    "    p.yaxis.formatter = NumeralTickFormatter(format='0,0.00 a')\n",
    "    p.background_fill_color = \"#fafafa\"\n",
    "    p.toolbar.logo = None\n",
    "    \n",
    "    c = p.scatter(x= 'Employees', y='Market Cap', color='c_col', source=sub_source, size=5, alpha=0.6, line_color=None)\n",
    "    \n",
    "    # Add a hover tool to the circle glyph to show the symbol of the company, \n",
    "    # the market cap, and the number of employees. \n",
    "    hover_company = HoverTool()\n",
    "    hover_company.tooltips=[\n",
    "            ('symbol', '@Symbol'),\n",
    "        ('market cap', '@{Market Cap}{0,0.00 a}'),\n",
    "        ('employees', '@{Employees}'),\n",
    "    ]\n",
    "    hover_company.renderers = [c]     \n",
    "    p.add_tools(hover_company)\n",
    "\n",
    "    # Add the Text glyph to show the symbol on the circle \n",
    "    # reference:   \n",
    "    # https://docs.bokeh.org/en/3.1.0/docs/reference/models/glyphs/text.html\n",
    "    t = Text(\n",
    "        x='Employees',\n",
    "        y='Market Cap',\n",
    "        text='Symbol',\n",
    "        text_font_size='6pt',\n",
    "        text_align='center',\n",
    "        text_baseline='middle',\n",
    "        text_color='gray',\n",
    "        text_alpha=0.8,\n",
    "        x_offset=0,\n",
    "        y_offset=0,\n",
    "    )\n",
    "    p.add_glyph(sub_source, t)\n",
    "\n",
    "    return p"
   ],
   "metadata": {
    "collapsed": false,
    "ExecuteTime": {
     "end_time": "2024-05-25T13:50:41.319658400Z",
     "start_time": "2024-05-25T13:50:41.305149600Z"
    }
   },
   "id": "47c5b262466d3678"
  },
  {
   "cell_type": "code",
   "execution_count": 306,
   "outputs": [
    {
     "name": "stdout",
     "output_type": "stream",
     "text": [
      "    Symbol      City             x             y  Market Cap  Employees  \\\n",
      "19    CSCO  San Jose -1.356406e+07  4.481174e+06   195.46692    83300.0   \n",
      "23     WDC  San Jose -1.356406e+07  4.481174e+06    10.03290    65000.0   \n",
      "39    SANM  San Jose -1.356406e+07  4.481174e+06     3.30718    34000.0   \n",
      "52    ADBE  San Jose -1.356406e+07  4.481174e+06   154.46727    25988.0   \n",
      "68    AVGO  San Jose -1.356406e+07  4.481174e+06   233.71634    20000.0   \n",
      "98    NTAP  San Jose -1.356406e+07  4.481174e+06    12.97296    12000.0   \n",
      "103   EBAY  San Jose -1.356406e+07  4.481174e+06    22.43527    10800.0   \n",
      "108   CDNS  San Jose -1.356406e+07  4.481174e+06    43.56525     9300.0   \n",
      "119     ZM  San Jose -1.356406e+07  4.481174e+06    19.22825     8422.0   \n",
      "137   LITE  San Jose -1.356406e+07  4.481174e+06     3.55278     6815.0   \n",
      "143   NTNX  San Jose -1.356406e+07  4.481174e+06     5.95357     6450.0   \n",
      "167     ZS  San Jose -1.356406e+07  4.481174e+06    16.17078     4975.0   \n",
      "175   SMCI  San Jose -1.356406e+07  4.481174e+06     4.36444     4607.0   \n",
      "214   INFN  San Jose -1.356406e+07  4.481174e+06     1.48227     3225.0   \n",
      "255   BILL  San Jose -1.356406e+07  4.481174e+06    11.53952     2269.0   \n",
      "264   ADEA  San Jose -1.356406e+07  4.481174e+06     0.99668     2200.0   \n",
      "292   XPER  San Jose -1.356406e+07  4.481174e+06     0.89833     1800.0   \n",
      "296   SYNA  San Jose -1.356406e+07  4.481174e+06     3.78737     1775.0   \n",
      "386   HLIT  San Jose -1.356406e+07  4.481174e+06     1.37655      962.0   \n",
      "387   CALX  San Jose -1.356406e+07  4.481174e+06     4.48613      954.0   \n",
      "392   QMCO  San Jose -1.356406e+07  4.481174e+06     0.10110      905.0   \n",
      "419   POWI  San Jose -1.356406e+07  4.481174e+06     4.09478      773.0   \n",
      "420   NTGR  San Jose -1.356406e+07  4.481174e+06     0.54766      771.0   \n",
      "436   RMBS  San Jose -1.356406e+07  4.481174e+06     3.85434      690.0   \n",
      "455   ATEN  San Jose -1.356406e+07  4.481174e+06     1.29341      590.0   \n",
      "480   VLDR  San Jose -1.356406e+07  4.481174e+06     0.15900      407.0   \n",
      "488   CRDO  San Jose -1.356406e+07  4.481174e+06     1.44947      382.0   \n",
      "557   CPTN  San Jose -1.356406e+07  4.481174e+06     0.18659      151.0   \n",
      "602   PRSO  San Jose -1.356406e+07  4.481174e+06     0.01467       82.0   \n",
      "631   QUIK  San Jose -1.356406e+07  4.481174e+06     0.06470       48.0   \n",
      "632   WATT  San Jose -1.356406e+07  4.481174e+06     0.06478       48.0   \n",
      "\n",
      "       c_col  circle_size  \n",
      "19   #A50026    33.990647  \n",
      "23   #A50026    33.246474  \n",
      "39   #A50026    31.302436  \n",
      "52   #A50026    30.496286  \n",
      "68   #A50026    29.710613  \n",
      "98   #A50026    28.178236  \n",
      "103  #A50026    27.862182  \n",
      "108  #A50026    27.413632  \n",
      "119  #A50026    27.116164  \n",
      "137  #A50026    26.481084  \n",
      "143  #A50026    26.315971  \n",
      "167  #A50026    25.537145  \n",
      "175  #A50026    25.306648  \n",
      "214  #A50026    24.236995  \n",
      "255  #A50026    23.182605  \n",
      "264  #A50026    23.090001  \n",
      "292  #A50026    22.488292  \n",
      "296  #A50026    22.446357  \n",
      "386  #A50026    20.610160  \n",
      "387  #A50026    20.585134  \n",
      "392  #A50026    20.427118  \n",
      "419  #A50026    19.954716  \n",
      "420  #A50026    19.946954  \n",
      "436  #A50026    19.614419  \n",
      "455  #A50026    19.145448  \n",
      "480  #A50026    18.033802  \n",
      "488  #A50026    17.844105  \n",
      "557  #A50026    15.071642  \n",
      "602  #A50026    13.256522  \n",
      "631  #A50026    11.675461  \n",
      "632  #A50026    11.675461  \n"
     ]
    },
    {
     "data": {
      "text/html": "\n  <div id=\"bbc8d6a1-081a-45a8-9063-ac4eb51b2e06\" data-root-id=\"p2846\" style=\"display: contents;\"></div>\n"
     },
     "metadata": {},
     "output_type": "display_data"
    },
    {
     "data": {
      "application/javascript": "(function(root) {\n  function embed_document(root) {\n  const docs_json = {\"c7a55cac-709d-4396-9fbf-1ac3ed7c509b\":{\"version\":\"3.3.4\",\"title\":\"Bokeh Application\",\"roots\":[{\"type\":\"object\",\"name\":\"Figure\",\"id\":\"p2846\",\"attributes\":{\"width\":450,\"height\":400,\"x_range\":{\"type\":\"object\",\"name\":\"Range1d\",\"id\":\"p2844\",\"attributes\":{\"start\":0.99,\"end\":1718970.0000000002}},\"y_range\":{\"type\":\"object\",\"name\":\"Range1d\",\"id\":\"p2845\",\"attributes\":{\"start\":0.0002178,\"end\":2271.43565}},\"x_scale\":{\"type\":\"object\",\"name\":\"LogScale\",\"id\":\"p2856\"},\"y_scale\":{\"type\":\"object\",\"name\":\"LogScale\",\"id\":\"p2857\"},\"title\":{\"type\":\"object\",\"name\":\"Title\",\"id\":\"p2849\",\"attributes\":{\"text\":\"US Tech Companies in San Jose of 2022\",\"text_color\":\"#E0E0E0\",\"text_font\":\"Helvetica\",\"text_font_size\":\"1.15em\"}},\"outline_line_color\":\"#E0E0E0\",\"outline_line_alpha\":0.25,\"renderers\":[{\"type\":\"object\",\"name\":\"GlyphRenderer\",\"id\":\"p2879\",\"attributes\":{\"data_source\":{\"type\":\"object\",\"name\":\"ColumnDataSource\",\"id\":\"p2841\",\"attributes\":{\"selected\":{\"type\":\"object\",\"name\":\"Selection\",\"id\":\"p2842\",\"attributes\":{\"indices\":[],\"line_indices\":[]}},\"selection_policy\":{\"type\":\"object\",\"name\":\"UnionRenderers\",\"id\":\"p2843\"},\"data\":{\"type\":\"map\",\"entries\":[[\"index\",{\"type\":\"ndarray\",\"array\":{\"type\":\"bytes\",\"data\":\"EwAAABcAAAAnAAAANAAAAEQAAABiAAAAZwAAAGwAAAB3AAAAiQAAAI8AAACnAAAArwAAANYAAAD/AAAACAEAACQBAAAoAQAAggEAAIMBAACIAQAAowEAAKQBAAC0AQAAxwEAAOABAADoAQAALQIAAFoCAAB3AgAAeAIAAA==\"},\"shape\":[31],\"dtype\":\"int32\",\"order\":\"little\"}],[\"Symbol\",{\"type\":\"ndarray\",\"array\":[\"CSCO\",\"WDC\",\"SANM\",\"ADBE\",\"AVGO\",\"NTAP\",\"EBAY\",\"CDNS\",\"ZM\",\"LITE\",\"NTNX\",\"ZS\",\"SMCI\",\"INFN\",\"BILL\",\"ADEA\",\"XPER\",\"SYNA\",\"HLIT\",\"CALX\",\"QMCO\",\"POWI\",\"NTGR\",\"RMBS\",\"ATEN\",\"VLDR\",\"CRDO\",\"CPTN\",\"PRSO\",\"QUIK\",\"WATT\"],\"shape\":[31],\"dtype\":\"object\",\"order\":\"little\"}],[\"City\",{\"type\":\"ndarray\",\"array\":[\"San Jose\",\"San Jose\",\"San Jose\",\"San Jose\",\"San Jose\",\"San Jose\",\"San Jose\",\"San Jose\",\"San Jose\",\"San Jose\",\"San Jose\",\"San Jose\",\"San Jose\",\"San Jose\",\"San Jose\",\"San Jose\",\"San Jose\",\"San Jose\",\"San Jose\",\"San Jose\",\"San Jose\",\"San Jose\",\"San Jose\",\"San Jose\",\"San Jose\",\"San Jose\",\"San Jose\",\"San Jose\",\"San Jose\",\"San Jose\",\"San Jose\"],\"shape\":[31],\"dtype\":\"object\",\"order\":\"little\"}],[\"x\",{\"type\":\"ndarray\",\"array\":{\"type\":\"bytes\",\"data\":\"ssANKhPfacGywA0qE99pwbLADSoT32nBssANKhPfacGywA0qE99pwbLADSoT32nBssANKhPfacGywA0qE99pwbLADSoT32nBssANKhPfacGywA0qE99pwbLADSoT32nBssANKhPfacGywA0qE99pwbLADSoT32nBssANKhPfacGywA0qE99pwbLADSoT32nBssANKhPfacGywA0qE99pwbLADSoT32nBssANKhPfacGywA0qE99pwbLADSoT32nBssANKhPfacGywA0qE99pwbLADSoT32nBssANKhPfacGywA0qE99pwbLADSoT32nBssANKhPfacE=\"},\"shape\":[31],\"dtype\":\"float64\",\"order\":\"little\"}],[\"y\",{\"type\":\"ndarray\",\"array\":{\"type\":\"bytes\",\"data\":\"pCY8cCUYUUGkJjxwJRhRQaQmPHAlGFFBpCY8cCUYUUGkJjxwJRhRQaQmPHAlGFFBpCY8cCUYUUGkJjxwJRhRQaQmPHAlGFFBpCY8cCUYUUGkJjxwJRhRQaQmPHAlGFFBpCY8cCUYUUGkJjxwJRhRQaQmPHAlGFFBpCY8cCUYUUGkJjxwJRhRQaQmPHAlGFFBpCY8cCUYUUGkJjxwJRhRQaQmPHAlGFFBpCY8cCUYUUGkJjxwJRhRQaQmPHAlGFFBpCY8cCUYUUGkJjxwJRhRQaQmPHAlGFFBpCY8cCUYUUGkJjxwJRhRQaQmPHAlGFFBpCY8cCUYUUE=\"},\"shape\":[31],\"dtype\":\"float64\",\"order\":\"little\"}],[\"Market Cap\",{\"type\":\"ndarray\",\"array\":{\"type\":\"bytes\",\"data\":\"JTs2AvFuaECpE9BE2BAkQNrhr8kadQpA3Qw34PNOY0AiGt1B7DZtQOChKNAn8ilAD+7O2m1vNkAxCKwcWshFQN9PjZduOjNAIxCv6xdsDEBxyXGndNAXQJbP8jy4KzBAvmplwi91EUCBeF2/YLf3P2oTJ/c7FCdAFHmSdM3k7z9zgGCOHr/sP+rPfqSITA5A2PD0SlkG9j/9ag4QzPERQFInoImw4bk/cEIhAg5hEEC8eapDbobhPy9RvTWw1Q5AGRwlr86x9D8nMQisHFrEP6mHaHQHMfc/p1zhXS7ixz+XytsRTguOP3EbDeAtkLA/TFRvDWyVsD8=\"},\"shape\":[31],\"dtype\":\"float64\",\"order\":\"little\"}],[\"Employees\",{\"type\":\"ndarray\",\"array\":{\"type\":\"bytes\",\"data\":\"AAAAAEBW9EAAAAAAAL3vQAAAAAAAmuBAAAAAAABh2UAAAAAAAIjTQAAAAAAAcMdAAAAAAAAYxUAAAAAAACrCQAAAAAAAc8BAAAAAAACfukAAAAAAADK5QAAAAAAAb7NAAAAAAAD/sUAAAAAAADKpQAAAAAAAuqFAAAAAAAAwoUAAAAAAACCcQAAAAAAAvJtAAAAAAAAQjkAAAAAAANCNQAAAAAAASIxAAAAAAAAoiEAAAAAAABiIQAAAAAAAkIVAAAAAAABwgkAAAAAAAHB5QAAAAAAA4HdAAAAAAADgYkAAAAAAAIBUQAAAAAAAAEhAAAAAAAAASEA=\"},\"shape\":[31],\"dtype\":\"float64\",\"order\":\"little\"}],[\"c_col\",{\"type\":\"ndarray\",\"array\":[\"#A50026\",\"#A50026\",\"#A50026\",\"#A50026\",\"#A50026\",\"#A50026\",\"#A50026\",\"#A50026\",\"#A50026\",\"#A50026\",\"#A50026\",\"#A50026\",\"#A50026\",\"#A50026\",\"#A50026\",\"#A50026\",\"#A50026\",\"#A50026\",\"#A50026\",\"#A50026\",\"#A50026\",\"#A50026\",\"#A50026\",\"#A50026\",\"#A50026\",\"#A50026\",\"#A50026\",\"#A50026\",\"#A50026\",\"#A50026\",\"#A50026\"],\"shape\":[31],\"dtype\":\"object\",\"order\":\"little\"}],[\"circle_size\",{\"type\":\"ndarray\",\"array\":{\"type\":\"bytes\",\"data\":\"3EqIic3+QEB8bRd0jJ9AQCSGI2xsTT9AROibmAx/PkAycvy16rU9QHxxHNygLTxADXq39bfcO0Bht7XC42k7QGAqxey8HTtA0lyhVSh7OkA2Mel+41A6QLyzEFSCiTlABgIkdYBOOUAme4ywqzw4QCiNFjm/LjdAWBFSUgoXN0BOffO0AH02QDNR9G9EcjZAqVYQdjOcNEAF391Xy5U0QD/mkZlXbTRAGS8wPmj0M0Cm5e2Na/IzQKRFL5hKnTNAY4tjFTwlM0CrwHQ3pwgyQNj7XUMX2DFA+EbwM64kLkDDVhTUVoMqQMHDpQLWWSdAwcOlAtZZJ0A=\"},\"shape\":[31],\"dtype\":\"float64\",\"order\":\"little\"}]]}}},\"view\":{\"type\":\"object\",\"name\":\"CDSView\",\"id\":\"p2880\",\"attributes\":{\"filter\":{\"type\":\"object\",\"name\":\"AllIndices\",\"id\":\"p2881\"}}},\"glyph\":{\"type\":\"object\",\"name\":\"Scatter\",\"id\":\"p2876\",\"attributes\":{\"x\":{\"type\":\"field\",\"field\":\"Employees\"},\"y\":{\"type\":\"field\",\"field\":\"Market Cap\"},\"size\":{\"type\":\"value\",\"value\":5},\"line_color\":{\"type\":\"value\",\"value\":null},\"line_alpha\":{\"type\":\"value\",\"value\":0.6},\"fill_color\":{\"type\":\"field\",\"field\":\"c_col\"},\"fill_alpha\":{\"type\":\"value\",\"value\":0.6},\"hatch_color\":{\"type\":\"field\",\"field\":\"c_col\"},\"hatch_alpha\":{\"type\":\"value\",\"value\":0.6}}},\"nonselection_glyph\":{\"type\":\"object\",\"name\":\"Scatter\",\"id\":\"p2877\",\"attributes\":{\"x\":{\"type\":\"field\",\"field\":\"Employees\"},\"y\":{\"type\":\"field\",\"field\":\"Market Cap\"},\"size\":{\"type\":\"value\",\"value\":5},\"line_color\":{\"type\":\"value\",\"value\":null},\"line_alpha\":{\"type\":\"value\",\"value\":0.1},\"fill_color\":{\"type\":\"field\",\"field\":\"c_col\"},\"fill_alpha\":{\"type\":\"value\",\"value\":0.1},\"hatch_color\":{\"type\":\"field\",\"field\":\"c_col\"},\"hatch_alpha\":{\"type\":\"value\",\"value\":0.1}}},\"muted_glyph\":{\"type\":\"object\",\"name\":\"Scatter\",\"id\":\"p2878\",\"attributes\":{\"x\":{\"type\":\"field\",\"field\":\"Employees\"},\"y\":{\"type\":\"field\",\"field\":\"Market Cap\"},\"size\":{\"type\":\"value\",\"value\":5},\"line_color\":{\"type\":\"value\",\"value\":null},\"line_alpha\":{\"type\":\"value\",\"value\":0.2},\"fill_color\":{\"type\":\"field\",\"field\":\"c_col\"},\"fill_alpha\":{\"type\":\"value\",\"value\":0.2},\"hatch_color\":{\"type\":\"field\",\"field\":\"c_col\"},\"hatch_alpha\":{\"type\":\"value\",\"value\":0.2}}}}},{\"type\":\"object\",\"name\":\"GlyphRenderer\",\"id\":\"p2884\",\"attributes\":{\"data_source\":{\"id\":\"p2841\"},\"view\":{\"type\":\"object\",\"name\":\"CDSView\",\"id\":\"p2885\",\"attributes\":{\"filter\":{\"type\":\"object\",\"name\":\"AllIndices\",\"id\":\"p2886\"}}},\"glyph\":{\"type\":\"object\",\"name\":\"Text\",\"id\":\"p2883\",\"attributes\":{\"x\":{\"type\":\"field\",\"field\":\"Employees\"},\"y\":{\"type\":\"field\",\"field\":\"Market Cap\"},\"text\":{\"type\":\"field\",\"field\":\"Symbol\"},\"text_color\":{\"type\":\"value\",\"value\":\"gray\"},\"text_alpha\":{\"type\":\"value\",\"value\":0.8},\"text_font_size\":{\"type\":\"value\",\"value\":\"6pt\"},\"text_align\":{\"type\":\"value\",\"value\":\"center\"},\"text_baseline\":{\"type\":\"value\",\"value\":\"middle\"}}}}}],\"toolbar\":{\"type\":\"object\",\"name\":\"Toolbar\",\"id\":\"p2855\",\"attributes\":{\"logo\":null,\"tools\":[{\"type\":\"object\",\"name\":\"PanTool\",\"id\":\"p2868\"},{\"type\":\"object\",\"name\":\"WheelZoomTool\",\"id\":\"p2869\",\"attributes\":{\"renderers\":\"auto\"}},{\"type\":\"object\",\"name\":\"ResetTool\",\"id\":\"p2870\"},{\"type\":\"object\",\"name\":\"HoverTool\",\"id\":\"p2882\",\"attributes\":{\"renderers\":[{\"id\":\"p2879\"}],\"tooltips\":[[\"symbol\",\"@Symbol\"],[\"market cap\",\"@{Market Cap}{0,0.00 a}\"],[\"employees\",\"@{Employees}\"]]}}]}},\"right\":[{\"type\":\"object\",\"name\":\"LogAxis\",\"id\":\"p2863\",\"attributes\":{\"ticker\":{\"type\":\"object\",\"name\":\"LogTicker\",\"id\":\"p2864\",\"attributes\":{\"num_minor_ticks\":10,\"mantissas\":[1,5]}},\"formatter\":{\"type\":\"object\",\"name\":\"NumeralTickFormatter\",\"id\":\"p2872\",\"attributes\":{\"format\":\"0,0.00 a\"}},\"axis_label\":\"Market Cap in Billion USD\",\"axis_label_standoff\":10,\"axis_label_text_color\":\"#E0E0E0\",\"axis_label_text_font\":\"Helvetica\",\"axis_label_text_font_size\":\"1.25em\",\"axis_label_text_font_style\":\"normal\",\"major_label_policy\":{\"type\":\"object\",\"name\":\"AllLabels\",\"id\":\"p2866\"},\"major_label_text_color\":\"#E0E0E0\",\"major_label_text_font\":\"Helvetica\",\"major_label_text_font_size\":\"1.025em\",\"axis_line_color\":\"#E0E0E0\",\"axis_line_alpha\":0,\"major_tick_line_color\":\"#E0E0E0\",\"major_tick_line_alpha\":0,\"minor_tick_line_color\":\"#E0E0E0\",\"minor_tick_line_alpha\":0}}],\"below\":[{\"type\":\"object\",\"name\":\"LogAxis\",\"id\":\"p2858\",\"attributes\":{\"ticker\":{\"type\":\"object\",\"name\":\"LogTicker\",\"id\":\"p2859\",\"attributes\":{\"num_minor_ticks\":10,\"mantissas\":[1,5]}},\"formatter\":{\"type\":\"object\",\"name\":\"NumeralTickFormatter\",\"id\":\"p2871\",\"attributes\":{\"format\":\"0,0 a\"}},\"axis_label\":\"Number of Employees\",\"axis_label_standoff\":10,\"axis_label_text_color\":\"#E0E0E0\",\"axis_label_text_font\":\"Helvetica\",\"axis_label_text_font_size\":\"1.25em\",\"axis_label_text_font_style\":\"normal\",\"major_label_policy\":{\"type\":\"object\",\"name\":\"AllLabels\",\"id\":\"p2861\"},\"major_label_text_color\":\"#E0E0E0\",\"major_label_text_font\":\"Helvetica\",\"major_label_text_font_size\":\"1.025em\",\"axis_line_color\":\"#E0E0E0\",\"axis_line_alpha\":0,\"major_tick_line_color\":\"#E0E0E0\",\"major_tick_line_alpha\":0,\"minor_tick_line_color\":\"#E0E0E0\",\"minor_tick_line_alpha\":0}}],\"center\":[{\"type\":\"object\",\"name\":\"Grid\",\"id\":\"p2862\",\"attributes\":{\"axis\":{\"id\":\"p2858\"},\"grid_line_color\":\"#E0E0E0\",\"grid_line_alpha\":0.25}},{\"type\":\"object\",\"name\":\"Grid\",\"id\":\"p2867\",\"attributes\":{\"dimension\":1,\"axis\":{\"id\":\"p2863\"},\"grid_line_color\":\"#E0E0E0\",\"grid_line_alpha\":0.25}}],\"background_fill_color\":\"#fafafa\",\"border_fill_color\":\"#15191C\",\"min_border_top\":45,\"min_border\":20}}]}};\n  const render_items = [{\"docid\":\"c7a55cac-709d-4396-9fbf-1ac3ed7c509b\",\"roots\":{\"p2846\":\"bbc8d6a1-081a-45a8-9063-ac4eb51b2e06\"},\"root_ids\":[\"p2846\"]}];\n  root.Bokeh.embed.embed_items_notebook(docs_json, render_items);\n  }\n  if (root.Bokeh !== undefined) {\n    embed_document(root);\n  } else {\n    let attempts = 0;\n    const timer = setInterval(function(root) {\n      if (root.Bokeh !== undefined) {\n        clearInterval(timer);\n        embed_document(root);\n      } else {\n        attempts++;\n        if (attempts > 100) {\n          clearInterval(timer);\n          console.log(\"Bokeh: ERROR: Unable to run BokehJS code because BokehJS library is missing\");\n        }\n      }\n    }, 10, root)\n  }\n})(window);",
      "application/vnd.bokehjs_exec.v0+json": ""
     },
     "metadata": {
      "application/vnd.bokehjs_exec.v0+json": {
       "id": "p2846"
      }
     },
     "output_type": "display_data"
    }
   ],
   "source": [
    "\n",
    "subplot = plot_company(sub_df)\n",
    "show(subplot)"
   ],
   "metadata": {
    "collapsed": false,
    "ExecuteTime": {
     "end_time": "2024-05-25T13:50:42.599954600Z",
     "start_time": "2024-05-25T13:50:42.386348200Z"
    }
   },
   "id": "f8bd26aa49df06b7"
  },
  {
   "cell_type": "code",
   "execution_count": 271,
   "outputs": [],
   "source": [
    "\n",
    "# ====================================================================\n",
    "# Task 3: Interaction\n",
    "# ====================================================================\n",
    "\n",
    "## 3.1 Define a callback function for the tap tool in the main plot\n",
    "\n",
    "# When a city is selected on the main plot by the tap tool, \n",
    "# the subplot will be updated to show the companies in that city,\n",
    "# and the title of the subplot will change accordingly.\n",
    "# reference:\n",
    "# https://stackoverflow.com/questions/55538391/how-to-use-tap-in-bokeh-to-effect-changes-in-a-different-plot-or-table\n",
    "# https://stackoverflow.com/questions/61600714/bokeh-server-change-color-of-glyph-on-select-with-tap-tool"
   ],
   "metadata": {
    "collapsed": false,
    "ExecuteTime": {
     "end_time": "2024-05-25T13:39:40.727564100Z",
     "start_time": "2024-05-25T13:39:40.689346900Z"
    }
   },
   "id": "25fd4b4a1e7af991"
  },
  {
   "cell_type": "code",
   "execution_count": 271,
   "outputs": [],
   "source": [],
   "metadata": {
    "collapsed": false,
    "ExecuteTime": {
     "end_time": "2024-05-25T13:39:40.735454400Z",
     "start_time": "2024-05-25T13:39:40.700913300Z"
    }
   },
   "id": "b696f86e24690bae"
  },
  {
   "cell_type": "code",
   "execution_count": 272,
   "outputs": [],
   "source": [
    "#subplot.renderers[0].data_source.data"
   ],
   "metadata": {
    "collapsed": false,
    "ExecuteTime": {
     "end_time": "2024-05-25T13:39:40.736455600Z",
     "start_time": "2024-05-25T13:39:40.715929700Z"
    }
   },
   "id": "fcdd181efc905fdb"
  },
  {
   "cell_type": "code",
   "execution_count": 273,
   "outputs": [],
   "source": [
    "#subplot.renderers[1].data_source.data"
   ],
   "metadata": {
    "collapsed": false,
    "ExecuteTime": {
     "end_time": "2024-05-25T13:39:40.746455100Z",
     "start_time": "2024-05-25T13:39:40.734442900Z"
    }
   },
   "id": "38b101738960094d"
  },
  {
   "cell_type": "code",
   "execution_count": 274,
   "outputs": [
    {
     "data": {
      "text/plain": "'Ashburn'"
     },
     "execution_count": 274,
     "metadata": {},
     "output_type": "execute_result"
    }
   ],
   "source": [
    "main_df.iloc[9]['City']\n"
   ],
   "metadata": {
    "collapsed": false,
    "ExecuteTime": {
     "end_time": "2024-05-25T13:39:40.790805400Z",
     "start_time": "2024-05-25T13:39:40.748455100Z"
    }
   },
   "id": "9739a316283ddd6d"
  },
  {
   "cell_type": "code",
   "execution_count": 275,
   "outputs": [],
   "source": [
    "\n",
    "def tap_update(attr, old, new):\n",
    "    if new:\n",
    "        global city\n",
    "        print('new, city', new, city)\n",
    "        #city = main_plot.selected.indices\n",
    "        #city = main_plot.renderers[1].data_source.data.iloc([new[0]])['City']\n",
    "        #print(city)\n",
    "        # get the selected city name from the main plot\n",
    "        city = main_df.iloc[new[0]]['City']\n",
    "        print(city)\n",
    "        # update the data source of the glyphs in the subplot\n",
    "        sub_df = create_df(year, city, market_cap_lower, main=False)\n",
    "        subplot.renderers[0].data_source.data = dict(ColumnDataSource(sub_df).data)\n",
    "        #subplot.renderers[0].data_source.data = plot_company(sub_df)\n",
    "        subplot.renderers[1].data_source.data = dict(ColumnDataSource(sub_df).data)\n",
    "        # update the title of the subplot\n",
    "        subplot.title.text = f'US Tech Companies in {city} of {year}'"
   ],
   "metadata": {
    "collapsed": false,
    "ExecuteTime": {
     "end_time": "2024-05-25T13:39:40.791875200Z",
     "start_time": "2024-05-25T13:39:40.767271700Z"
    }
   },
   "id": "599a2f57403aed19"
  },
  {
   "cell_type": "code",
   "execution_count": 276,
   "outputs": [
    {
     "data": {
      "text/plain": "{'index': array([ 19,  23,  39,  52,  68,  98, 103, 108, 119, 137, 143, 167, 175,\n        214, 255, 264, 292, 296, 386, 387, 392, 419, 420, 436, 455, 480,\n        488, 557, 602, 631, 632], dtype=int64),\n 'Symbol': array(['CSCO', 'WDC', 'SANM', 'ADBE', 'AVGO', 'NTAP', 'EBAY', 'CDNS',\n        'ZM', 'LITE', 'NTNX', 'ZS', 'SMCI', 'INFN', 'BILL', 'ADEA', 'XPER',\n        'SYNA', 'HLIT', 'CALX', 'QMCO', 'POWI', 'NTGR', 'RMBS', 'ATEN',\n        'VLDR', 'CRDO', 'CPTN', 'PRSO', 'QUIK', 'WATT'], dtype=object),\n 'City': array(['San Jose', 'San Jose', 'San Jose', 'San Jose', 'San Jose',\n        'San Jose', 'San Jose', 'San Jose', 'San Jose', 'San Jose',\n        'San Jose', 'San Jose', 'San Jose', 'San Jose', 'San Jose',\n        'San Jose', 'San Jose', 'San Jose', 'San Jose', 'San Jose',\n        'San Jose', 'San Jose', 'San Jose', 'San Jose', 'San Jose',\n        'San Jose', 'San Jose', 'San Jose', 'San Jose', 'San Jose',\n        'San Jose'], dtype=object),\n 'x': array([-13564057.3141788, -13564057.3141788, -13564057.3141788,\n        -13564057.3141788, -13564057.3141788, -13564057.3141788,\n        -13564057.3141788, -13564057.3141788, -13564057.3141788,\n        -13564057.3141788, -13564057.3141788, -13564057.3141788,\n        -13564057.3141788, -13564057.3141788, -13564057.3141788,\n        -13564057.3141788, -13564057.3141788, -13564057.3141788,\n        -13564057.3141788, -13564057.3141788, -13564057.3141788,\n        -13564057.3141788, -13564057.3141788, -13564057.3141788,\n        -13564057.3141788, -13564057.3141788, -13564057.3141788,\n        -13564057.3141788, -13564057.3141788, -13564057.3141788,\n        -13564057.3141788]),\n 'y': array([4481173.75367132, 4481173.75367132, 4481173.75367132,\n        4481173.75367132, 4481173.75367132, 4481173.75367132,\n        4481173.75367132, 4481173.75367132, 4481173.75367132,\n        4481173.75367132, 4481173.75367132, 4481173.75367132,\n        4481173.75367132, 4481173.75367132, 4481173.75367132,\n        4481173.75367132, 4481173.75367132, 4481173.75367132,\n        4481173.75367132, 4481173.75367132, 4481173.75367132,\n        4481173.75367132, 4481173.75367132, 4481173.75367132,\n        4481173.75367132, 4481173.75367132, 4481173.75367132,\n        4481173.75367132, 4481173.75367132, 4481173.75367132,\n        4481173.75367132]),\n 'Market Cap': array([1.9546692e+02, 1.0032900e+01, 3.3071800e+00, 1.5446727e+02,\n        2.3371634e+02, 1.2972960e+01, 2.2435270e+01, 4.3565250e+01,\n        1.9228250e+01, 3.5527800e+00, 5.9535700e+00, 1.6170780e+01,\n        4.3644400e+00, 1.4822700e+00, 1.1539520e+01, 9.9668000e-01,\n        8.9833000e-01, 3.7873700e+00, 1.3765500e+00, 4.4861300e+00,\n        1.0110000e-01, 4.0947800e+00, 5.4766000e-01, 3.8543400e+00,\n        1.2934100e+00, 1.5900000e-01, 1.4494700e+00, 1.8659000e-01,\n        1.4670000e-02, 6.4700000e-02, 6.4780000e-02]),\n 'Employees': array([8.3300e+04, 6.5000e+04, 3.4000e+04, 2.5988e+04, 2.0000e+04,\n        1.2000e+04, 1.0800e+04, 9.3000e+03, 8.4220e+03, 6.8150e+03,\n        6.4500e+03, 4.9750e+03, 4.6070e+03, 3.2250e+03, 2.2690e+03,\n        2.2000e+03, 1.8000e+03, 1.7750e+03, 9.6200e+02, 9.5400e+02,\n        9.0500e+02, 7.7300e+02, 7.7100e+02, 6.9000e+02, 5.9000e+02,\n        4.0700e+02, 3.8200e+02, 1.5100e+02, 8.2000e+01, 4.8000e+01,\n        4.8000e+01]),\n 'c_col': array(['#A50026', '#A50026', '#A50026', '#A50026', '#A50026', '#A50026',\n        '#A50026', '#A50026', '#A50026', '#A50026', '#A50026', '#A50026',\n        '#A50026', '#A50026', '#A50026', '#A50026', '#A50026', '#A50026',\n        '#A50026', '#A50026', '#A50026', '#A50026', '#A50026', '#A50026',\n        '#A50026', '#A50026', '#A50026', '#A50026', '#A50026', '#A50026',\n        '#A50026'], dtype=object),\n 'circle_size': array([33.9906475 , 33.2464738 , 31.30243564, 30.49628595, 29.71061265,\n        28.17823578, 27.862182  , 27.4136316 , 27.11616401, 26.48108421,\n        26.31597131, 25.5371449 , 25.30664761, 24.23699478, 23.18260533,\n        23.09000124, 22.48829204, 22.44635677, 20.61016024, 20.58513402,\n        20.42711792, 19.95471562, 19.94695365, 19.61441947, 19.14544805,\n        18.03380152, 17.84410497, 15.07164156, 13.25652182, 11.67546089,\n        11.67546089])}"
     },
     "execution_count": 276,
     "metadata": {},
     "output_type": "execute_result"
    }
   ],
   "source": [
    "dict(ColumnDataSource(sub_df).data)"
   ],
   "metadata": {
    "collapsed": false,
    "ExecuteTime": {
     "end_time": "2024-05-25T13:39:40.801887100Z",
     "start_time": "2024-05-25T13:39:40.778787100Z"
    }
   },
   "id": "ad19dc84e43ceb10"
  },
  {
   "cell_type": "code",
   "execution_count": 307,
   "outputs": [
    {
     "name": "stderr",
     "output_type": "stream",
     "text": [
      "WARNING:bokeh.embed.util:\n",
      "You are generating standalone HTML/JS output, but trying to use real Python\n",
      "callbacks (i.e. with on_change or on_event). This combination cannot work.\n",
      "\n",
      "Only JavaScript callbacks may be used with standalone output. For more\n",
      "information on JavaScript callbacks with Bokeh, see:\n",
      "\n",
      "    https://docs.bokeh.org/en/latest/docs/user_guide/interaction/callbacks.html\n",
      "\n",
      "Alternatively, to use real Python callbacks, a Bokeh server application may\n",
      "be used. For more information on building and running Bokeh applications, see:\n",
      "\n",
      "    https://docs.bokeh.org/en/latest/docs/user_guide/server.html\n",
      "\n"
     ]
    },
    {
     "data": {
      "text/html": "\n  <div id=\"bbb788f2-8f93-487b-9f35-5be403c5fc72\" data-root-id=\"p2790\" style=\"display: contents;\"></div>\n"
     },
     "metadata": {},
     "output_type": "display_data"
    },
    {
     "data": {
      "application/javascript": "(function(root) {\n  function embed_document(root) {\n  const docs_json = {\"20998e6f-2332-457f-b98b-df9f26fc12ed\":{\"version\":\"3.3.4\",\"title\":\"Bokeh Application\",\"roots\":[{\"type\":\"object\",\"name\":\"Figure\",\"id\":\"p2790\",\"attributes\":{\"width\":800,\"x_range\":{\"type\":\"object\",\"name\":\"Range1d\",\"id\":\"p2788\",\"attributes\":{\"start\":-13885172.920161882,\"end\":-7688399.680236508}},\"y_range\":{\"type\":\"object\",\"name\":\"Range1d\",\"id\":\"p2789\",\"attributes\":{\"start\":2762428.9602158717,\"end\":6298956.162200291}},\"x_scale\":{\"type\":\"object\",\"name\":\"LinearScale\",\"id\":\"p2800\"},\"y_scale\":{\"type\":\"object\",\"name\":\"LinearScale\",\"id\":\"p2801\"},\"title\":{\"type\":\"object\",\"name\":\"Title\",\"id\":\"p2793\",\"attributes\":{\"text\":\"US Tech Companies Distribution by City\",\"text_color\":\"#E0E0E0\",\"text_font\":\"Helvetica\",\"text_font_size\":\"1.15em\"}},\"outline_line_color\":\"#E0E0E0\",\"outline_line_alpha\":0.25,\"renderers\":[{\"type\":\"object\",\"name\":\"TileRenderer\",\"id\":\"p2816\",\"attributes\":{\"tile_source\":{\"type\":\"object\",\"name\":\"WMTSTileSource\",\"id\":\"p2621\",\"attributes\":{\"url\":\"http://tiles.stadiamaps.com/tiles/stamen_terrain/{Z}/{X}/{Y}.png\",\"attribution\":\"\\n        &copy;  <a href=\\\"http://stamen.com\\\">Stamen Design</a>\\n        &copy;  <a href=\\\"http://creativecommons.org/licenses/by/3.0\\\">CC BY 3.0</a>\\n        &copy;  <a href=\\\"http://openstreetmap.org\\\">OpenStreetMap</a>\\n        &copy;  <a href=\\\"http://www.openstreetmap.org/copyright\\\">ODbL</a>\\n    \"}}}},{\"type\":\"object\",\"name\":\"GlyphRenderer\",\"id\":\"p2825\",\"attributes\":{\"data_source\":{\"type\":\"object\",\"name\":\"ColumnDataSource\",\"id\":\"p2785\",\"attributes\":{\"selected\":{\"type\":\"object\",\"name\":\"Selection\",\"id\":\"p2786\",\"attributes\":{\"indices\":[],\"line_indices\":[]}},\"selection_policy\":{\"type\":\"object\",\"name\":\"UnionRenderers\",\"id\":\"p2787\"},\"data\":{\"type\":\"map\",\"entries\":[[\"index\",{\"type\":\"ndarray\",\"array\":{\"type\":\"bytes\",\"data\":\"AAAAAAEAAAACAAAAAwAAAAQAAAAFAAAABgAAAAcAAAAIAAAACQAAAAoAAAALAAAADAAAAA0AAAAOAAAADwAAABAAAAARAAAAEgAAABMAAAAUAAAAFQAAABYAAAAXAAAAGAAAABkAAAAaAAAAGwAAABwAAAAdAAAAHgAAAB8AAAAgAAAAIQAAACIAAAAjAAAAJAAAACUAAAAmAAAAJwAAACgAAAApAAAAKgAAACsAAAAsAAAALQAAAC4AAAAvAAAAMAAAADEAAAAyAAAAMwAAADQAAAA1AAAANgAAADcAAAA4AAAAOQAAADoAAAA7AAAAPAAAAD0AAAA+AAAAPwAAAEAAAABBAAAAQgAAAEMAAABEAAAARQAAAEYAAABHAAAASAAAAEkAAABKAAAASwAAAEwAAABNAAAATgAAAE8AAABQAAAAUQAAAFIAAABTAAAAVAAAAFUAAABWAAAAVwAAAFgAAABZAAAAWgAAAFsAAABcAAAAXQAAAF4AAABfAAAAYAAAAGEAAABiAAAAYwAAAGQAAABlAAAAZgAAAGcAAABoAAAAaQAAAGoAAABrAAAAbAAAAG0AAABuAAAAbwAAAHAAAABxAAAAcgAAAHMAAAB0AAAAdQAAAHYAAAB3AAAAeAAAAHkAAAB6AAAAewAAAHwAAAB9AAAAfgAAAH8AAACAAAAAgQAAAIIAAACDAAAAhAAAAIUAAACGAAAAhwAAAIgAAACJAAAAigAAAIsAAACMAAAAjQAAAI4AAACPAAAAkAAAAJEAAACSAAAAkwAAAJQAAACVAAAAlgAAAJcAAACYAAAAmQAAAJoAAACbAAAAnAAAAJ0AAACeAAAAnwAAAKAAAAChAAAAogAAAKMAAACkAAAApQAAAKYAAACnAAAAqAAAAKkAAACqAAAAqwAAAKwAAACtAAAArgAAAK8AAACwAAAAsQAAALIAAACzAAAAtAAAALUAAAC2AAAAtwAAALgAAAC5AAAAugAAALsAAAC8AAAAvQAAAL4AAAC/AAAAwAAAAMEAAADCAAAAwwAAAMQAAADFAAAAxgAAAMcAAADIAAAAyQAAAMoAAADLAAAAzAAAAM0AAADOAAAAzwAAANAAAADRAAAA0gAAANMAAADUAAAA1QAAANYAAADXAAAA2AAAANkAAADaAAAA2wAAANwAAADdAAAA3gAAAN8AAADgAAAA4QAAAOIAAADjAAAA5AAAAOUAAADmAAAA5wAAAOgAAADpAAAA6gAAAOsAAADsAAAA7QAAAO4AAADvAAAA8AAAAPEAAADyAAAA8wAAAPQAAAD1AAAA9gAAAPcAAAD4AAAA+QAAAPoAAAD7AAAA/AAAAP0AAAD+AAAA/wAAAAABAAABAQAAAgEAAA==\"},\"shape\":[259],\"dtype\":\"int32\",\"order\":\"little\"}],[\"City\",{\"type\":\"ndarray\",\"array\":[\"Albany\",\"Alhambra\",\"Aliso Viejo\",\"Allentown\",\"Alpharetta\",\"American Fork\",\"Ames\",\"Amherst\",\"Andover\",\"Ashburn\",\"Atlanta\",\"Attleboro\",\"Austin\",\"Aventura\",\"Bala Cynwyd\",\"Baltimore\",\"Bartlett\",\"Beaverton\",\"Bedford\",\"Bellevue\",\"Belmont\",\"Bensenville\",\"Berkeley\",\"Bethesda\",\"Beverly\",\"Billerica\",\"Bloomingdale\",\"Bloomington\",\"Boca Raton\",\"Bohemia\",\"Boise\",\"Boston\",\"Boulder\",\"Bozeman\",\"Braintree\",\"Bridgewater\",\"Brookfield\",\"Brookings\",\"Brooklyn\",\"Broomfield\",\"Burlington\",\"Calabasas\",\"Camarillo\",\"Camas\",\"Cambridge\",\"Campbell\",\"Canonsburg\",\"Carlsbad\",\"Carpinteria\",\"Carrollton\",\"Castle Rock\",\"Centennial\",\"Cerritos\",\"Chandler\",\"Charleston\",\"Charlotte\",\"Chester\",\"Chicago\",\"Cincinnati\",\"Clearwater\",\"College Park\",\"Columbia\",\"Columbus\",\"Coral Gables\",\"Corning\",\"Costa Mesa\",\"Covington\",\"Cupertino\",\"Dallas\",\"Dania Beach\",\"Denver\",\"Detroit\",\"Duarte\",\"Durham\",\"East Hanover\",\"Easttown\",\"Eden Prairie\",\"El Segundo\",\"Elk Grove Village\",\"Englewood\",\"Escondido\",\"Everett\",\"Ewing\",\"Fairfax\",\"Florham Park\",\"Folsom\",\"Fort Lauderdale\",\"Foster City\",\"Fountain Valley\",\"Fremont\",\"Glen Allen\",\"Grapevine\",\"Greensboro\",\"Greenville\",\"Greenwood Village\",\"Hamden\",\"Hartland\",\"Hauppauge\",\"Hawthorne\",\"Hayward\",\"Henderson\",\"Herndon\",\"Hickory\",\"Hillsboro\",\"Hopkins\",\"Houston\",\"Hudson\",\"Huntersville\",\"Huntsville\",\"Irvine\",\"Irving\",\"Itasca\",\"Jacksonville\",\"Jericho\",\"Jersey City\",\"Johns Creek\",\"King of Prussia\",\"Kirkland\",\"Laguna Hills\",\"Lake Mary\",\"Lakewood\",\"Las Vegas\",\"Lawrenceville\",\"Leawood\",\"Leesburg\",\"Lehi\",\"Lexington\",\"Liberty Lake\",\"Lisle\",\"Livermore\",\"Los Angeles\",\"Los Gatos\",\"Louisville\",\"Lowell\",\"Madison\",\"Malta\",\"Manchester\",\"Maple Grove\",\"Mattoon\",\"McLean\",\"Melville\",\"Menlo Park\",\"Merrimack\",\"Miami\",\"Miami Beach\",\"Middletown\",\"Midland\",\"Midvale\",\"Milpitas\",\"Milton\",\"Milwaukee\",\"Minneapolis\",\"Minnetonka\",\"Monett\",\"Monroe\",\"Morrisville\",\"Mount Laurel\",\"Mount Olive\",\"Mountain View\",\"Murray\",\"Nashville\",\"Natick\",\"Neenah\",\"New Braunfels\",\"New Brunswick\",\"New Hartford\",\"New York\",\"Newark\",\"Newton\",\"Newtown\",\"Norcross\",\"North Castle\",\"North Hempstead\",\"North Reading\",\"Norton\",\"Norwalk\",\"Oakland\",\"Oklahoma City\",\"Ontario\",\"Orlando\",\"Oxford\",\"Palo Alto\",\"Parsippany\",\"Philadelphia\",\"Phoenix\",\"Pittsburgh\",\"Plainview\",\"Plano\",\"Pleasanton\",\"Portland\",\"Poway\",\"Provo\",\"Queens\",\"Raleigh\",\"Redmond\",\"Redwood City\",\"Reston\",\"Ridgefield Park\",\"Roanoke\",\"Rock Hill\",\"Rockville\",\"Rolling Meadows\",\"Round Rock\",\"Salt Lake City\",\"San Antonio\",\"San Buenaventura\",\"San Carlos\",\"San Diego\",\"San Francisco\",\"San Jose\",\"San Mateo\",\"San Rafael\",\"San Ramon\",\"Santa Ana\",\"Santa Barbara\",\"Santa Clara\",\"Santa Fe\",\"Santa Monica\",\"Santa Rosa\",\"Sarasota\",\"Schaumburg\",\"Scottsdale\",\"Seattle\",\"South Jordan\",\"Spokane\",\"Spokane Valley\",\"St. Louis\",\"St. Petersburg\",\"Stamford\",\"Sugar Land\",\"Sunnyvale\",\"Sunrise\",\"Teaneck\",\"Tempe\",\"The Woodlands\",\"Thousand Oaks\",\"Tinton Falls\",\"Torrance\",\"Troy\",\"Tucson\",\"Tysons\",\"Vancouver\",\"Vernon Hills\",\"Wallingford\",\"Waltham\",\"Washington\",\"West Melbourne\",\"West Warwick\",\"West Whiteland\",\"Westborough\",\"Westford\",\"Westminster\",\"White Plains\",\"Wichita\",\"Wilmington\",\"Windsor\",\"Woburn\",\"Woodbury\",\"Woodland Park\"],\"shape\":[259],\"dtype\":\"object\",\"order\":\"little\"}],[\"Symbol\",{\"type\":\"ndarray\",\"array\":{\"type\":\"bytes\",\"data\":\"AQAAAAEAAAABAAAAAQAAAAUAAAACAAAAAQAAAAIAAAADAAAAAgAAAAoAAAABAAAAEwAAAAIAAAABAAAAAwAAAAEAAAACAAAAAgAAAAIAAAABAAAAAQAAAAEAAAACAAAAAgAAAAEAAAABAAAAAQAAAAUAAAABAAAAAgAAAAkAAAABAAAAAgAAAAEAAAABAAAAAgAAAAEAAAACAAAAAQAAAAcAAAABAAAAAQAAAAEAAAAFAAAAAwAAAAEAAAADAAAAAQAAAAEAAAACAAAAAQAAAAEAAAAFAAAAAgAAAAIAAAADAAAADQAAAAIAAAACAAAAAQAAAAQAAAABAAAAAgAAAAEAAAABAAAAAQAAAAEAAAAEAAAAAQAAAAYAAAABAAAAAQAAAAIAAAABAAAAAQAAAAMAAAACAAAAAQAAAAgAAAABAAAAAQAAAAEAAAADAAAAAQAAAAEAAAABAAAAAQAAAAEAAAALAAAAAQAAAAEAAAABAAAAAQAAAAIAAAABAAAAAQAAAAEAAAABAAAAAQAAAAMAAAACAAAAAQAAAAEAAAABAAAAAgAAAAEAAAABAAAAAQAAAAgAAAACAAAAAQAAAAMAAAABAAAAAgAAAAEAAAABAAAAAQAAAAEAAAABAAAAAQAAAAIAAAABAAAAAQAAAAEAAAABAAAAAQAAAAEAAAABAAAAAQAAAAQAAAABAAAAAQAAAAIAAAABAAAAAQAAAAIAAAABAAAAAQAAAAQAAAAEAAAAAwAAAAEAAAACAAAAAQAAAAEAAAABAAAAAQAAAAIAAAABAAAAAgAAAAYAAAABAAAAAQAAAAEAAAABAAAAAQAAAAEAAAAHAAAAAQAAAAEAAAABAAAAAQAAAAEAAAABAAAAAQAAAC0AAAACAAAAAQAAAAEAAAABAAAAAQAAAAEAAAABAAAAAQAAAAIAAAACAAAAAQAAAAEAAAAFAAAAAQAAAAUAAAACAAAAAQAAAAMAAAAEAAAAAQAAAAgAAAABAAAABQAAAAEAAAABAAAAAQAAAAMAAAAFAAAABwAAAAUAAAABAAAAAgAAAAEAAAABAAAAAQAAAAEAAAAEAAAAAgAAAAEAAAABAAAACAAAACcAAAAfAAAABwAAAAEAAAACAAAAAQAAAAIAAAAMAAAAAQAAAAMAAAABAAAAAQAAAAEAAAADAAAACgAAAAEAAAABAAAAAQAAAAUAAAABAAAAAwAAAAEAAAAIAAAAAQAAAAEAAAAIAAAAAQAAAAEAAAABAAAAAQAAAAEAAAACAAAAAgAAAAEAAAADAAAAAQAAAAIAAAADAAAAAQAAAAEAAAABAAAAAQAAAAEAAAACAAAAAQAAAAEAAAAHAAAAAQAAAAEAAAABAAAAAQAAAA==\"},\"shape\":[259],\"dtype\":\"int32\",\"order\":\"little\"}],[\"Market Cap\",{\"type\":\"ndarray\",\"array\":{\"type\":\"bytes\",\"data\":\"pKoJou4DcD9uNIC3QIKiP5+rrdhfduc/ZTbIJCNnB0APEMzR4/cEQEpGzsKe9vE/fh04Z0TJEUD+Q/rt68DkP6CJsOHpVR5A+vIC7KOzGUA35Qrvcg1MQCy8y0V8pxhALxLacq7UcECWytsRTgvOP0GasWg6u/E/wsBz7+FyIEBwd9Zuu9C0P28Sg8DKodc/EmvxKQAeMkBh/Z/DfIRmQGItPgXA+ApAqDXNO07RcT8bu0T11sC2P5yFPe3w194/eZeL+E6MCkAmNh/XhqoiQLPqc7UV+7M/pOTVOQZk0z8+7fDXZI3iP0AwR4/f25Q/VFc+y/MATUAw2A3bFlFBQK7wLhfxnYg/EMzR4/deTkAz+WabG1MHQO7rwDkjSqs/aW/whcnuUEBuhhvw+WHAP3l1jgHZGy5AaD9SRIZV/j9AMEeP31seQNr+lZUmpaA/qU2c3O9Q/T/Y0w5/TdbcP3va4a/JOkBAt0WZDTLJ7j8wgVt387w0QIeKcf4mVBRA+YOB597DGUBNFYxK6gSUPwt72uGvyeE/VyHlJ9UeG0A5tMh2vh/6P+WWVkPiYkdA5DEDlfH/IUCp9ul4zEAEQPw1WaMeIg9AnDOitDe+UEDad0Xwv5USQGr7V1aaVBZAlBPtKqT85T+5HoXrUdgRQNKpK5/leZA/WW5pNSSuB0B3EDtT6Ow6QLGnHf6arPE/YTJVMCopA0BeukkM4iGgQHWw/s/hfXJA/cHAc+9RL0DFckurIVkwQGEyVTAqqXM/dEaU9gZfiD/dk4eFWjMhQHGPpQ9dUI8/Oh4zUBk/C0BO1qiHaHTvPwgDz72HS+Y/kdWtnpPelz+0WfW52ko8QLg7a7ddaK4/S+oENBHmNkAJih9j7noUQH2zzY3pCfo/ixpMw/AR6T+zXgzlRPsMQEax3NJqSIw/YcPTK2V5EUAg0m9fB86JP6ipZWt9GVNAs+pztRU7EEDBrbt5qkPOP+CcEaW9ISJAFO0qpPyk5z+d0sH6P4f8PxHHuriNBrA/mC8vwD46tT+G5jqNtFSOP2ZmZmZmZvU/GD4ipkQS9z9A9nr3x3vRP4MvTKYKxvU/TpfFxOZj+D9vnuqQm9EhQBea6zTS0vQ/GqiMf5/RNUBk6UMX1Le8P7dFmQ0yycQ/QDBHj9/b7D+FQgQcQv0zQAGpTZzc78g/nil0XmMX+D8s9pfdk0NJQOjewyXHnYI/djI4Sl6d8j/2RUJbzqXjP88UOq+xS+U/lE25wrucMEBcA1slWByuP1qBIatbPeE/hA1Pr5Rl7D906spneR7WP/2fw3x5AZY/xawXQznxEkBvEoPAyqG1PwZM4NbdPNM/KQXdXtIYtT8DQ1a3ek4CQCgs8YCyKfQ/D9b/OcyX+z9fB84ZUXoXQHJtqBjnb8I/pMfvbfqzbz8lHlA25eoRQGWlSSno9oI/a2XCL/ULPUBiZwqd19gXQCqpE9BE2KA/NLqD2JlC1T/NkgA1tUwiQDtT6LzGLgZA6N7DJUcldEBHWipvR7jzP6azk8FRcvg/S7A4nPnVLD+PjUC8rl/IP2/whclUwdI/2sngKHl16z/NWDSdnQBLQF2nkZbK27k/fToeM1DZCUDKVMGopF4yQENWt3pOeo8/PDHrxVCeKUCaQuc1dgkVQLHc0mpIHANAK2owDcNHvD+eXinLEMeaP0xsPq4tPJVAqB3+mqxRtz9EF9S3zOnhP2b35GGhViBAGFsIclDCBkDQCgxZ3Wr6P6lNnNzvUHQ/jxmojH+f5j/tR4rIMLdwQI60VN6OcOc/lPYGX5hMVT9l/PuMC98yQOyjU1c+y88/gez17o/nX0D7XG3F/pIvQMvz4O6srStA6Gor9pfdoz9sYKsEi5MiQLrCu1zEtwtAYKsEi8P5MUBiSiTRy6j1P5QT7Sqk/NQ/NL+aAwRzEkBXfa62YgVVQO62C811Gqk/XFoNiXtyYkAN4C2QoHhBQKwcWmQ7byJAPsvz4O6s7T+3uTE9YQEzQH1cGyrGUUVA7YFWYMi6IEAqkUQvo1j4P/eSxmgdlRhAPPceLjmuAECeY0D2ejcOQDygbMqV8ZtAuYjvxKxnLEDvVSsTfvFIQNuF5jqNtLQ/KSLDKt7I1D+/fR04Z0TuPyI3ww34/OI/JuSDns2q4j+5pdWQuEc9QGlv8IXJ1AtAUHXIzXAD5T8joS3nUtQ1QIT1fw7z5b0/YHtmSYDqX0A2AvG6fup3QC/6CtIMzYdAuvdwyXHXMkAfLjnulC5EQIofY+5aghVAqTC2EOSg+D+2EOSghFkXQKBP5EnSjolAFYxK6gQ0cT+DHJQw00YtQPonuFhRcz5AP6n26XhM8z/ZQpCDEqYlQOJASBYwgfE/ABjPoGF1i0Cxijcyj/z/PyL99nXgnGE/JLn8h/Tbpz9Zox6i0d0yQCmzQSYZOSJAqwmi7gN8VEBfJLTlXIqrP5TZIJOMcEpAhUIEHEKVij/VBFH3AUg9QCjaVUj5qTNA8piByvj3eT/s+gW7YRMzQNGRXP5DegZAVFInoImw1T+KsOHplTINQJpfzQGC2RtAG2SSkbNQFECatn9lpUkoQBia6zTS6kRAi+B/K9mlRkCNEB5tHDEmQOz17o/3KgtA11HVBFH30T9YHM78ag64P+uoaoKo2yZAEvdY+tAFvT/whclUwagCQPC/lezYODBAZmZmZmZmvj+OHr+36c+eP11txf6yRWBA6fF7m/4sKkCd9L7xtWeGPxmQvd798a4/sHJoke184z8=\"},\"shape\":[259],\"dtype\":\"float64\",\"order\":\"little\"}],[\"Employees\",{\"type\":\"ndarray\",\"array\":{\"type\":\"bytes\",\"data\":\"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\"},\"shape\":[259],\"dtype\":\"float64\",\"order\":\"little\"}],[\"x\",{\"type\":\"ndarray\",\"array\":{\"type\":\"bytes\",\"data\":\"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\"},\"shape\":[259],\"dtype\":\"float64\",\"order\":\"little\"}],[\"y\",{\"type\":\"ndarray\",\"array\":{\"type\":\"bytes\",\"data\":\"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\"},\"shape\":[259],\"dtype\":\"float64\",\"order\":\"little\"}],[\"col\",{\"type\":\"ndarray\",\"array\":{\"type\":\"bytes\",\"data\":\"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\"},\"shape\":[259],\"dtype\":\"float64\",\"order\":\"little\"}],[\"c_col\",{\"type\":\"ndarray\",\"array\":[\"#92C4DE\",\"#CDE6E5\",\"#F8DF9D\",\"#F8DF9D\",\"#F8DF9D\",\"#F8DF9D\",\"#FCAB62\",\"#F8DF9D\",\"#FCAB62\",\"#FCAB62\",\"#E75839\",\"#FCAB62\",\"#E75839\",\"#CDE6E5\",\"#F8DF9D\",\"#FCAB62\",\"#CDE6E5\",\"#F8DF9D\",\"#FCAB62\",\"#E75839\",\"#FCAB62\",\"#92C4DE\",\"#CDE6E5\",\"#F8DF9D\",\"#FCAB62\",\"#FCAB62\",\"#CDE6E5\",\"#CDE6E5\",\"#F8DF9D\",\"#92C4DE\",\"#E75839\",\"#E75839\",\"#92C4DE\",\"#E75839\",\"#F8DF9D\",\"#CDE6E5\",\"#E75839\",\"#CDE6E5\",\"#FCAB62\",\"#F8DF9D\",\"#FCAB62\",\"#CDE6E5\",\"#F8DF9D\",\"#F8DF9D\",\"#E75839\",\"#F8DF9D\",\"#FCAB62\",\"#FCAB62\",\"#FCAB62\",\"#92C4DE\",\"#F8DF9D\",\"#FCAB62\",\"#F8DF9D\",\"#E75839\",\"#FCAB62\",\"#F8DF9D\",\"#FCAB62\",\"#E75839\",\"#FCAB62\",\"#FCAB62\",\"#F8DF9D\",\"#FCAB62\",\"#92C4DE\",\"#F8DF9D\",\"#FCAB62\",\"#F8DF9D\",\"#F8DF9D\",\"#A50026\",\"#E75839\",\"#FCAB62\",\"#FCAB62\",\"#92C4DE\",\"#92C4DE\",\"#FCAB62\",\"#92C4DE\",\"#FCAB62\",\"#F8DF9D\",\"#F8DF9D\",\"#92C4DE\",\"#FCAB62\",\"#CDE6E5\",\"#FCAB62\",\"#FCAB62\",\"#F8DF9D\",\"#F8DF9D\",\"#FCAB62\",\"#92C4DE\",\"#FCAB62\",\"#92C4DE\",\"#E75839\",\"#FCAB62\",\"#CDE6E5\",\"#FCAB62\",\"#F8DF9D\",\"#F8DF9D\",\"#CDE6E5\",\"#CDE6E5\",\"#92C4DE\",\"#F8DF9D\",\"#F8DF9D\",\"#CDE6E5\",\"#F8DF9D\",\"#F8DF9D\",\"#FCAB62\",\"#F8DF9D\",\"#FCAB62\",\"#CDE6E5\",\"#CDE6E5\",\"#F8DF9D\",\"#FCAB62\",\"#CDE6E5\",\"#F8DF9D\",\"#E75839\",\"#92C4DE\",\"#F8DF9D\",\"#F8DF9D\",\"#F8DF9D\",\"#FCAB62\",\"#CDE6E5\",\"#F8DF9D\",\"#F8DF9D\",\"#F8DF9D\",\"#92C4DE\",\"#FCAB62\",\"#CDE6E5\",\"#CDE6E5\",\"#CDE6E5\",\"#F8DF9D\",\"#F8DF9D\",\"#F8DF9D\",\"#FCAB62\",\"#CDE6E5\",\"#92C4DE\",\"#FCAB62\",\"#92C4DE\",\"#FCAB62\",\"#FCAB62\",\"#CDE6E5\",\"#F8DF9D\",\"#FCAB62\",\"#F8DF9D\",\"#A50026\",\"#F8DF9D\",\"#F8DF9D\",\"#598DC0\",\"#CDE6E5\",\"#CDE6E5\",\"#F8DF9D\",\"#E75839\",\"#CDE6E5\",\"#FCAB62\",\"#FCAB62\",\"#92C4DE\",\"#FCAB62\",\"#FCAB62\",\"#F8DF9D\",\"#CDE6E5\",\"#92C4DE\",\"#A50026\",\"#CDE6E5\",\"#F8DF9D\",\"#FCAB62\",\"#F8DF9D\",\"#F8DF9D\",\"#92C4DE\",\"#F8DF9D\",\"#E75839\",\"#F8DF9D\",\"#598DC0\",\"#FCAB62\",\"#CDE6E5\",\"#E75839\",\"#FCAB62\",\"#FCAB62\",\"#CDE6E5\",\"#FCAB62\",\"#FCAB62\",\"#FCAB62\",\"#F8DF9D\",\"#F8DF9D\",\"#FCAB62\",\"#E75839\",\"#CDE6E5\",\"#E75839\",\"#E75839\",\"#FCAB62\",\"#F8DF9D\",\"#FCAB62\",\"#E75839\",\"#FCAB62\",\"#F8DF9D\",\"#FCAB62\",\"#F8DF9D\",\"#FCAB62\",\"#A50026\",\"#FCAB62\",\"#E75839\",\"#CDE6E5\",\"#F8DF9D\",\"#F8DF9D\",\"#F8DF9D\",\"#F8DF9D\",\"#FCAB62\",\"#FCAB62\",\"#F8DF9D\",\"#FCAB62\",\"#CDE6E5\",\"#E75839\",\"#A50026\",\"#A50026\",\"#FCAB62\",\"#E75839\",\"#FCAB62\",\"#F8DF9D\",\"#FCAB62\",\"#A50026\",\"#92C4DE\",\"#FCAB62\",\"#FCAB62\",\"#F8DF9D\",\"#FCAB62\",\"#F8DF9D\",\"#A50026\",\"#F8DF9D\",\"#598DC0\",\"#CDE6E5\",\"#FCAB62\",\"#FCAB62\",\"#E75839\",\"#CDE6E5\",\"#E75839\",\"#92C4DE\",\"#FCAB62\",\"#FCAB62\",\"#92C4DE\",\"#FCAB62\",\"#F8DF9D\",\"#F8DF9D\",\"#FCAB62\",\"#FCAB62\",\"#FCAB62\",\"#FCAB62\",\"#E75839\",\"#E75839\",\"#FCAB62\",\"#FCAB62\",\"#CDE6E5\",\"#CDE6E5\",\"#FCAB62\",\"#CDE6E5\",\"#F8DF9D\",\"#FCAB62\",\"#CDE6E5\",\"#92C4DE\",\"#E75839\",\"#FCAB62\",\"#92C4DE\",\"#CDE6E5\",\"#F8DF9D\"],\"shape\":[259],\"dtype\":\"object\",\"order\":\"little\"}],[\"circle_size\",{\"type\":\"ndarray\",\"array\":{\"type\":\"bytes\",\"data\":\"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\"},\"shape\":[259],\"dtype\":\"float64\",\"order\":\"little\"}]]}}},\"view\":{\"type\":\"object\",\"name\":\"CDSView\",\"id\":\"p2826\",\"attributes\":{\"filter\":{\"type\":\"object\",\"name\":\"AllIndices\",\"id\":\"p2827\"}}},\"glyph\":{\"type\":\"object\",\"name\":\"Circle\",\"id\":\"p2822\",\"attributes\":{\"x\":{\"type\":\"field\",\"field\":\"x\"},\"y\":{\"type\":\"field\",\"field\":\"y\"},\"size\":{\"type\":\"field\",\"field\":\"circle_size\"},\"line_color\":{\"type\":\"value\",\"value\":\"white\"},\"fill_color\":{\"type\":\"field\",\"field\":\"col\",\"transform\":{\"type\":\"object\",\"name\":\"LinearColorMapper\",\"id\":\"p2818\",\"attributes\":{\"palette\":[\"#364B9A\",\"#598DC0\",\"#92C4DE\",\"#CDE6E5\",\"#F8DF9D\",\"#FCAB62\",\"#E75839\",\"#A50026\"],\"low\":-4,\"high\":3}}}}},\"nonselection_glyph\":{\"type\":\"object\",\"name\":\"Circle\",\"id\":\"p2823\",\"attributes\":{\"x\":{\"type\":\"field\",\"field\":\"x\"},\"y\":{\"type\":\"field\",\"field\":\"y\"},\"size\":{\"type\":\"field\",\"field\":\"circle_size\"},\"line_color\":{\"type\":\"value\",\"value\":\"white\"},\"line_alpha\":{\"type\":\"value\",\"value\":0.1},\"fill_color\":{\"type\":\"field\",\"field\":\"col\",\"transform\":{\"id\":\"p2818\"}},\"fill_alpha\":{\"type\":\"value\",\"value\":0.5},\"hatch_alpha\":{\"type\":\"value\",\"value\":0.1}}},\"muted_glyph\":{\"type\":\"object\",\"name\":\"Circle\",\"id\":\"p2824\",\"attributes\":{\"x\":{\"type\":\"field\",\"field\":\"x\"},\"y\":{\"type\":\"field\",\"field\":\"y\"},\"size\":{\"type\":\"field\",\"field\":\"circle_size\"},\"line_color\":{\"type\":\"value\",\"value\":\"white\"},\"line_alpha\":{\"type\":\"value\",\"value\":0.2},\"fill_color\":{\"type\":\"field\",\"field\":\"col\",\"transform\":{\"id\":\"p2818\"}},\"fill_alpha\":{\"type\":\"value\",\"value\":0.2},\"hatch_alpha\":{\"type\":\"value\",\"value\":0.2}}}}}],\"toolbar\":{\"type\":\"object\",\"name\":\"Toolbar\",\"id\":\"p2799\",\"attributes\":{\"logo\":null,\"tools\":[{\"type\":\"object\",\"name\":\"TapTool\",\"id\":\"p2812\",\"attributes\":{\"renderers\":\"auto\"}},{\"type\":\"object\",\"name\":\"WheelZoomTool\",\"id\":\"p2813\",\"attributes\":{\"renderers\":\"auto\"}},{\"type\":\"object\",\"name\":\"PanTool\",\"id\":\"p2814\"},{\"type\":\"object\",\"name\":\"ResetTool\",\"id\":\"p2815\"},{\"type\":\"object\",\"name\":\"HoverTool\",\"id\":\"p2831\",\"attributes\":{\"renderers\":[{\"id\":\"p2825\"}],\"tooltips\":[[\"City\",\"@City\"],[\"Companies\",\"@Symbol\"]]}}]}},\"toolbar_location\":\"below\",\"left\":[{\"type\":\"object\",\"name\":\"LinearAxis\",\"id\":\"p2807\",\"attributes\":{\"visible\":false,\"ticker\":{\"type\":\"object\",\"name\":\"BasicTicker\",\"id\":\"p2808\",\"attributes\":{\"mantissas\":[1,2,5]}},\"formatter\":{\"type\":\"object\",\"name\":\"BasicTickFormatter\",\"id\":\"p2809\"},\"axis_label_standoff\":10,\"axis_label_text_color\":\"#E0E0E0\",\"axis_label_text_font\":\"Helvetica\",\"axis_label_text_font_size\":\"1.25em\",\"axis_label_text_font_style\":\"normal\",\"major_label_policy\":{\"type\":\"object\",\"name\":\"AllLabels\",\"id\":\"p2810\"},\"major_label_text_color\":\"#E0E0E0\",\"major_label_text_font\":\"Helvetica\",\"major_label_text_font_size\":\"1.025em\",\"axis_line_color\":\"#E0E0E0\",\"axis_line_alpha\":0,\"major_tick_line_color\":\"#E0E0E0\",\"major_tick_line_alpha\":0,\"minor_tick_line_color\":\"#E0E0E0\",\"minor_tick_line_alpha\":0}},{\"type\":\"object\",\"name\":\"ColorBar\",\"id\":\"p2829\",\"attributes\":{\"width\":15,\"title\":\"Market Cap (exp10(y)) in Billion USD\",\"title_text_color\":\"#E0E0E0\",\"title_text_font\":\"Helvetica\",\"title_text_font_size\":\"1.025em\",\"title_text_font_style\":\"normal\",\"formatter\":{\"type\":\"object\",\"name\":\"NumeralTickFormatter\",\"id\":\"p2828\",\"attributes\":{\"format\":\"0.0a\"}},\"major_label_policy\":{\"type\":\"object\",\"name\":\"NoOverlap\",\"id\":\"p2830\"},\"padding\":5,\"major_label_text_color\":\"#E0E0E0\",\"major_label_text_font\":\"Helvetica\",\"major_label_text_font_size\":\"1.025em\",\"major_tick_line_alpha\":0,\"bar_line_alpha\":0,\"background_fill_color\":\"#15191C\",\"color_mapper\":{\"id\":\"p2818\"}}}],\"below\":[{\"type\":\"object\",\"name\":\"LinearAxis\",\"id\":\"p2802\",\"attributes\":{\"visible\":false,\"ticker\":{\"type\":\"object\",\"name\":\"BasicTicker\",\"id\":\"p2803\",\"attributes\":{\"mantissas\":[1,2,5]}},\"formatter\":{\"type\":\"object\",\"name\":\"BasicTickFormatter\",\"id\":\"p2804\"},\"axis_label_standoff\":10,\"axis_label_text_color\":\"#E0E0E0\",\"axis_label_text_font\":\"Helvetica\",\"axis_label_text_font_size\":\"1.25em\",\"axis_label_text_font_style\":\"normal\",\"major_label_policy\":{\"type\":\"object\",\"name\":\"AllLabels\",\"id\":\"p2805\"},\"major_label_text_color\":\"#E0E0E0\",\"major_label_text_font\":\"Helvetica\",\"major_label_text_font_size\":\"1.025em\",\"axis_line_color\":\"#E0E0E0\",\"axis_line_alpha\":0,\"major_tick_line_color\":\"#E0E0E0\",\"major_tick_line_alpha\":0,\"minor_tick_line_color\":\"#E0E0E0\",\"minor_tick_line_alpha\":0}}],\"center\":[{\"type\":\"object\",\"name\":\"Grid\",\"id\":\"p2806\",\"attributes\":{\"axis\":{\"id\":\"p2802\"},\"grid_line_color\":null,\"grid_line_alpha\":0.25}},{\"type\":\"object\",\"name\":\"Grid\",\"id\":\"p2811\",\"attributes\":{\"dimension\":1,\"axis\":{\"id\":\"p2807\"},\"grid_line_color\":null,\"grid_line_alpha\":0.25}},{\"type\":\"object\",\"name\":\"Label\",\"id\":\"p2840\",\"attributes\":{\"text\":\"2022\",\"text_color\":\"white\",\"text_alpha\":0.7,\"text_font_size\":\"50px\",\"x\":20,\"x_units\":\"screen\",\"y\":20,\"y_units\":\"screen\"}}],\"background_fill_color\":\"#20262B\",\"border_fill_color\":\"#15191C\"}}]}};\n  const render_items = [{\"docid\":\"20998e6f-2332-457f-b98b-df9f26fc12ed\",\"roots\":{\"p2790\":\"bbb788f2-8f93-487b-9f35-5be403c5fc72\"},\"root_ids\":[\"p2790\"]}];\n  root.Bokeh.embed.embed_items_notebook(docs_json, render_items);\n  }\n  if (root.Bokeh !== undefined) {\n    embed_document(root);\n  } else {\n    let attempts = 0;\n    const timer = setInterval(function(root) {\n      if (root.Bokeh !== undefined) {\n        clearInterval(timer);\n        embed_document(root);\n      } else {\n        attempts++;\n        if (attempts > 100) {\n          clearInterval(timer);\n          console.log(\"Bokeh: ERROR: Unable to run BokehJS code because BokehJS library is missing\");\n        }\n      }\n    }, 10, root)\n  }\n})(window);",
      "application/vnd.bokehjs_exec.v0+json": ""
     },
     "metadata": {
      "application/vnd.bokehjs_exec.v0+json": {
       "id": "p2790"
      }
     },
     "output_type": "display_data"
    },
    {
     "data": {
      "text/html": "\n  <div id=\"ecda54e7-b6e1-4f8a-bd91-c9ce90faf835\" data-root-id=\"p2846\" style=\"display: contents;\"></div>\n"
     },
     "metadata": {},
     "output_type": "display_data"
    },
    {
     "data": {
      "application/javascript": "(function(root) {\n  function embed_document(root) {\n  const docs_json = {\"b749dd88-94ad-455c-bfd3-73253723a463\":{\"version\":\"3.3.4\",\"title\":\"Bokeh Application\",\"roots\":[{\"type\":\"object\",\"name\":\"Figure\",\"id\":\"p2846\",\"attributes\":{\"width\":450,\"height\":400,\"x_range\":{\"type\":\"object\",\"name\":\"Range1d\",\"id\":\"p2844\",\"attributes\":{\"start\":0.99,\"end\":1718970.0000000002}},\"y_range\":{\"type\":\"object\",\"name\":\"Range1d\",\"id\":\"p2845\",\"attributes\":{\"start\":0.0002178,\"end\":2271.43565}},\"x_scale\":{\"type\":\"object\",\"name\":\"LogScale\",\"id\":\"p2856\"},\"y_scale\":{\"type\":\"object\",\"name\":\"LogScale\",\"id\":\"p2857\"},\"title\":{\"type\":\"object\",\"name\":\"Title\",\"id\":\"p2849\",\"attributes\":{\"text\":\"US Tech Companies in San Jose of 2022\",\"text_color\":\"#E0E0E0\",\"text_font\":\"Helvetica\",\"text_font_size\":\"1.15em\"}},\"outline_line_color\":\"#E0E0E0\",\"outline_line_alpha\":0.25,\"renderers\":[{\"type\":\"object\",\"name\":\"GlyphRenderer\",\"id\":\"p2879\",\"attributes\":{\"data_source\":{\"type\":\"object\",\"name\":\"ColumnDataSource\",\"id\":\"p2841\",\"attributes\":{\"selected\":{\"type\":\"object\",\"name\":\"Selection\",\"id\":\"p2842\",\"attributes\":{\"indices\":[],\"line_indices\":[]}},\"selection_policy\":{\"type\":\"object\",\"name\":\"UnionRenderers\",\"id\":\"p2843\"},\"data\":{\"type\":\"map\",\"entries\":[[\"index\",{\"type\":\"ndarray\",\"array\":{\"type\":\"bytes\",\"data\":\"EwAAABcAAAAnAAAANAAAAEQAAABiAAAAZwAAAGwAAAB3AAAAiQAAAI8AAACnAAAArwAAANYAAAD/AAAACAEAACQBAAAoAQAAggEAAIMBAACIAQAAowEAAKQBAAC0AQAAxwEAAOABAADoAQAALQIAAFoCAAB3AgAAeAIAAA==\"},\"shape\":[31],\"dtype\":\"int32\",\"order\":\"little\"}],[\"Symbol\",{\"type\":\"ndarray\",\"array\":[\"CSCO\",\"WDC\",\"SANM\",\"ADBE\",\"AVGO\",\"NTAP\",\"EBAY\",\"CDNS\",\"ZM\",\"LITE\",\"NTNX\",\"ZS\",\"SMCI\",\"INFN\",\"BILL\",\"ADEA\",\"XPER\",\"SYNA\",\"HLIT\",\"CALX\",\"QMCO\",\"POWI\",\"NTGR\",\"RMBS\",\"ATEN\",\"VLDR\",\"CRDO\",\"CPTN\",\"PRSO\",\"QUIK\",\"WATT\"],\"shape\":[31],\"dtype\":\"object\",\"order\":\"little\"}],[\"City\",{\"type\":\"ndarray\",\"array\":[\"San Jose\",\"San Jose\",\"San Jose\",\"San Jose\",\"San Jose\",\"San Jose\",\"San Jose\",\"San Jose\",\"San Jose\",\"San Jose\",\"San Jose\",\"San Jose\",\"San Jose\",\"San Jose\",\"San Jose\",\"San Jose\",\"San Jose\",\"San Jose\",\"San Jose\",\"San Jose\",\"San Jose\",\"San Jose\",\"San Jose\",\"San Jose\",\"San Jose\",\"San Jose\",\"San Jose\",\"San Jose\",\"San Jose\",\"San Jose\",\"San Jose\"],\"shape\":[31],\"dtype\":\"object\",\"order\":\"little\"}],[\"x\",{\"type\":\"ndarray\",\"array\":{\"type\":\"bytes\",\"data\":\"ssANKhPfacGywA0qE99pwbLADSoT32nBssANKhPfacGywA0qE99pwbLADSoT32nBssANKhPfacGywA0qE99pwbLADSoT32nBssANKhPfacGywA0qE99pwbLADSoT32nBssANKhPfacGywA0qE99pwbLADSoT32nBssANKhPfacGywA0qE99pwbLADSoT32nBssANKhPfacGywA0qE99pwbLADSoT32nBssANKhPfacGywA0qE99pwbLADSoT32nBssANKhPfacGywA0qE99pwbLADSoT32nBssANKhPfacGywA0qE99pwbLADSoT32nBssANKhPfacE=\"},\"shape\":[31],\"dtype\":\"float64\",\"order\":\"little\"}],[\"y\",{\"type\":\"ndarray\",\"array\":{\"type\":\"bytes\",\"data\":\"pCY8cCUYUUGkJjxwJRhRQaQmPHAlGFFBpCY8cCUYUUGkJjxwJRhRQaQmPHAlGFFBpCY8cCUYUUGkJjxwJRhRQaQmPHAlGFFBpCY8cCUYUUGkJjxwJRhRQaQmPHAlGFFBpCY8cCUYUUGkJjxwJRhRQaQmPHAlGFFBpCY8cCUYUUGkJjxwJRhRQaQmPHAlGFFBpCY8cCUYUUGkJjxwJRhRQaQmPHAlGFFBpCY8cCUYUUGkJjxwJRhRQaQmPHAlGFFBpCY8cCUYUUGkJjxwJRhRQaQmPHAlGFFBpCY8cCUYUUGkJjxwJRhRQaQmPHAlGFFBpCY8cCUYUUE=\"},\"shape\":[31],\"dtype\":\"float64\",\"order\":\"little\"}],[\"Market Cap\",{\"type\":\"ndarray\",\"array\":{\"type\":\"bytes\",\"data\":\"JTs2AvFuaECpE9BE2BAkQNrhr8kadQpA3Qw34PNOY0AiGt1B7DZtQOChKNAn8ilAD+7O2m1vNkAxCKwcWshFQN9PjZduOjNAIxCv6xdsDEBxyXGndNAXQJbP8jy4KzBAvmplwi91EUCBeF2/YLf3P2oTJ/c7FCdAFHmSdM3k7z9zgGCOHr/sP+rPfqSITA5A2PD0SlkG9j/9ag4QzPERQFInoImw4bk/cEIhAg5hEEC8eapDbobhPy9RvTWw1Q5AGRwlr86x9D8nMQisHFrEP6mHaHQHMfc/p1zhXS7ixz+XytsRTguOP3EbDeAtkLA/TFRvDWyVsD8=\"},\"shape\":[31],\"dtype\":\"float64\",\"order\":\"little\"}],[\"Employees\",{\"type\":\"ndarray\",\"array\":{\"type\":\"bytes\",\"data\":\"AAAAAEBW9EAAAAAAAL3vQAAAAAAAmuBAAAAAAABh2UAAAAAAAIjTQAAAAAAAcMdAAAAAAAAYxUAAAAAAACrCQAAAAAAAc8BAAAAAAACfukAAAAAAADK5QAAAAAAAb7NAAAAAAAD/sUAAAAAAADKpQAAAAAAAuqFAAAAAAAAwoUAAAAAAACCcQAAAAAAAvJtAAAAAAAAQjkAAAAAAANCNQAAAAAAASIxAAAAAAAAoiEAAAAAAABiIQAAAAAAAkIVAAAAAAABwgkAAAAAAAHB5QAAAAAAA4HdAAAAAAADgYkAAAAAAAIBUQAAAAAAAAEhAAAAAAAAASEA=\"},\"shape\":[31],\"dtype\":\"float64\",\"order\":\"little\"}],[\"c_col\",{\"type\":\"ndarray\",\"array\":[\"#A50026\",\"#A50026\",\"#A50026\",\"#A50026\",\"#A50026\",\"#A50026\",\"#A50026\",\"#A50026\",\"#A50026\",\"#A50026\",\"#A50026\",\"#A50026\",\"#A50026\",\"#A50026\",\"#A50026\",\"#A50026\",\"#A50026\",\"#A50026\",\"#A50026\",\"#A50026\",\"#A50026\",\"#A50026\",\"#A50026\",\"#A50026\",\"#A50026\",\"#A50026\",\"#A50026\",\"#A50026\",\"#A50026\",\"#A50026\",\"#A50026\"],\"shape\":[31],\"dtype\":\"object\",\"order\":\"little\"}],[\"circle_size\",{\"type\":\"ndarray\",\"array\":{\"type\":\"bytes\",\"data\":\"3EqIic3+QEB8bRd0jJ9AQCSGI2xsTT9AROibmAx/PkAycvy16rU9QHxxHNygLTxADXq39bfcO0Bht7XC42k7QGAqxey8HTtA0lyhVSh7OkA2Mel+41A6QLyzEFSCiTlABgIkdYBOOUAme4ywqzw4QCiNFjm/LjdAWBFSUgoXN0BOffO0AH02QDNR9G9EcjZAqVYQdjOcNEAF391Xy5U0QD/mkZlXbTRAGS8wPmj0M0Cm5e2Na/IzQKRFL5hKnTNAY4tjFTwlM0CrwHQ3pwgyQNj7XUMX2DFA+EbwM64kLkDDVhTUVoMqQMHDpQLWWSdAwcOlAtZZJ0A=\"},\"shape\":[31],\"dtype\":\"float64\",\"order\":\"little\"}]]}}},\"view\":{\"type\":\"object\",\"name\":\"CDSView\",\"id\":\"p2880\",\"attributes\":{\"filter\":{\"type\":\"object\",\"name\":\"AllIndices\",\"id\":\"p2881\"}}},\"glyph\":{\"type\":\"object\",\"name\":\"Scatter\",\"id\":\"p2876\",\"attributes\":{\"x\":{\"type\":\"field\",\"field\":\"Employees\"},\"y\":{\"type\":\"field\",\"field\":\"Market Cap\"},\"size\":{\"type\":\"value\",\"value\":5},\"line_color\":{\"type\":\"value\",\"value\":null},\"line_alpha\":{\"type\":\"value\",\"value\":0.6},\"fill_color\":{\"type\":\"field\",\"field\":\"c_col\"},\"fill_alpha\":{\"type\":\"value\",\"value\":0.6},\"hatch_color\":{\"type\":\"field\",\"field\":\"c_col\"},\"hatch_alpha\":{\"type\":\"value\",\"value\":0.6}}},\"nonselection_glyph\":{\"type\":\"object\",\"name\":\"Scatter\",\"id\":\"p2877\",\"attributes\":{\"x\":{\"type\":\"field\",\"field\":\"Employees\"},\"y\":{\"type\":\"field\",\"field\":\"Market Cap\"},\"size\":{\"type\":\"value\",\"value\":5},\"line_color\":{\"type\":\"value\",\"value\":null},\"line_alpha\":{\"type\":\"value\",\"value\":0.1},\"fill_color\":{\"type\":\"field\",\"field\":\"c_col\"},\"fill_alpha\":{\"type\":\"value\",\"value\":0.1},\"hatch_color\":{\"type\":\"field\",\"field\":\"c_col\"},\"hatch_alpha\":{\"type\":\"value\",\"value\":0.1}}},\"muted_glyph\":{\"type\":\"object\",\"name\":\"Scatter\",\"id\":\"p2878\",\"attributes\":{\"x\":{\"type\":\"field\",\"field\":\"Employees\"},\"y\":{\"type\":\"field\",\"field\":\"Market Cap\"},\"size\":{\"type\":\"value\",\"value\":5},\"line_color\":{\"type\":\"value\",\"value\":null},\"line_alpha\":{\"type\":\"value\",\"value\":0.2},\"fill_color\":{\"type\":\"field\",\"field\":\"c_col\"},\"fill_alpha\":{\"type\":\"value\",\"value\":0.2},\"hatch_color\":{\"type\":\"field\",\"field\":\"c_col\"},\"hatch_alpha\":{\"type\":\"value\",\"value\":0.2}}}}},{\"type\":\"object\",\"name\":\"GlyphRenderer\",\"id\":\"p2884\",\"attributes\":{\"data_source\":{\"id\":\"p2841\"},\"view\":{\"type\":\"object\",\"name\":\"CDSView\",\"id\":\"p2885\",\"attributes\":{\"filter\":{\"type\":\"object\",\"name\":\"AllIndices\",\"id\":\"p2886\"}}},\"glyph\":{\"type\":\"object\",\"name\":\"Text\",\"id\":\"p2883\",\"attributes\":{\"x\":{\"type\":\"field\",\"field\":\"Employees\"},\"y\":{\"type\":\"field\",\"field\":\"Market Cap\"},\"text\":{\"type\":\"field\",\"field\":\"Symbol\"},\"text_color\":{\"type\":\"value\",\"value\":\"gray\"},\"text_alpha\":{\"type\":\"value\",\"value\":0.8},\"text_font_size\":{\"type\":\"value\",\"value\":\"6pt\"},\"text_align\":{\"type\":\"value\",\"value\":\"center\"},\"text_baseline\":{\"type\":\"value\",\"value\":\"middle\"}}}}}],\"toolbar\":{\"type\":\"object\",\"name\":\"Toolbar\",\"id\":\"p2855\",\"attributes\":{\"logo\":null,\"tools\":[{\"type\":\"object\",\"name\":\"PanTool\",\"id\":\"p2868\"},{\"type\":\"object\",\"name\":\"WheelZoomTool\",\"id\":\"p2869\",\"attributes\":{\"renderers\":\"auto\"}},{\"type\":\"object\",\"name\":\"ResetTool\",\"id\":\"p2870\"},{\"type\":\"object\",\"name\":\"HoverTool\",\"id\":\"p2882\",\"attributes\":{\"renderers\":[{\"id\":\"p2879\"}],\"tooltips\":[[\"symbol\",\"@Symbol\"],[\"market cap\",\"@{Market Cap}{0,0.00 a}\"],[\"employees\",\"@{Employees}\"]]}}]}},\"right\":[{\"type\":\"object\",\"name\":\"LogAxis\",\"id\":\"p2863\",\"attributes\":{\"ticker\":{\"type\":\"object\",\"name\":\"LogTicker\",\"id\":\"p2864\",\"attributes\":{\"num_minor_ticks\":10,\"mantissas\":[1,5]}},\"formatter\":{\"type\":\"object\",\"name\":\"NumeralTickFormatter\",\"id\":\"p2872\",\"attributes\":{\"format\":\"0,0.00 a\"}},\"axis_label\":\"Market Cap in Billion USD\",\"axis_label_standoff\":10,\"axis_label_text_color\":\"#E0E0E0\",\"axis_label_text_font\":\"Helvetica\",\"axis_label_text_font_size\":\"1.25em\",\"axis_label_text_font_style\":\"normal\",\"major_label_policy\":{\"type\":\"object\",\"name\":\"AllLabels\",\"id\":\"p2866\"},\"major_label_text_color\":\"#E0E0E0\",\"major_label_text_font\":\"Helvetica\",\"major_label_text_font_size\":\"1.025em\",\"axis_line_color\":\"#E0E0E0\",\"axis_line_alpha\":0,\"major_tick_line_color\":\"#E0E0E0\",\"major_tick_line_alpha\":0,\"minor_tick_line_color\":\"#E0E0E0\",\"minor_tick_line_alpha\":0}}],\"below\":[{\"type\":\"object\",\"name\":\"LogAxis\",\"id\":\"p2858\",\"attributes\":{\"ticker\":{\"type\":\"object\",\"name\":\"LogTicker\",\"id\":\"p2859\",\"attributes\":{\"num_minor_ticks\":10,\"mantissas\":[1,5]}},\"formatter\":{\"type\":\"object\",\"name\":\"NumeralTickFormatter\",\"id\":\"p2871\",\"attributes\":{\"format\":\"0,0 a\"}},\"axis_label\":\"Number of Employees\",\"axis_label_standoff\":10,\"axis_label_text_color\":\"#E0E0E0\",\"axis_label_text_font\":\"Helvetica\",\"axis_label_text_font_size\":\"1.25em\",\"axis_label_text_font_style\":\"normal\",\"major_label_policy\":{\"type\":\"object\",\"name\":\"AllLabels\",\"id\":\"p2861\"},\"major_label_text_color\":\"#E0E0E0\",\"major_label_text_font\":\"Helvetica\",\"major_label_text_font_size\":\"1.025em\",\"axis_line_color\":\"#E0E0E0\",\"axis_line_alpha\":0,\"major_tick_line_color\":\"#E0E0E0\",\"major_tick_line_alpha\":0,\"minor_tick_line_color\":\"#E0E0E0\",\"minor_tick_line_alpha\":0}}],\"center\":[{\"type\":\"object\",\"name\":\"Grid\",\"id\":\"p2862\",\"attributes\":{\"axis\":{\"id\":\"p2858\"},\"grid_line_color\":\"#E0E0E0\",\"grid_line_alpha\":0.25}},{\"type\":\"object\",\"name\":\"Grid\",\"id\":\"p2867\",\"attributes\":{\"dimension\":1,\"axis\":{\"id\":\"p2863\"},\"grid_line_color\":\"#E0E0E0\",\"grid_line_alpha\":0.25}}],\"background_fill_color\":\"#fafafa\",\"border_fill_color\":\"#15191C\",\"min_border_top\":45,\"min_border\":20}}]}};\n  const render_items = [{\"docid\":\"b749dd88-94ad-455c-bfd3-73253723a463\",\"roots\":{\"p2846\":\"ecda54e7-b6e1-4f8a-bd91-c9ce90faf835\"},\"root_ids\":[\"p2846\"]}];\n  root.Bokeh.embed.embed_items_notebook(docs_json, render_items);\n  }\n  if (root.Bokeh !== undefined) {\n    embed_document(root);\n  } else {\n    let attempts = 0;\n    const timer = setInterval(function(root) {\n      if (root.Bokeh !== undefined) {\n        clearInterval(timer);\n        embed_document(root);\n      } else {\n        attempts++;\n        if (attempts > 100) {\n          clearInterval(timer);\n          console.log(\"Bokeh: ERROR: Unable to run BokehJS code because BokehJS library is missing\");\n        }\n      }\n    }, 10, root)\n  }\n})(window);",
      "application/vnd.bokehjs_exec.v0+json": ""
     },
     "metadata": {
      "application/vnd.bokehjs_exec.v0+json": {
       "id": "p2846"
      }
     },
     "output_type": "display_data"
    }
   ],
   "source": [
    "\n",
    "main_plot.renderers[1].data_source.selected.on_change('indices', tap_update)\n",
    "show(main_plot)\n",
    "show(subplot)\n",
    "## 3.2 Add a slider and define a callback function for it to filter companies by the market cap\n",
    "\n",
    "# When the user changes the value of the lower bound of the market cap,\n",
    "# the companies will be filtered by the new value,\n",
    "# so that only those with a market cap larger than \n",
    "# the lower bound are included.\n",
    "# The data source of the glyphs in the main plot \n",
    "# and the subplot will be updated accordingly.\n",
    "# reference:\n",
    "# https://github.com/bokeh/bokeh/blob/branch-3.5/examples/server/app/sliders.py"
   ],
   "metadata": {
    "collapsed": false,
    "ExecuteTime": {
     "end_time": "2024-05-25T13:51:10.696066200Z",
     "start_time": "2024-05-25T13:51:10.586657100Z"
    }
   },
   "id": "c839d2f543a6c971"
  },
  {
   "cell_type": "code",
   "execution_count": 308,
   "outputs": [],
   "source": [
    "\n",
    "slider = Slider(\n",
    "   start=0,\n",
    "    end=100,\n",
    "    value=market_cap_lower,\n",
    "    step=1,\n",
    "    title=f\"Market Cap Lower Bound in Billion (USD)\",\n",
    "    margin=(5, 10, 10, 20)\n",
    ")"
   ],
   "metadata": {
    "collapsed": false,
    "ExecuteTime": {
     "end_time": "2024-05-25T13:51:10.713682800Z",
     "start_time": "2024-05-25T13:51:10.678166Z"
    }
   },
   "id": "8deca50a29b1cb8a"
  },
  {
   "cell_type": "code",
   "execution_count": 287,
   "outputs": [],
   "source": [
    "\n",
    "def slider_update(attr, old, new):\n",
    "    global market_cap_lower\n",
    "    market_cap_lower = new\n",
    "    main_df = create_df(year, city, market_cap_lower, main=True)\n",
    "    #main_plot.renderers[1].data_source.data = plot_city(main_df, tile_source)\n",
    "    main_plot.renderers[1].data_source.data = dict(ColumnDataSource(main_df).data)\n",
    "\n",
    "    sub_df = create_df(year, city, market_cap_lower, main=False)\n",
    "    subplot.renderers[0].data_source.data = dict(ColumnDataSource(sub_df).data)\n",
    "    subplot.renderers[1].data_source.data = dict(ColumnDataSource(sub_df).data)\n",
    "    #print(subplot.renderers[0].data_source.data)\n",
    "   # subplot.renderers[0].data_source.data = plot_company(sub_df)\n",
    "    #subplot.renderers[1].data_source.data = slider_update()\n",
    "\n",
    "slider.on_change('value', slider_update)\n",
    "#print(subplot.renderers[1].data_source.data)\n"
   ],
   "metadata": {
    "collapsed": false,
    "ExecuteTime": {
     "end_time": "2024-05-25T13:45:03.265555Z",
     "start_time": "2024-05-25T13:45:03.251501600Z"
    }
   },
   "id": "6162537a512609bb"
  },
  {
   "cell_type": "code",
   "execution_count": 287,
   "outputs": [],
   "source": [],
   "metadata": {
    "collapsed": false,
    "ExecuteTime": {
     "end_time": "2024-05-25T13:45:03.707849800Z",
     "start_time": "2024-05-25T13:45:03.687118800Z"
    }
   },
   "id": "56cd2b62d10b1ce7"
  },
  {
   "cell_type": "code",
   "execution_count": 288,
   "outputs": [],
   "source": [
    "\n",
    "# ====================================================================\n",
    "# Task 4: Animation\n",
    "# ====================================================================\n",
    "\n",
    "# Add a play button to show the animation of changes in the market cap\n",
    "# and the number of employees over the years in the main plot and the subplot.\n",
    "# reference:\n",
    "# https://github.com/bokeh/bokeh/tree/branch-3.5/examples/server/app/gapminder\n",
    "\n",
    "btn = Button(label='► Play', width=60\n",
    "             )"
   ],
   "metadata": {
    "collapsed": false,
    "ExecuteTime": {
     "end_time": "2024-05-25T13:45:04.136039200Z",
     "start_time": "2024-05-25T13:45:04.123816500Z"
    }
   },
   "id": "d23ee84cc1c3fa65"
  },
  {
   "cell_type": "code",
   "execution_count": 289,
   "outputs": [],
   "source": [
    "\n",
    "## 4.1 Define a function to update the elements that change along with the year.\n",
    "\n",
    "# The `year` will be incremented by 1 till the last year (2022), \n",
    "# then go back to the first year (2019).\n",
    "# The year in the main plot and the title of the subplot will be updated accordingly.\n",
    "# The data source of the glyphs in the main plot and subplot will be updated accordingly."
   ],
   "metadata": {
    "collapsed": false,
    "ExecuteTime": {
     "end_time": "2024-05-25T13:45:04.546685700Z",
     "start_time": "2024-05-25T13:45:04.537174100Z"
    }
   },
   "id": "ded0b16646d65974"
  },
  {
   "cell_type": "code",
   "execution_count": 309,
   "outputs": [],
   "source": [
    "def update_year():\n",
    "    global year\n",
    "    year += 1\n",
    "\n",
    "    if year > 2022:\n",
    "        year = 2018\n",
    "    label.text = f'{year}'\n",
    "    main_df = create_df(year, city, market_cap_lower, main=True)\n",
    "    main_plot.renderers[1].data_source.data = dict(ColumnDataSource(main_df).data)\n",
    "    sub_df = create_df(year, city, market_cap_lower, main=False)\n",
    "    subplot.renderers[0].data_source.data = dict(ColumnDataSource(sub_df).data)\n",
    "    subplot.renderers[1].data_source.data = dict(ColumnDataSource(sub_df).data)\n",
    "    subplot.title.text = f'US Tech Companies in {city} of {year}'\n"
   ],
   "metadata": {
    "collapsed": false,
    "ExecuteTime": {
     "end_time": "2024-05-25T13:57:07.644479100Z",
     "start_time": "2024-05-25T13:57:07.623769700Z"
    }
   },
   "id": "4b85ca2ccbacf24e"
  },
  {
   "cell_type": "code",
   "execution_count": 310,
   "outputs": [],
   "source": [
    "\n",
    "## 4.2 Define a function to wrap the update function in a periodic callback.\n",
    "\n",
    "# This callback will be associated with the Bokeh document and triggered by button clicks.\n",
    "# When the user clicks on '► Play', the button label will change to '❚❚ Pause'.\n",
    "# The callback will be invoked to execute `update_year` periodically at an interval of 1 second.\n",
    "# When the user clicks on '❚❚ Pause', the button label will change back to '► Play'.\n",
    "# The callback will be removed and the execution of `update_year` will stop.\n",
    "# reference:\n",
    "# https://github.com/bokeh/bokeh/tree/branch-3.5/examples/server/app/gapminder\n",
    "# https://docs.bokeh.org/en/latest/docs/reference/server/callbacks.html#bokeh-server-callbacks\n",
    "# https://docs.bokeh.org/en/3.3.0/docs/reference/document.html       \n",
    "\n",
    "callback = None\n",
    "def play():\n",
    "    global callback\n",
    "    if btn.label == '► Play':\n",
    "        btn.label = '❚❚ Pause'\n",
    "        callback = curdoc().add_periodic_callback(update_year, 1000)\n",
    "    else:\n",
    "        btn.label = '► Play'\n",
    "        curdoc().remove_periodic_callback(callback)\n",
    "\n",
    "\n",
    "btn.on_click(play)"
   ],
   "metadata": {
    "collapsed": false,
    "ExecuteTime": {
     "end_time": "2024-05-25T13:57:07.737186300Z",
     "start_time": "2024-05-25T13:57:07.718920300Z"
    }
   },
   "id": "f17adadd975dee5e"
  },
  {
   "cell_type": "code",
   "execution_count": 311,
   "outputs": [],
   "source": [
    "\n",
    "# (Optional) Add a text div to explain your app to the user.\n",
    "# Reference: https://docs.bokeh.org/en/2.4.3/docs/reference/models/widgets/markups.html?highlight=div#div\n",
    "div = Div(text=\"\"\"This map shows the geographic distribution of tech companies in the US.\"\"\",\n",
    "          width=200, height=100\n",
    "          )\n",
    "\n",
    "layout = row([main_plot, column(subplot, slider, div, btn)])\n",
    "curdoc().add_root(layout)\n",
    "curdoc().title = 'US Tech Companies Distribution by City'\n",
    "\n",
    "# ====================================================================\n",
    "# Mission Complete! ✅\n",
    "# ===================================================================="
   ],
   "metadata": {
    "collapsed": false,
    "ExecuteTime": {
     "end_time": "2024-05-25T13:57:08.457508400Z",
     "start_time": "2024-05-25T13:57:08.438241200Z"
    }
   },
   "id": "initial_id"
  },
  {
   "cell_type": "code",
   "execution_count": 312,
   "outputs": [
    {
     "name": "stderr",
     "output_type": "stream",
     "text": [
      "WARNING:bokeh.embed.util:\n",
      "You are generating standalone HTML/JS output, but trying to use real Python\n",
      "callbacks (i.e. with on_change or on_event). This combination cannot work.\n",
      "\n",
      "Only JavaScript callbacks may be used with standalone output. For more\n",
      "information on JavaScript callbacks with Bokeh, see:\n",
      "\n",
      "    https://docs.bokeh.org/en/latest/docs/user_guide/interaction/callbacks.html\n",
      "\n",
      "Alternatively, to use real Python callbacks, a Bokeh server application may\n",
      "be used. For more information on building and running Bokeh applications, see:\n",
      "\n",
      "    https://docs.bokeh.org/en/latest/docs/user_guide/server.html\n",
      "\n"
     ]
    },
    {
     "data": {
      "text/html": "\n  <div id=\"d2184693-97b0-464f-a4af-6eb3bee60201\" data-root-id=\"p2910\" style=\"display: contents;\"></div>\n"
     },
     "metadata": {},
     "output_type": "display_data"
    },
    {
     "data": {
      "application/javascript": "(function(root) {\n  function embed_document(root) {\n  const docs_json = {\"878fbe6f-a113-400a-9d91-a98dd539fd8c\":{\"version\":\"3.3.4\",\"title\":\"Bokeh Application\",\"roots\":[{\"type\":\"object\",\"name\":\"Row\",\"id\":\"p2910\",\"attributes\":{\"children\":[{\"type\":\"object\",\"name\":\"Figure\",\"id\":\"p2790\",\"attributes\":{\"width\":800,\"x_range\":{\"type\":\"object\",\"name\":\"Range1d\",\"id\":\"p2788\",\"attributes\":{\"start\":-13885172.920161882,\"end\":-7688399.680236508}},\"y_range\":{\"type\":\"object\",\"name\":\"Range1d\",\"id\":\"p2789\",\"attributes\":{\"start\":2762428.9602158717,\"end\":6298956.162200291}},\"x_scale\":{\"type\":\"object\",\"name\":\"LinearScale\",\"id\":\"p2800\"},\"y_scale\":{\"type\":\"object\",\"name\":\"LinearScale\",\"id\":\"p2801\"},\"title\":{\"type\":\"object\",\"name\":\"Title\",\"id\":\"p2793\",\"attributes\":{\"text\":\"US Tech Companies Distribution by City\",\"text_color\":\"#E0E0E0\",\"text_font\":\"Helvetica\",\"text_font_size\":\"1.15em\"}},\"outline_line_color\":\"#E0E0E0\",\"outline_line_alpha\":0.25,\"renderers\":[{\"type\":\"object\",\"name\":\"TileRenderer\",\"id\":\"p2816\",\"attributes\":{\"tile_source\":{\"type\":\"object\",\"name\":\"WMTSTileSource\",\"id\":\"p2621\",\"attributes\":{\"url\":\"http://tiles.stadiamaps.com/tiles/stamen_terrain/{Z}/{X}/{Y}.png\",\"attribution\":\"\\n        &copy;  <a href=\\\"http://stamen.com\\\">Stamen Design</a>\\n        &copy;  <a href=\\\"http://creativecommons.org/licenses/by/3.0\\\">CC BY 3.0</a>\\n        &copy;  <a href=\\\"http://openstreetmap.org\\\">OpenStreetMap</a>\\n        &copy;  <a href=\\\"http://www.openstreetmap.org/copyright\\\">ODbL</a>\\n    \"}}}},{\"type\":\"object\",\"name\":\"GlyphRenderer\",\"id\":\"p2825\",\"attributes\":{\"data_source\":{\"type\":\"object\",\"name\":\"ColumnDataSource\",\"id\":\"p2785\",\"attributes\":{\"selected\":{\"type\":\"object\",\"name\":\"Selection\",\"id\":\"p2786\",\"attributes\":{\"indices\":[],\"line_indices\":[]}},\"selection_policy\":{\"type\":\"object\",\"name\":\"UnionRenderers\",\"id\":\"p2787\"},\"data\":{\"type\":\"map\",\"entries\":[[\"index\",{\"type\":\"ndarray\",\"array\":{\"type\":\"bytes\",\"data\":\"AAAAAAEAAAACAAAAAwAAAAQAAAAFAAAABgAAAAcAAAAIAAAACQAAAAoAAAALAAAADAAAAA0AAAAOAAAADwAAABAAAAARAAAAEgAAABMAAAAUAAAAFQAAABYAAAAXAAAAGAAAABkAAAAaAAAAGwAAABwAAAAdAAAAHgAAAB8AAAAgAAAAIQAAACIAAAAjAAAAJAAAACUAAAAmAAAAJwAAACgAAAApAAAAKgAAACsAAAAsAAAALQAAAC4AAAAvAAAAMAAAADEAAAAyAAAAMwAAADQAAAA1AAAANgAAADcAAAA4AAAAOQAAADoAAAA7AAAAPAAAAD0AAAA+AAAAPwAAAEAAAABBAAAAQgAAAEMAAABEAAAARQAAAEYAAABHAAAASAAAAEkAAABKAAAASwAAAEwAAABNAAAATgAAAE8AAABQAAAAUQAAAFIAAABTAAAAVAAAAFUAAABWAAAAVwAAAFgAAABZAAAAWgAAAFsAAABcAAAAXQAAAF4AAABfAAAAYAAAAGEAAABiAAAAYwAAAGQAAABlAAAAZgAAAGcAAABoAAAAaQAAAGoAAABrAAAAbAAAAG0AAABuAAAAbwAAAHAAAABxAAAAcgAAAHMAAAB0AAAAdQAAAHYAAAB3AAAAeAAAAHkAAAB6AAAAewAAAHwAAAB9AAAAfgAAAH8AAACAAAAAgQAAAIIAAACDAAAAhAAAAIUAAACGAAAAhwAAAIgAAACJAAAAigAAAIsAAACMAAAAjQAAAI4AAACPAAAAkAAAAJEAAACSAAAAkwAAAJQAAACVAAAAlgAAAJcAAACYAAAAmQAAAJoAAACbAAAAnAAAAJ0AAACeAAAAnwAAAKAAAAChAAAAogAAAKMAAACkAAAApQAAAKYAAACnAAAAqAAAAKkAAACqAAAAqwAAAKwAAACtAAAArgAAAK8AAACwAAAAsQAAALIAAACzAAAAtAAAALUAAAC2AAAAtwAAALgAAAC5AAAAugAAALsAAAC8AAAAvQAAAL4AAAC/AAAAwAAAAMEAAADCAAAAwwAAAMQAAADFAAAAxgAAAMcAAADIAAAAyQAAAMoAAADLAAAAzAAAAM0AAADOAAAAzwAAANAAAADRAAAA0gAAANMAAADUAAAA1QAAANYAAADXAAAA2AAAANkAAADaAAAA2wAAANwAAADdAAAA3gAAAN8AAADgAAAA4QAAAOIAAADjAAAA5AAAAOUAAADmAAAA5wAAAOgAAADpAAAA6gAAAOsAAADsAAAA7QAAAO4AAADvAAAA8AAAAPEAAADyAAAA8wAAAPQAAAD1AAAA9gAAAPcAAAD4AAAA+QAAAPoAAAD7AAAA/AAAAP0AAAD+AAAA/wAAAAABAAABAQAAAgEAAA==\"},\"shape\":[259],\"dtype\":\"int32\",\"order\":\"little\"}],[\"City\",{\"type\":\"ndarray\",\"array\":[\"Albany\",\"Alhambra\",\"Aliso Viejo\",\"Allentown\",\"Alpharetta\",\"American Fork\",\"Ames\",\"Amherst\",\"Andover\",\"Ashburn\",\"Atlanta\",\"Attleboro\",\"Austin\",\"Aventura\",\"Bala Cynwyd\",\"Baltimore\",\"Bartlett\",\"Beaverton\",\"Bedford\",\"Bellevue\",\"Belmont\",\"Bensenville\",\"Berkeley\",\"Bethesda\",\"Beverly\",\"Billerica\",\"Bloomingdale\",\"Bloomington\",\"Boca Raton\",\"Bohemia\",\"Boise\",\"Boston\",\"Boulder\",\"Bozeman\",\"Braintree\",\"Bridgewater\",\"Brookfield\",\"Brookings\",\"Brooklyn\",\"Broomfield\",\"Burlington\",\"Calabasas\",\"Camarillo\",\"Camas\",\"Cambridge\",\"Campbell\",\"Canonsburg\",\"Carlsbad\",\"Carpinteria\",\"Carrollton\",\"Castle Rock\",\"Centennial\",\"Cerritos\",\"Chandler\",\"Charleston\",\"Charlotte\",\"Chester\",\"Chicago\",\"Cincinnati\",\"Clearwater\",\"College Park\",\"Columbia\",\"Columbus\",\"Coral Gables\",\"Corning\",\"Costa Mesa\",\"Covington\",\"Cupertino\",\"Dallas\",\"Dania Beach\",\"Denver\",\"Detroit\",\"Duarte\",\"Durham\",\"East Hanover\",\"Easttown\",\"Eden Prairie\",\"El Segundo\",\"Elk Grove Village\",\"Englewood\",\"Escondido\",\"Everett\",\"Ewing\",\"Fairfax\",\"Florham Park\",\"Folsom\",\"Fort Lauderdale\",\"Foster City\",\"Fountain Valley\",\"Fremont\",\"Glen Allen\",\"Grapevine\",\"Greensboro\",\"Greenville\",\"Greenwood Village\",\"Hamden\",\"Hartland\",\"Hauppauge\",\"Hawthorne\",\"Hayward\",\"Henderson\",\"Herndon\",\"Hickory\",\"Hillsboro\",\"Hopkins\",\"Houston\",\"Hudson\",\"Huntersville\",\"Huntsville\",\"Irvine\",\"Irving\",\"Itasca\",\"Jacksonville\",\"Jericho\",\"Jersey City\",\"Johns Creek\",\"King of Prussia\",\"Kirkland\",\"Laguna Hills\",\"Lake Mary\",\"Lakewood\",\"Las Vegas\",\"Lawrenceville\",\"Leawood\",\"Leesburg\",\"Lehi\",\"Lexington\",\"Liberty Lake\",\"Lisle\",\"Livermore\",\"Los Angeles\",\"Los Gatos\",\"Louisville\",\"Lowell\",\"Madison\",\"Malta\",\"Manchester\",\"Maple Grove\",\"Mattoon\",\"McLean\",\"Melville\",\"Menlo Park\",\"Merrimack\",\"Miami\",\"Miami Beach\",\"Middletown\",\"Midland\",\"Midvale\",\"Milpitas\",\"Milton\",\"Milwaukee\",\"Minneapolis\",\"Minnetonka\",\"Monett\",\"Monroe\",\"Morrisville\",\"Mount Laurel\",\"Mount Olive\",\"Mountain View\",\"Murray\",\"Nashville\",\"Natick\",\"Neenah\",\"New Braunfels\",\"New Brunswick\",\"New Hartford\",\"New York\",\"Newark\",\"Newton\",\"Newtown\",\"Norcross\",\"North Castle\",\"North Hempstead\",\"North Reading\",\"Norton\",\"Norwalk\",\"Oakland\",\"Oklahoma City\",\"Ontario\",\"Orlando\",\"Oxford\",\"Palo Alto\",\"Parsippany\",\"Philadelphia\",\"Phoenix\",\"Pittsburgh\",\"Plainview\",\"Plano\",\"Pleasanton\",\"Portland\",\"Poway\",\"Provo\",\"Queens\",\"Raleigh\",\"Redmond\",\"Redwood City\",\"Reston\",\"Ridgefield Park\",\"Roanoke\",\"Rock Hill\",\"Rockville\",\"Rolling Meadows\",\"Round Rock\",\"Salt Lake City\",\"San Antonio\",\"San Buenaventura\",\"San Carlos\",\"San Diego\",\"San Francisco\",\"San Jose\",\"San Mateo\",\"San Rafael\",\"San Ramon\",\"Santa Ana\",\"Santa Barbara\",\"Santa Clara\",\"Santa Fe\",\"Santa Monica\",\"Santa Rosa\",\"Sarasota\",\"Schaumburg\",\"Scottsdale\",\"Seattle\",\"South Jordan\",\"Spokane\",\"Spokane Valley\",\"St. Louis\",\"St. Petersburg\",\"Stamford\",\"Sugar Land\",\"Sunnyvale\",\"Sunrise\",\"Teaneck\",\"Tempe\",\"The Woodlands\",\"Thousand Oaks\",\"Tinton Falls\",\"Torrance\",\"Troy\",\"Tucson\",\"Tysons\",\"Vancouver\",\"Vernon Hills\",\"Wallingford\",\"Waltham\",\"Washington\",\"West Melbourne\",\"West Warwick\",\"West Whiteland\",\"Westborough\",\"Westford\",\"Westminster\",\"White Plains\",\"Wichita\",\"Wilmington\",\"Windsor\",\"Woburn\",\"Woodbury\",\"Woodland Park\"],\"shape\":[259],\"dtype\":\"object\",\"order\":\"little\"}],[\"Symbol\",{\"type\":\"ndarray\",\"array\":{\"type\":\"bytes\",\"data\":\"AQAAAAEAAAABAAAAAQAAAAUAAAACAAAAAQAAAAIAAAADAAAAAgAAAAoAAAABAAAAEwAAAAIAAAABAAAAAwAAAAEAAAACAAAAAgAAAAIAAAABAAAAAQAAAAEAAAACAAAAAgAAAAEAAAABAAAAAQAAAAUAAAABAAAAAgAAAAkAAAABAAAAAgAAAAEAAAABAAAAAgAAAAEAAAACAAAAAQAAAAcAAAABAAAAAQAAAAEAAAAFAAAAAwAAAAEAAAADAAAAAQAAAAEAAAACAAAAAQAAAAEAAAAFAAAAAgAAAAIAAAADAAAADQAAAAIAAAACAAAAAQAAAAQAAAABAAAAAgAAAAEAAAABAAAAAQAAAAEAAAAEAAAAAQAAAAYAAAABAAAAAQAAAAIAAAABAAAAAQAAAAMAAAACAAAAAQAAAAgAAAABAAAAAQAAAAEAAAADAAAAAQAAAAEAAAABAAAAAQAAAAEAAAALAAAAAQAAAAEAAAABAAAAAQAAAAIAAAABAAAAAQAAAAEAAAABAAAAAQAAAAMAAAACAAAAAQAAAAEAAAABAAAAAgAAAAEAAAABAAAAAQAAAAgAAAACAAAAAQAAAAMAAAABAAAAAgAAAAEAAAABAAAAAQAAAAEAAAABAAAAAQAAAAIAAAABAAAAAQAAAAEAAAABAAAAAQAAAAEAAAABAAAAAQAAAAQAAAABAAAAAQAAAAIAAAABAAAAAQAAAAIAAAABAAAAAQAAAAQAAAAEAAAAAwAAAAEAAAACAAAAAQAAAAEAAAABAAAAAQAAAAIAAAABAAAAAgAAAAYAAAABAAAAAQAAAAEAAAABAAAAAQAAAAEAAAAHAAAAAQAAAAEAAAABAAAAAQAAAAEAAAABAAAAAQAAAC0AAAACAAAAAQAAAAEAAAABAAAAAQAAAAEAAAABAAAAAQAAAAIAAAACAAAAAQAAAAEAAAAFAAAAAQAAAAUAAAACAAAAAQAAAAMAAAAEAAAAAQAAAAgAAAABAAAABQAAAAEAAAABAAAAAQAAAAMAAAAFAAAABwAAAAUAAAABAAAAAgAAAAEAAAABAAAAAQAAAAEAAAAEAAAAAgAAAAEAAAABAAAACAAAACcAAAAfAAAABwAAAAEAAAACAAAAAQAAAAIAAAAMAAAAAQAAAAMAAAABAAAAAQAAAAEAAAADAAAACgAAAAEAAAABAAAAAQAAAAUAAAABAAAAAwAAAAEAAAAIAAAAAQAAAAEAAAAIAAAAAQAAAAEAAAABAAAAAQAAAAEAAAACAAAAAgAAAAEAAAADAAAAAQAAAAIAAAADAAAAAQAAAAEAAAABAAAAAQAAAAEAAAACAAAAAQAAAAEAAAAHAAAAAQAAAAEAAAABAAAAAQAAAA==\"},\"shape\":[259],\"dtype\":\"int32\",\"order\":\"little\"}],[\"Market Cap\",{\"type\":\"ndarray\",\"array\":{\"type\":\"bytes\",\"data\":\"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\"},\"shape\":[259],\"dtype\":\"float64\",\"order\":\"little\"}],[\"Employees\",{\"type\":\"ndarray\",\"array\":{\"type\":\"bytes\",\"data\":\"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\"},\"shape\":[259],\"dtype\":\"float64\",\"order\":\"little\"}],[\"x\",{\"type\":\"ndarray\",\"array\":{\"type\":\"bytes\",\"data\":\"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\"},\"shape\":[259],\"dtype\":\"float64\",\"order\":\"little\"}],[\"y\",{\"type\":\"ndarray\",\"array\":{\"type\":\"bytes\",\"data\":\"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\"},\"shape\":[259],\"dtype\":\"float64\",\"order\":\"little\"}],[\"col\",{\"type\":\"ndarray\",\"array\":{\"type\":\"bytes\",\"data\":\"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\"},\"shape\":[259],\"dtype\":\"float64\",\"order\":\"little\"}],[\"c_col\",{\"type\":\"ndarray\",\"array\":[\"#92C4DE\",\"#CDE6E5\",\"#F8DF9D\",\"#F8DF9D\",\"#F8DF9D\",\"#F8DF9D\",\"#FCAB62\",\"#F8DF9D\",\"#FCAB62\",\"#FCAB62\",\"#E75839\",\"#FCAB62\",\"#E75839\",\"#CDE6E5\",\"#F8DF9D\",\"#FCAB62\",\"#CDE6E5\",\"#F8DF9D\",\"#FCAB62\",\"#E75839\",\"#FCAB62\",\"#92C4DE\",\"#CDE6E5\",\"#F8DF9D\",\"#FCAB62\",\"#FCAB62\",\"#CDE6E5\",\"#CDE6E5\",\"#F8DF9D\",\"#92C4DE\",\"#E75839\",\"#E75839\",\"#92C4DE\",\"#E75839\",\"#F8DF9D\",\"#CDE6E5\",\"#E75839\",\"#CDE6E5\",\"#FCAB62\",\"#F8DF9D\",\"#FCAB62\",\"#CDE6E5\",\"#F8DF9D\",\"#F8DF9D\",\"#E75839\",\"#F8DF9D\",\"#FCAB62\",\"#FCAB62\",\"#FCAB62\",\"#92C4DE\",\"#F8DF9D\",\"#FCAB62\",\"#F8DF9D\",\"#E75839\",\"#FCAB62\",\"#F8DF9D\",\"#FCAB62\",\"#E75839\",\"#FCAB62\",\"#FCAB62\",\"#F8DF9D\",\"#FCAB62\",\"#92C4DE\",\"#F8DF9D\",\"#FCAB62\",\"#F8DF9D\",\"#F8DF9D\",\"#A50026\",\"#E75839\",\"#FCAB62\",\"#FCAB62\",\"#92C4DE\",\"#92C4DE\",\"#FCAB62\",\"#92C4DE\",\"#FCAB62\",\"#F8DF9D\",\"#F8DF9D\",\"#92C4DE\",\"#FCAB62\",\"#CDE6E5\",\"#FCAB62\",\"#FCAB62\",\"#F8DF9D\",\"#F8DF9D\",\"#FCAB62\",\"#92C4DE\",\"#FCAB62\",\"#92C4DE\",\"#E75839\",\"#FCAB62\",\"#CDE6E5\",\"#FCAB62\",\"#F8DF9D\",\"#F8DF9D\",\"#CDE6E5\",\"#CDE6E5\",\"#92C4DE\",\"#F8DF9D\",\"#F8DF9D\",\"#CDE6E5\",\"#F8DF9D\",\"#F8DF9D\",\"#FCAB62\",\"#F8DF9D\",\"#FCAB62\",\"#CDE6E5\",\"#CDE6E5\",\"#F8DF9D\",\"#FCAB62\",\"#CDE6E5\",\"#F8DF9D\",\"#E75839\",\"#92C4DE\",\"#F8DF9D\",\"#F8DF9D\",\"#F8DF9D\",\"#FCAB62\",\"#CDE6E5\",\"#F8DF9D\",\"#F8DF9D\",\"#F8DF9D\",\"#92C4DE\",\"#FCAB62\",\"#CDE6E5\",\"#CDE6E5\",\"#CDE6E5\",\"#F8DF9D\",\"#F8DF9D\",\"#F8DF9D\",\"#FCAB62\",\"#CDE6E5\",\"#92C4DE\",\"#FCAB62\",\"#92C4DE\",\"#FCAB62\",\"#FCAB62\",\"#CDE6E5\",\"#F8DF9D\",\"#FCAB62\",\"#F8DF9D\",\"#A50026\",\"#F8DF9D\",\"#F8DF9D\",\"#598DC0\",\"#CDE6E5\",\"#CDE6E5\",\"#F8DF9D\",\"#E75839\",\"#CDE6E5\",\"#FCAB62\",\"#FCAB62\",\"#92C4DE\",\"#FCAB62\",\"#FCAB62\",\"#F8DF9D\",\"#CDE6E5\",\"#92C4DE\",\"#A50026\",\"#CDE6E5\",\"#F8DF9D\",\"#FCAB62\",\"#F8DF9D\",\"#F8DF9D\",\"#92C4DE\",\"#F8DF9D\",\"#E75839\",\"#F8DF9D\",\"#598DC0\",\"#FCAB62\",\"#CDE6E5\",\"#E75839\",\"#FCAB62\",\"#FCAB62\",\"#CDE6E5\",\"#FCAB62\",\"#FCAB62\",\"#FCAB62\",\"#F8DF9D\",\"#F8DF9D\",\"#FCAB62\",\"#E75839\",\"#CDE6E5\",\"#E75839\",\"#E75839\",\"#FCAB62\",\"#F8DF9D\",\"#FCAB62\",\"#E75839\",\"#FCAB62\",\"#F8DF9D\",\"#FCAB62\",\"#F8DF9D\",\"#FCAB62\",\"#A50026\",\"#FCAB62\",\"#E75839\",\"#CDE6E5\",\"#F8DF9D\",\"#F8DF9D\",\"#F8DF9D\",\"#F8DF9D\",\"#FCAB62\",\"#FCAB62\",\"#F8DF9D\",\"#FCAB62\",\"#CDE6E5\",\"#E75839\",\"#A50026\",\"#A50026\",\"#FCAB62\",\"#E75839\",\"#FCAB62\",\"#F8DF9D\",\"#FCAB62\",\"#A50026\",\"#92C4DE\",\"#FCAB62\",\"#FCAB62\",\"#F8DF9D\",\"#FCAB62\",\"#F8DF9D\",\"#A50026\",\"#F8DF9D\",\"#598DC0\",\"#CDE6E5\",\"#FCAB62\",\"#FCAB62\",\"#E75839\",\"#CDE6E5\",\"#E75839\",\"#92C4DE\",\"#FCAB62\",\"#FCAB62\",\"#92C4DE\",\"#FCAB62\",\"#F8DF9D\",\"#F8DF9D\",\"#FCAB62\",\"#FCAB62\",\"#FCAB62\",\"#FCAB62\",\"#E75839\",\"#E75839\",\"#FCAB62\",\"#FCAB62\",\"#CDE6E5\",\"#CDE6E5\",\"#FCAB62\",\"#CDE6E5\",\"#F8DF9D\",\"#FCAB62\",\"#CDE6E5\",\"#92C4DE\",\"#E75839\",\"#FCAB62\",\"#92C4DE\",\"#CDE6E5\",\"#F8DF9D\"],\"shape\":[259],\"dtype\":\"object\",\"order\":\"little\"}],[\"circle_size\",{\"type\":\"ndarray\",\"array\":{\"type\":\"bytes\",\"data\":\"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\"},\"shape\":[259],\"dtype\":\"float64\",\"order\":\"little\"}]]}}},\"view\":{\"type\":\"object\",\"name\":\"CDSView\",\"id\":\"p2826\",\"attributes\":{\"filter\":{\"type\":\"object\",\"name\":\"AllIndices\",\"id\":\"p2827\"}}},\"glyph\":{\"type\":\"object\",\"name\":\"Circle\",\"id\":\"p2822\",\"attributes\":{\"x\":{\"type\":\"field\",\"field\":\"x\"},\"y\":{\"type\":\"field\",\"field\":\"y\"},\"size\":{\"type\":\"field\",\"field\":\"circle_size\"},\"line_color\":{\"type\":\"value\",\"value\":\"white\"},\"fill_color\":{\"type\":\"field\",\"field\":\"col\",\"transform\":{\"type\":\"object\",\"name\":\"LinearColorMapper\",\"id\":\"p2818\",\"attributes\":{\"palette\":[\"#364B9A\",\"#598DC0\",\"#92C4DE\",\"#CDE6E5\",\"#F8DF9D\",\"#FCAB62\",\"#E75839\",\"#A50026\"],\"low\":-4,\"high\":3}}}}},\"nonselection_glyph\":{\"type\":\"object\",\"name\":\"Circle\",\"id\":\"p2823\",\"attributes\":{\"x\":{\"type\":\"field\",\"field\":\"x\"},\"y\":{\"type\":\"field\",\"field\":\"y\"},\"size\":{\"type\":\"field\",\"field\":\"circle_size\"},\"line_color\":{\"type\":\"value\",\"value\":\"white\"},\"line_alpha\":{\"type\":\"value\",\"value\":0.1},\"fill_color\":{\"type\":\"field\",\"field\":\"col\",\"transform\":{\"id\":\"p2818\"}},\"fill_alpha\":{\"type\":\"value\",\"value\":0.5},\"hatch_alpha\":{\"type\":\"value\",\"value\":0.1}}},\"muted_glyph\":{\"type\":\"object\",\"name\":\"Circle\",\"id\":\"p2824\",\"attributes\":{\"x\":{\"type\":\"field\",\"field\":\"x\"},\"y\":{\"type\":\"field\",\"field\":\"y\"},\"size\":{\"type\":\"field\",\"field\":\"circle_size\"},\"line_color\":{\"type\":\"value\",\"value\":\"white\"},\"line_alpha\":{\"type\":\"value\",\"value\":0.2},\"fill_color\":{\"type\":\"field\",\"field\":\"col\",\"transform\":{\"id\":\"p2818\"}},\"fill_alpha\":{\"type\":\"value\",\"value\":0.2},\"hatch_alpha\":{\"type\":\"value\",\"value\":0.2}}}}}],\"toolbar\":{\"type\":\"object\",\"name\":\"Toolbar\",\"id\":\"p2799\",\"attributes\":{\"logo\":null,\"tools\":[{\"type\":\"object\",\"name\":\"TapTool\",\"id\":\"p2812\",\"attributes\":{\"renderers\":\"auto\"}},{\"type\":\"object\",\"name\":\"WheelZoomTool\",\"id\":\"p2813\",\"attributes\":{\"renderers\":\"auto\"}},{\"type\":\"object\",\"name\":\"PanTool\",\"id\":\"p2814\"},{\"type\":\"object\",\"name\":\"ResetTool\",\"id\":\"p2815\"},{\"type\":\"object\",\"name\":\"HoverTool\",\"id\":\"p2831\",\"attributes\":{\"renderers\":[{\"id\":\"p2825\"}],\"tooltips\":[[\"City\",\"@City\"],[\"Companies\",\"@Symbol\"]]}}]}},\"toolbar_location\":\"below\",\"left\":[{\"type\":\"object\",\"name\":\"LinearAxis\",\"id\":\"p2807\",\"attributes\":{\"visible\":false,\"ticker\":{\"type\":\"object\",\"name\":\"BasicTicker\",\"id\":\"p2808\",\"attributes\":{\"mantissas\":[1,2,5]}},\"formatter\":{\"type\":\"object\",\"name\":\"BasicTickFormatter\",\"id\":\"p2809\"},\"axis_label_standoff\":10,\"axis_label_text_color\":\"#E0E0E0\",\"axis_label_text_font\":\"Helvetica\",\"axis_label_text_font_size\":\"1.25em\",\"axis_label_text_font_style\":\"normal\",\"major_label_policy\":{\"type\":\"object\",\"name\":\"AllLabels\",\"id\":\"p2810\"},\"major_label_text_color\":\"#E0E0E0\",\"major_label_text_font\":\"Helvetica\",\"major_label_text_font_size\":\"1.025em\",\"axis_line_color\":\"#E0E0E0\",\"axis_line_alpha\":0,\"major_tick_line_color\":\"#E0E0E0\",\"major_tick_line_alpha\":0,\"minor_tick_line_color\":\"#E0E0E0\",\"minor_tick_line_alpha\":0}},{\"type\":\"object\",\"name\":\"ColorBar\",\"id\":\"p2829\",\"attributes\":{\"width\":15,\"title\":\"Market Cap (exp10(y)) in Billion USD\",\"title_text_color\":\"#E0E0E0\",\"title_text_font\":\"Helvetica\",\"title_text_font_size\":\"1.025em\",\"title_text_font_style\":\"normal\",\"formatter\":{\"type\":\"object\",\"name\":\"NumeralTickFormatter\",\"id\":\"p2828\",\"attributes\":{\"format\":\"0.0a\"}},\"major_label_policy\":{\"type\":\"object\",\"name\":\"NoOverlap\",\"id\":\"p2830\"},\"padding\":5,\"major_label_text_color\":\"#E0E0E0\",\"major_label_text_font\":\"Helvetica\",\"major_label_text_font_size\":\"1.025em\",\"major_tick_line_alpha\":0,\"bar_line_alpha\":0,\"background_fill_color\":\"#15191C\",\"color_mapper\":{\"id\":\"p2818\"}}}],\"below\":[{\"type\":\"object\",\"name\":\"LinearAxis\",\"id\":\"p2802\",\"attributes\":{\"visible\":false,\"ticker\":{\"type\":\"object\",\"name\":\"BasicTicker\",\"id\":\"p2803\",\"attributes\":{\"mantissas\":[1,2,5]}},\"formatter\":{\"type\":\"object\",\"name\":\"BasicTickFormatter\",\"id\":\"p2804\"},\"axis_label_standoff\":10,\"axis_label_text_color\":\"#E0E0E0\",\"axis_label_text_font\":\"Helvetica\",\"axis_label_text_font_size\":\"1.25em\",\"axis_label_text_font_style\":\"normal\",\"major_label_policy\":{\"type\":\"object\",\"name\":\"AllLabels\",\"id\":\"p2805\"},\"major_label_text_color\":\"#E0E0E0\",\"major_label_text_font\":\"Helvetica\",\"major_label_text_font_size\":\"1.025em\",\"axis_line_color\":\"#E0E0E0\",\"axis_line_alpha\":0,\"major_tick_line_color\":\"#E0E0E0\",\"major_tick_line_alpha\":0,\"minor_tick_line_color\":\"#E0E0E0\",\"minor_tick_line_alpha\":0}}],\"center\":[{\"type\":\"object\",\"name\":\"Grid\",\"id\":\"p2806\",\"attributes\":{\"axis\":{\"id\":\"p2802\"},\"grid_line_color\":null,\"grid_line_alpha\":0.25}},{\"type\":\"object\",\"name\":\"Grid\",\"id\":\"p2811\",\"attributes\":{\"dimension\":1,\"axis\":{\"id\":\"p2807\"},\"grid_line_color\":null,\"grid_line_alpha\":0.25}},{\"type\":\"object\",\"name\":\"Label\",\"id\":\"p2840\",\"attributes\":{\"text\":\"2022\",\"text_color\":\"white\",\"text_alpha\":0.7,\"text_font_size\":\"50px\",\"x\":20,\"x_units\":\"screen\",\"y\":20,\"y_units\":\"screen\"}}],\"background_fill_color\":\"#20262B\",\"border_fill_color\":\"#15191C\"}},{\"type\":\"object\",\"name\":\"Column\",\"id\":\"p2909\",\"attributes\":{\"children\":[{\"type\":\"object\",\"name\":\"Figure\",\"id\":\"p2846\",\"attributes\":{\"width\":450,\"height\":400,\"x_range\":{\"type\":\"object\",\"name\":\"Range1d\",\"id\":\"p2844\",\"attributes\":{\"start\":0.99,\"end\":1718970.0000000002}},\"y_range\":{\"type\":\"object\",\"name\":\"Range1d\",\"id\":\"p2845\",\"attributes\":{\"start\":0.0002178,\"end\":2271.43565}},\"x_scale\":{\"type\":\"object\",\"name\":\"LogScale\",\"id\":\"p2856\"},\"y_scale\":{\"type\":\"object\",\"name\":\"LogScale\",\"id\":\"p2857\"},\"title\":{\"type\":\"object\",\"name\":\"Title\",\"id\":\"p2849\",\"attributes\":{\"text\":\"US Tech Companies in San Jose of 2022\",\"text_color\":\"#E0E0E0\",\"text_font\":\"Helvetica\",\"text_font_size\":\"1.15em\"}},\"outline_line_color\":\"#E0E0E0\",\"outline_line_alpha\":0.25,\"renderers\":[{\"type\":\"object\",\"name\":\"GlyphRenderer\",\"id\":\"p2879\",\"attributes\":{\"data_source\":{\"type\":\"object\",\"name\":\"ColumnDataSource\",\"id\":\"p2841\",\"attributes\":{\"selected\":{\"type\":\"object\",\"name\":\"Selection\",\"id\":\"p2842\",\"attributes\":{\"indices\":[],\"line_indices\":[]}},\"selection_policy\":{\"type\":\"object\",\"name\":\"UnionRenderers\",\"id\":\"p2843\"},\"data\":{\"type\":\"map\",\"entries\":[[\"index\",{\"type\":\"ndarray\",\"array\":{\"type\":\"bytes\",\"data\":\"EwAAABcAAAAnAAAANAAAAEQAAABiAAAAZwAAAGwAAAB3AAAAiQAAAI8AAACnAAAArwAAANYAAAD/AAAACAEAACQBAAAoAQAAggEAAIMBAACIAQAAowEAAKQBAAC0AQAAxwEAAOABAADoAQAALQIAAFoCAAB3AgAAeAIAAA==\"},\"shape\":[31],\"dtype\":\"int32\",\"order\":\"little\"}],[\"Symbol\",{\"type\":\"ndarray\",\"array\":[\"CSCO\",\"WDC\",\"SANM\",\"ADBE\",\"AVGO\",\"NTAP\",\"EBAY\",\"CDNS\",\"ZM\",\"LITE\",\"NTNX\",\"ZS\",\"SMCI\",\"INFN\",\"BILL\",\"ADEA\",\"XPER\",\"SYNA\",\"HLIT\",\"CALX\",\"QMCO\",\"POWI\",\"NTGR\",\"RMBS\",\"ATEN\",\"VLDR\",\"CRDO\",\"CPTN\",\"PRSO\",\"QUIK\",\"WATT\"],\"shape\":[31],\"dtype\":\"object\",\"order\":\"little\"}],[\"City\",{\"type\":\"ndarray\",\"array\":[\"San Jose\",\"San Jose\",\"San Jose\",\"San Jose\",\"San Jose\",\"San Jose\",\"San Jose\",\"San Jose\",\"San Jose\",\"San Jose\",\"San Jose\",\"San Jose\",\"San Jose\",\"San Jose\",\"San Jose\",\"San Jose\",\"San Jose\",\"San Jose\",\"San Jose\",\"San Jose\",\"San Jose\",\"San Jose\",\"San Jose\",\"San Jose\",\"San Jose\",\"San Jose\",\"San Jose\",\"San Jose\",\"San Jose\",\"San Jose\",\"San Jose\"],\"shape\":[31],\"dtype\":\"object\",\"order\":\"little\"}],[\"x\",{\"type\":\"ndarray\",\"array\":{\"type\":\"bytes\",\"data\":\"ssANKhPfacGywA0qE99pwbLADSoT32nBssANKhPfacGywA0qE99pwbLADSoT32nBssANKhPfacGywA0qE99pwbLADSoT32nBssANKhPfacGywA0qE99pwbLADSoT32nBssANKhPfacGywA0qE99pwbLADSoT32nBssANKhPfacGywA0qE99pwbLADSoT32nBssANKhPfacGywA0qE99pwbLADSoT32nBssANKhPfacGywA0qE99pwbLADSoT32nBssANKhPfacGywA0qE99pwbLADSoT32nBssANKhPfacGywA0qE99pwbLADSoT32nBssANKhPfacE=\"},\"shape\":[31],\"dtype\":\"float64\",\"order\":\"little\"}],[\"y\",{\"type\":\"ndarray\",\"array\":{\"type\":\"bytes\",\"data\":\"pCY8cCUYUUGkJjxwJRhRQaQmPHAlGFFBpCY8cCUYUUGkJjxwJRhRQaQmPHAlGFFBpCY8cCUYUUGkJjxwJRhRQaQmPHAlGFFBpCY8cCUYUUGkJjxwJRhRQaQmPHAlGFFBpCY8cCUYUUGkJjxwJRhRQaQmPHAlGFFBpCY8cCUYUUGkJjxwJRhRQaQmPHAlGFFBpCY8cCUYUUGkJjxwJRhRQaQmPHAlGFFBpCY8cCUYUUGkJjxwJRhRQaQmPHAlGFFBpCY8cCUYUUGkJjxwJRhRQaQmPHAlGFFBpCY8cCUYUUGkJjxwJRhRQaQmPHAlGFFBpCY8cCUYUUE=\"},\"shape\":[31],\"dtype\":\"float64\",\"order\":\"little\"}],[\"Market Cap\",{\"type\":\"ndarray\",\"array\":{\"type\":\"bytes\",\"data\":\"JTs2AvFuaECpE9BE2BAkQNrhr8kadQpA3Qw34PNOY0AiGt1B7DZtQOChKNAn8ilAD+7O2m1vNkAxCKwcWshFQN9PjZduOjNAIxCv6xdsDEBxyXGndNAXQJbP8jy4KzBAvmplwi91EUCBeF2/YLf3P2oTJ/c7FCdAFHmSdM3k7z9zgGCOHr/sP+rPfqSITA5A2PD0SlkG9j/9ag4QzPERQFInoImw4bk/cEIhAg5hEEC8eapDbobhPy9RvTWw1Q5AGRwlr86x9D8nMQisHFrEP6mHaHQHMfc/p1zhXS7ixz+XytsRTguOP3EbDeAtkLA/TFRvDWyVsD8=\"},\"shape\":[31],\"dtype\":\"float64\",\"order\":\"little\"}],[\"Employees\",{\"type\":\"ndarray\",\"array\":{\"type\":\"bytes\",\"data\":\"AAAAAEBW9EAAAAAAAL3vQAAAAAAAmuBAAAAAAABh2UAAAAAAAIjTQAAAAAAAcMdAAAAAAAAYxUAAAAAAACrCQAAAAAAAc8BAAAAAAACfukAAAAAAADK5QAAAAAAAb7NAAAAAAAD/sUAAAAAAADKpQAAAAAAAuqFAAAAAAAAwoUAAAAAAACCcQAAAAAAAvJtAAAAAAAAQjkAAAAAAANCNQAAAAAAASIxAAAAAAAAoiEAAAAAAABiIQAAAAAAAkIVAAAAAAABwgkAAAAAAAHB5QAAAAAAA4HdAAAAAAADgYkAAAAAAAIBUQAAAAAAAAEhAAAAAAAAASEA=\"},\"shape\":[31],\"dtype\":\"float64\",\"order\":\"little\"}],[\"c_col\",{\"type\":\"ndarray\",\"array\":[\"#A50026\",\"#A50026\",\"#A50026\",\"#A50026\",\"#A50026\",\"#A50026\",\"#A50026\",\"#A50026\",\"#A50026\",\"#A50026\",\"#A50026\",\"#A50026\",\"#A50026\",\"#A50026\",\"#A50026\",\"#A50026\",\"#A50026\",\"#A50026\",\"#A50026\",\"#A50026\",\"#A50026\",\"#A50026\",\"#A50026\",\"#A50026\",\"#A50026\",\"#A50026\",\"#A50026\",\"#A50026\",\"#A50026\",\"#A50026\",\"#A50026\"],\"shape\":[31],\"dtype\":\"object\",\"order\":\"little\"}],[\"circle_size\",{\"type\":\"ndarray\",\"array\":{\"type\":\"bytes\",\"data\":\"3EqIic3+QEB8bRd0jJ9AQCSGI2xsTT9AROibmAx/PkAycvy16rU9QHxxHNygLTxADXq39bfcO0Bht7XC42k7QGAqxey8HTtA0lyhVSh7OkA2Mel+41A6QLyzEFSCiTlABgIkdYBOOUAme4ywqzw4QCiNFjm/LjdAWBFSUgoXN0BOffO0AH02QDNR9G9EcjZAqVYQdjOcNEAF391Xy5U0QD/mkZlXbTRAGS8wPmj0M0Cm5e2Na/IzQKRFL5hKnTNAY4tjFTwlM0CrwHQ3pwgyQNj7XUMX2DFA+EbwM64kLkDDVhTUVoMqQMHDpQLWWSdAwcOlAtZZJ0A=\"},\"shape\":[31],\"dtype\":\"float64\",\"order\":\"little\"}]]}}},\"view\":{\"type\":\"object\",\"name\":\"CDSView\",\"id\":\"p2880\",\"attributes\":{\"filter\":{\"type\":\"object\",\"name\":\"AllIndices\",\"id\":\"p2881\"}}},\"glyph\":{\"type\":\"object\",\"name\":\"Scatter\",\"id\":\"p2876\",\"attributes\":{\"x\":{\"type\":\"field\",\"field\":\"Employees\"},\"y\":{\"type\":\"field\",\"field\":\"Market Cap\"},\"size\":{\"type\":\"value\",\"value\":5},\"line_color\":{\"type\":\"value\",\"value\":null},\"line_alpha\":{\"type\":\"value\",\"value\":0.6},\"fill_color\":{\"type\":\"field\",\"field\":\"c_col\"},\"fill_alpha\":{\"type\":\"value\",\"value\":0.6},\"hatch_color\":{\"type\":\"field\",\"field\":\"c_col\"},\"hatch_alpha\":{\"type\":\"value\",\"value\":0.6}}},\"nonselection_glyph\":{\"type\":\"object\",\"name\":\"Scatter\",\"id\":\"p2877\",\"attributes\":{\"x\":{\"type\":\"field\",\"field\":\"Employees\"},\"y\":{\"type\":\"field\",\"field\":\"Market Cap\"},\"size\":{\"type\":\"value\",\"value\":5},\"line_color\":{\"type\":\"value\",\"value\":null},\"line_alpha\":{\"type\":\"value\",\"value\":0.1},\"fill_color\":{\"type\":\"field\",\"field\":\"c_col\"},\"fill_alpha\":{\"type\":\"value\",\"value\":0.1},\"hatch_color\":{\"type\":\"field\",\"field\":\"c_col\"},\"hatch_alpha\":{\"type\":\"value\",\"value\":0.1}}},\"muted_glyph\":{\"type\":\"object\",\"name\":\"Scatter\",\"id\":\"p2878\",\"attributes\":{\"x\":{\"type\":\"field\",\"field\":\"Employees\"},\"y\":{\"type\":\"field\",\"field\":\"Market Cap\"},\"size\":{\"type\":\"value\",\"value\":5},\"line_color\":{\"type\":\"value\",\"value\":null},\"line_alpha\":{\"type\":\"value\",\"value\":0.2},\"fill_color\":{\"type\":\"field\",\"field\":\"c_col\"},\"fill_alpha\":{\"type\":\"value\",\"value\":0.2},\"hatch_color\":{\"type\":\"field\",\"field\":\"c_col\"},\"hatch_alpha\":{\"type\":\"value\",\"value\":0.2}}}}},{\"type\":\"object\",\"name\":\"GlyphRenderer\",\"id\":\"p2884\",\"attributes\":{\"data_source\":{\"id\":\"p2841\"},\"view\":{\"type\":\"object\",\"name\":\"CDSView\",\"id\":\"p2885\",\"attributes\":{\"filter\":{\"type\":\"object\",\"name\":\"AllIndices\",\"id\":\"p2886\"}}},\"glyph\":{\"type\":\"object\",\"name\":\"Text\",\"id\":\"p2883\",\"attributes\":{\"x\":{\"type\":\"field\",\"field\":\"Employees\"},\"y\":{\"type\":\"field\",\"field\":\"Market Cap\"},\"text\":{\"type\":\"field\",\"field\":\"Symbol\"},\"text_color\":{\"type\":\"value\",\"value\":\"gray\"},\"text_alpha\":{\"type\":\"value\",\"value\":0.8},\"text_font_size\":{\"type\":\"value\",\"value\":\"6pt\"},\"text_align\":{\"type\":\"value\",\"value\":\"center\"},\"text_baseline\":{\"type\":\"value\",\"value\":\"middle\"}}}}}],\"toolbar\":{\"type\":\"object\",\"name\":\"Toolbar\",\"id\":\"p2855\",\"attributes\":{\"logo\":null,\"tools\":[{\"type\":\"object\",\"name\":\"PanTool\",\"id\":\"p2868\"},{\"type\":\"object\",\"name\":\"WheelZoomTool\",\"id\":\"p2869\",\"attributes\":{\"renderers\":\"auto\"}},{\"type\":\"object\",\"name\":\"ResetTool\",\"id\":\"p2870\"},{\"type\":\"object\",\"name\":\"HoverTool\",\"id\":\"p2882\",\"attributes\":{\"renderers\":[{\"id\":\"p2879\"}],\"tooltips\":[[\"symbol\",\"@Symbol\"],[\"market cap\",\"@{Market Cap}{0,0.00 a}\"],[\"employees\",\"@{Employees}\"]]}}]}},\"right\":[{\"type\":\"object\",\"name\":\"LogAxis\",\"id\":\"p2863\",\"attributes\":{\"ticker\":{\"type\":\"object\",\"name\":\"LogTicker\",\"id\":\"p2864\",\"attributes\":{\"num_minor_ticks\":10,\"mantissas\":[1,5]}},\"formatter\":{\"type\":\"object\",\"name\":\"NumeralTickFormatter\",\"id\":\"p2872\",\"attributes\":{\"format\":\"0,0.00 a\"}},\"axis_label\":\"Market Cap in Billion USD\",\"axis_label_standoff\":10,\"axis_label_text_color\":\"#E0E0E0\",\"axis_label_text_font\":\"Helvetica\",\"axis_label_text_font_size\":\"1.25em\",\"axis_label_text_font_style\":\"normal\",\"major_label_policy\":{\"type\":\"object\",\"name\":\"AllLabels\",\"id\":\"p2866\"},\"major_label_text_color\":\"#E0E0E0\",\"major_label_text_font\":\"Helvetica\",\"major_label_text_font_size\":\"1.025em\",\"axis_line_color\":\"#E0E0E0\",\"axis_line_alpha\":0,\"major_tick_line_color\":\"#E0E0E0\",\"major_tick_line_alpha\":0,\"minor_tick_line_color\":\"#E0E0E0\",\"minor_tick_line_alpha\":0}}],\"below\":[{\"type\":\"object\",\"name\":\"LogAxis\",\"id\":\"p2858\",\"attributes\":{\"ticker\":{\"type\":\"object\",\"name\":\"LogTicker\",\"id\":\"p2859\",\"attributes\":{\"num_minor_ticks\":10,\"mantissas\":[1,5]}},\"formatter\":{\"type\":\"object\",\"name\":\"NumeralTickFormatter\",\"id\":\"p2871\",\"attributes\":{\"format\":\"0,0 a\"}},\"axis_label\":\"Number of Employees\",\"axis_label_standoff\":10,\"axis_label_text_color\":\"#E0E0E0\",\"axis_label_text_font\":\"Helvetica\",\"axis_label_text_font_size\":\"1.25em\",\"axis_label_text_font_style\":\"normal\",\"major_label_policy\":{\"type\":\"object\",\"name\":\"AllLabels\",\"id\":\"p2861\"},\"major_label_text_color\":\"#E0E0E0\",\"major_label_text_font\":\"Helvetica\",\"major_label_text_font_size\":\"1.025em\",\"axis_line_color\":\"#E0E0E0\",\"axis_line_alpha\":0,\"major_tick_line_color\":\"#E0E0E0\",\"major_tick_line_alpha\":0,\"minor_tick_line_color\":\"#E0E0E0\",\"minor_tick_line_alpha\":0}}],\"center\":[{\"type\":\"object\",\"name\":\"Grid\",\"id\":\"p2862\",\"attributes\":{\"axis\":{\"id\":\"p2858\"},\"grid_line_color\":\"#E0E0E0\",\"grid_line_alpha\":0.25}},{\"type\":\"object\",\"name\":\"Grid\",\"id\":\"p2867\",\"attributes\":{\"dimension\":1,\"axis\":{\"id\":\"p2863\"},\"grid_line_color\":\"#E0E0E0\",\"grid_line_alpha\":0.25}}],\"background_fill_color\":\"#fafafa\",\"border_fill_color\":\"#15191C\",\"min_border_top\":45,\"min_border\":20}},{\"type\":\"object\",\"name\":\"Slider\",\"id\":\"p2907\",\"attributes\":{\"margin\":[5,10,10,20],\"title\":\"Market Cap Lower Bound in Billion (USD)\",\"start\":0,\"end\":100,\"value\":0}},{\"type\":\"object\",\"name\":\"Div\",\"id\":\"p2908\",\"attributes\":{\"width\":200,\"height\":100,\"text\":\"This map shows the geographic distribution of tech companies in the US.\"}},{\"type\":\"object\",\"name\":\"Button\",\"id\":\"p2767\",\"attributes\":{\"subscribed_events\":{\"type\":\"set\",\"entries\":[\"button_click\"]},\"width\":60,\"label\":\"\\u25ba Play\"}}]}}]}}]}};\n  const render_items = [{\"docid\":\"878fbe6f-a113-400a-9d91-a98dd539fd8c\",\"roots\":{\"p2910\":\"d2184693-97b0-464f-a4af-6eb3bee60201\"},\"root_ids\":[\"p2910\"]}];\n  root.Bokeh.embed.embed_items_notebook(docs_json, render_items);\n  }\n  if (root.Bokeh !== undefined) {\n    embed_document(root);\n  } else {\n    let attempts = 0;\n    const timer = setInterval(function(root) {\n      if (root.Bokeh !== undefined) {\n        clearInterval(timer);\n        embed_document(root);\n      } else {\n        attempts++;\n        if (attempts > 100) {\n          clearInterval(timer);\n          console.log(\"Bokeh: ERROR: Unable to run BokehJS code because BokehJS library is missing\");\n        }\n      }\n    }, 10, root)\n  }\n})(window);",
      "application/vnd.bokehjs_exec.v0+json": ""
     },
     "metadata": {
      "application/vnd.bokehjs_exec.v0+json": {
       "id": "p2910"
      }
     },
     "output_type": "display_data"
    }
   ],
   "source": [
    "show(layout)"
   ],
   "metadata": {
    "collapsed": false,
    "ExecuteTime": {
     "end_time": "2024-05-25T13:57:09.013504400Z",
     "start_time": "2024-05-25T13:57:08.906353600Z"
    }
   },
   "id": "a6c39f744c968ed1"
  },
  {
   "cell_type": "code",
   "execution_count": 312,
   "outputs": [],
   "source": [],
   "metadata": {
    "collapsed": false,
    "ExecuteTime": {
     "end_time": "2024-05-25T13:57:09.023509100Z",
     "start_time": "2024-05-25T13:57:08.988172700Z"
    }
   },
   "id": "c9020f9ac2aa2cff"
  },
  {
   "cell_type": "code",
   "execution_count": null,
   "outputs": [],
   "source": [],
   "metadata": {
    "collapsed": false
   },
   "id": "a5c57ac6c33b9b62"
  }
 ],
 "metadata": {
  "kernelspec": {
   "display_name": "Python 3",
   "language": "python",
   "name": "python3"
  },
  "language_info": {
   "codemirror_mode": {
    "name": "ipython",
    "version": 2
   },
   "file_extension": ".py",
   "mimetype": "text/x-python",
   "name": "python",
   "nbconvert_exporter": "python",
   "pygments_lexer": "ipython2",
   "version": "2.7.6"
  }
 },
 "nbformat": 4,
 "nbformat_minor": 5
}
